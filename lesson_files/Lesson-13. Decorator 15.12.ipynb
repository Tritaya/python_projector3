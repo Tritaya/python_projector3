{
 "cells": [
  {
   "cell_type": "markdown",
   "id": "a88ce247",
   "metadata": {},
   "source": [
    "### Lesson 13. Decorator. Date: 15.12.22\n",
    "Topic:\n",
    "> 1. Inner Function\n",
    "> 2. Decorator \n",
    "> 3. Syntex sugar\n",
    "\n",
    "Materials:\n",
    "> 1. [Decorator]('https://www.programiz.com/python-programming/decorator')"
   ]
  },
  {
   "cell_type": "markdown",
   "id": "18095e8f",
   "metadata": {},
   "source": [
    "# Decorator\n",
    "\n",
    "## Functions"
   ]
  },
  {
   "cell_type": "code",
   "execution_count": null,
   "id": "7a98d303",
   "metadata": {},
   "outputs": [],
   "source": []
  },
  {
   "cell_type": "code",
   "execution_count": 63,
   "id": "a415433e",
   "metadata": {},
   "outputs": [
    {
     "name": "stdout",
     "output_type": "stream",
     "text": [
      "4\n"
     ]
    }
   ],
   "source": [
    "def increase(value):\n",
    "    return value + 1\n",
    "\n",
    "print(increase(3))"
   ]
  },
  {
   "cell_type": "code",
   "execution_count": 64,
   "id": "66f197ad",
   "metadata": {},
   "outputs": [
    {
     "data": {
      "text/plain": [
       "function"
      ]
     },
     "execution_count": 64,
     "metadata": {},
     "output_type": "execute_result"
    }
   ],
   "source": [
    "def increase(value):\n",
    "    return value + 1\n",
    "\n",
    "type(increase)"
   ]
  },
  {
   "cell_type": "code",
   "execution_count": null,
   "id": "fd852573",
   "metadata": {},
   "outputs": [],
   "source": []
  },
  {
   "cell_type": "code",
   "execution_count": 69,
   "id": "b0fb7c0d",
   "metadata": {},
   "outputs": [],
   "source": [
    "def warning(value):\n",
    "    return f'!!{value}!!'\n",
    "\n",
    "def line(value):\n",
    "    return f'||{value}||'\n",
    "\n",
    "def prettify(func):\n",
    "    return func('Name')"
   ]
  },
  {
   "cell_type": "code",
   "execution_count": 67,
   "id": "264944cb",
   "metadata": {},
   "outputs": [
    {
     "data": {
      "text/plain": [
       "'!!Name!!'"
      ]
     },
     "execution_count": 67,
     "metadata": {},
     "output_type": "execute_result"
    }
   ],
   "source": [
    "prettify(warning)"
   ]
  },
  {
   "cell_type": "code",
   "execution_count": 68,
   "id": "6b722fe2",
   "metadata": {},
   "outputs": [
    {
     "data": {
      "text/plain": [
       "'||Name||'"
      ]
     },
     "execution_count": 68,
     "metadata": {},
     "output_type": "execute_result"
    }
   ],
   "source": [
    "prettify(line)"
   ]
  },
  {
   "cell_type": "code",
   "execution_count": 1,
   "id": "0a662eb0",
   "metadata": {},
   "outputs": [],
   "source": [
    "## Inner Functions"
   ]
  },
  {
   "cell_type": "code",
   "execution_count": 70,
   "id": "4b86e33c",
   "metadata": {},
   "outputs": [
    {
     "name": "stdout",
     "output_type": "stream",
     "text": [
      "Parent function\n",
      "Second child function\n",
      "First child function\n"
     ]
    }
   ],
   "source": [
    "def main():\n",
    "    print(\"Parent function\")\n",
    "\n",
    "    def first():\n",
    "        print(\"First child function\")\n",
    "\n",
    "    def second():\n",
    "        print(\"Second child function\")\n",
    "\n",
    "    second()\n",
    "    first()\n",
    "    \n",
    "main()"
   ]
  },
  {
   "cell_type": "code",
   "execution_count": 78,
   "id": "fa45cd68",
   "metadata": {},
   "outputs": [],
   "source": [
    "## Return function\n",
    "\n",
    "def main(value: int):\n",
    "    def first():\n",
    "        return \"First function\"\n",
    "\n",
    "    def second():\n",
    "        return \"Second function\"\n",
    "\n",
    "    if value == 2:\n",
    "        return second\n",
    "\n",
    "    return first"
   ]
  },
  {
   "cell_type": "code",
   "execution_count": 79,
   "id": "bd85ed9f",
   "metadata": {},
   "outputs": [
    {
     "name": "stdout",
     "output_type": "stream",
     "text": [
      "First function\n"
     ]
    }
   ],
   "source": [
    "obj = main(0)\n",
    "print(obj())"
   ]
  },
  {
   "cell_type": "code",
   "execution_count": 80,
   "id": "387f3426",
   "metadata": {},
   "outputs": [
    {
     "name": "stdout",
     "output_type": "stream",
     "text": [
      "First function\n",
      "Second function\n"
     ]
    }
   ],
   "source": [
    "first = main(1)\n",
    "print(first())\n",
    "second = main(2)\n",
    "print(second())"
   ]
  },
  {
   "cell_type": "code",
   "execution_count": null,
   "id": "2354a480",
   "metadata": {},
   "outputs": [],
   "source": []
  },
  {
   "cell_type": "code",
   "execution_count": 81,
   "id": "518ad82b",
   "metadata": {},
   "outputs": [],
   "source": [
    "def hello():\n",
    "    print(\"Hello world\")\n",
    "\n",
    "def decorator(func):\n",
    "    def wrapper():\n",
    "        print(\"!!!!!! Before !!!!!!\")\n",
    "        func()\n",
    "        print(\"!!!!!! After !!!!!!\")\n",
    "    return wrapper\n",
    "\n",
    "\n",
    "def bye():\n",
    "    print(\"Bye world\")\n",
    "\n",
    "say_hello = decorator(hello)\n",
    "say_bye = decorator(bye)"
   ]
  },
  {
   "cell_type": "code",
   "execution_count": 85,
   "id": "3501f975",
   "metadata": {},
   "outputs": [
    {
     "name": "stdout",
     "output_type": "stream",
     "text": [
      "Hello world\n",
      "Bye world\n"
     ]
    },
    {
     "data": {
      "text/plain": [
       "(None, None)"
      ]
     },
     "execution_count": 85,
     "metadata": {},
     "output_type": "execute_result"
    }
   ],
   "source": [
    "hello(), bye()"
   ]
  },
  {
   "cell_type": "code",
   "execution_count": 82,
   "id": "6b5c09b6",
   "metadata": {},
   "outputs": [
    {
     "name": "stdout",
     "output_type": "stream",
     "text": [
      "!!!!!! Before !!!!!!\n",
      "Hello world\n",
      "!!!!!! After !!!!!!\n"
     ]
    }
   ],
   "source": [
    "say_hello()"
   ]
  },
  {
   "cell_type": "code",
   "execution_count": 83,
   "id": "863aef27",
   "metadata": {},
   "outputs": [
    {
     "name": "stdout",
     "output_type": "stream",
     "text": [
      "!!!!!! Before !!!!!!\n",
      "Bye world\n",
      "!!!!!! After !!!!!!\n"
     ]
    }
   ],
   "source": [
    "say_bye()"
   ]
  },
  {
   "cell_type": "code",
   "execution_count": 88,
   "id": "039f9e5a",
   "metadata": {},
   "outputs": [],
   "source": [
    "from datetime import datetime\n",
    "\n",
    "def decorator(func):\n",
    "    def wrapper():\n",
    "        print(f'Start: {datetime.now()}')\n",
    "        func()\n",
    "        print(f'End: {datetime.now()}')\n",
    "    return wrapper\n",
    "\n",
    "def build_list():\n",
    "    _list = []\n",
    "    for i in range(10_0000_000):\n",
    "        _list.append(i)\n",
    "\n",
    "calculate_build_list = decorator(build_list)"
   ]
  },
  {
   "cell_type": "code",
   "execution_count": 89,
   "id": "ca88f9ee",
   "metadata": {},
   "outputs": [
    {
     "name": "stdout",
     "output_type": "stream",
     "text": [
      "Start: 2022-12-15 19:49:17.941465\n",
      "End: 2022-12-15 19:49:36.995903\n"
     ]
    }
   ],
   "source": [
    "calculate_build_list()"
   ]
  },
  {
   "cell_type": "code",
   "execution_count": null,
   "id": "955ce819",
   "metadata": {},
   "outputs": [],
   "source": [
    "def build_huge_list():\n",
    "    _list = []\n",
    "    for i in range(100_000_000):\n",
    "        _list.append(i)\n",
    "\n",
    "build = decorator(build_huge_list)"
   ]
  },
  {
   "cell_type": "code",
   "execution_count": null,
   "id": "8f769615",
   "metadata": {},
   "outputs": [],
   "source": [
    "build()"
   ]
  },
  {
   "cell_type": "code",
   "execution_count": null,
   "id": "408f9a58",
   "metadata": {},
   "outputs": [],
   "source": []
  },
  {
   "cell_type": "code",
   "execution_count": 94,
   "id": "e60aab78",
   "metadata": {},
   "outputs": [],
   "source": [
    "\n",
    "from datetime import datetime\n",
    "\n",
    "def decorator(func):\n",
    "    def wrapper():\n",
    "        print(f'Start: {datetime.now()}')\n",
    "        func()\n",
    "        print(f'End: {datetime.now()}')\n",
    "    return wrapper\n",
    "\n",
    "@decorator\n",
    "def hello():\n",
    "    print(\"Hello world\")\n",
    "\n",
    "@decorator\n",
    "def bye():\n",
    "    print(\"bye world\")"
   ]
  },
  {
   "cell_type": "code",
   "execution_count": 91,
   "id": "02be2861",
   "metadata": {},
   "outputs": [
    {
     "name": "stdout",
     "output_type": "stream",
     "text": [
      "Start: 2022-12-15 19:51:32.692253\n",
      "Hello world\n",
      "End: 2022-12-15 19:51:32.693258\n"
     ]
    }
   ],
   "source": [
    "hello2()"
   ]
  },
  {
   "cell_type": "code",
   "execution_count": 92,
   "id": "fcdabb29",
   "metadata": {},
   "outputs": [
    {
     "name": "stdout",
     "output_type": "stream",
     "text": [
      "Start: 2022-12-15 19:51:39.644471\n",
      "bye world\n",
      "End: 2022-12-15 19:51:39.644866\n"
     ]
    }
   ],
   "source": [
    "bye()"
   ]
  },
  {
   "cell_type": "code",
   "execution_count": null,
   "id": "c3d6bd33",
   "metadata": {},
   "outputs": [],
   "source": []
  },
  {
   "cell_type": "code",
   "execution_count": 105,
   "id": "3fe22372",
   "metadata": {},
   "outputs": [
    {
     "name": "stdout",
     "output_type": "stream",
     "text": [
      "Hello world!\n",
      "Hello world!\n"
     ]
    }
   ],
   "source": [
    "def duplicate_exec(func):\n",
    "    def wrapper():\n",
    "        func()\n",
    "        func()\n",
    "    return wrapper\n",
    "\n",
    "\n",
    "@duplicate_exec\n",
    "def hello():\n",
    "    print(\"Hello world!\")\n",
    "\n",
    "# hello = duplicate_exec(hello)\n",
    "\n",
    "hello()"
   ]
  },
  {
   "cell_type": "markdown",
   "id": "41b6ac90",
   "metadata": {},
   "source": [
    "## Arguments in decorator"
   ]
  },
  {
   "cell_type": "code",
   "execution_count": 106,
   "id": "d418853a",
   "metadata": {},
   "outputs": [],
   "source": [
    "def duplicate_exec(func):\n",
    "    def wrapper(*args, **kwargs):\n",
    "        func(*args, **kwargs)\n",
    "        func(*args, **kwargs)\n",
    "    return wrapper"
   ]
  },
  {
   "cell_type": "code",
   "execution_count": 116,
   "id": "62f82b5c",
   "metadata": {
    "scrolled": true
   },
   "outputs": [
    {
     "name": "stdout",
     "output_type": "stream",
     "text": [
      "Hello Sasha\n",
      "Hello Sasha\n"
     ]
    }
   ],
   "source": [
    "@duplicate_exec\n",
    "def hello(*args):\n",
    "    named = tuple(i for i in args)\n",
    "    for i in named:\n",
    "        print('Hello', i)\n",
    "    \n",
    "\n",
    "\n",
    "hello('Sasha')"
   ]
  },
  {
   "cell_type": "code",
   "execution_count": null,
   "id": "fa8d675e",
   "metadata": {},
   "outputs": [],
   "source": [
    "# Task 1. Створити декортар до функції hello. 1 - випадок тільки імя на вхід, \n",
    "імя і призвіще, 3 - випадок 2 + вік"
   ]
  },
  {
   "cell_type": "code",
   "execution_count": 118,
   "id": "92cfd7bb",
   "metadata": {},
   "outputs": [],
   "source": [
    "# Solve by Valentyna\n",
    "def dec_task1(func):\n",
    "    def wrapper(*args, **kwargs):\n",
    "        func()\n",
    "        print(*args, **kwargs)\n",
    "    return wrapper\n",
    "\n",
    "@dec_task1\n",
    "def hello():\n",
    "    print('Hello')"
   ]
  },
  {
   "cell_type": "code",
   "execution_count": 119,
   "id": "523103eb",
   "metadata": {},
   "outputs": [
    {
     "name": "stdout",
     "output_type": "stream",
     "text": [
      "Hello\n",
      "a b c\n"
     ]
    }
   ],
   "source": [
    "hello('a', 'b', 'c')"
   ]
  },
  {
   "cell_type": "code",
   "execution_count": 121,
   "id": "721cfea1",
   "metadata": {},
   "outputs": [
    {
     "name": "stdout",
     "output_type": "stream",
     "text": [
      "Hello Sasha!\n",
      "Hello Sasha!\n"
     ]
    }
   ],
   "source": [
    "@duplicate_exec\n",
    "def hello(name):\n",
    "    print(f\"Hello {name}!\")\n",
    "\n",
    "\n",
    "hello('Sasha')"
   ]
  },
  {
   "cell_type": "code",
   "execution_count": 122,
   "id": "7e7c38f3",
   "metadata": {},
   "outputs": [],
   "source": [
    "def duplicate_exec(func):\n",
    "    def wrapper(*args, **kwargs):\n",
    "        func(*args, **kwargs)\n",
    "        return func(*args, **kwargs)\n",
    "    return wrapper"
   ]
  },
  {
   "cell_type": "code",
   "execution_count": 123,
   "id": "6c38063e",
   "metadata": {},
   "outputs": [
    {
     "name": "stdout",
     "output_type": "stream",
     "text": [
      "Hello Sasha!\n",
      "Hello Sasha!\n"
     ]
    }
   ],
   "source": [
    "hello('Sasha')"
   ]
  },
  {
   "cell_type": "code",
   "execution_count": null,
   "id": "4fb8f33e",
   "metadata": {},
   "outputs": [],
   "source": []
  },
  {
   "cell_type": "markdown",
   "id": "2ba9a291",
   "metadata": {},
   "source": [
    "### How to return values from decorator"
   ]
  },
  {
   "cell_type": "code",
   "execution_count": 125,
   "id": "73c08146",
   "metadata": {},
   "outputs": [
    {
     "name": "stdout",
     "output_type": "stream",
     "text": [
      "Hello World!\n",
      "Hello World!\n",
      "Hello World!\n"
     ]
    }
   ],
   "source": [
    "@duplicate_exec\n",
    "def hello(name):\n",
    "    value = f\"Hello {name}!\"\n",
    "    print(value)\n",
    "    return value\n",
    "\n",
    "\n",
    "name_var = hello('World')\n",
    "\n",
    "print(name_var)"
   ]
  },
  {
   "cell_type": "code",
   "execution_count": 150,
   "id": "e3f55411",
   "metadata": {},
   "outputs": [],
   "source": [
    "def memoize(func):\n",
    "    cache = dict()\n",
    "    def wrapper(*args, **kwargs):\n",
    "        key = str(args) + str(kwargs)\n",
    "        if key not in cache:\n",
    "            cache[key] = func(*args, **kwargs)\n",
    "        else:\n",
    "            return 'memoize'\n",
    "        return cache[key]\n",
    "    return wrapper\n",
    "\n",
    "\n",
    "@memoize\n",
    "def hii(*args):\n",
    "    print('hello')"
   ]
  },
  {
   "cell_type": "code",
   "execution_count": 151,
   "id": "685bdd7f",
   "metadata": {},
   "outputs": [
    {
     "name": "stdout",
     "output_type": "stream",
     "text": [
      "hello\n"
     ]
    },
    {
     "ename": "AttributeError",
     "evalue": "'NoneType' object has no attribute '__name__'",
     "output_type": "error",
     "traceback": [
      "\u001b[0;31m---------------------------------------------------------------------------\u001b[0m",
      "\u001b[0;31mAttributeError\u001b[0m                            Traceback (most recent call last)",
      "Cell \u001b[0;32mIn [151], line 2\u001b[0m\n\u001b[1;32m      1\u001b[0m a \u001b[38;5;241m=\u001b[39m hii()\n\u001b[0;32m----> 2\u001b[0m \u001b[43ma\u001b[49m\u001b[38;5;241;43m.\u001b[39;49m\u001b[38;5;18;43m__name__\u001b[39;49m\n",
      "\u001b[0;31mAttributeError\u001b[0m: 'NoneType' object has no attribute '__name__'"
     ]
    }
   ],
   "source": [
    "a = hii()\n",
    "a.__name__"
   ]
  },
  {
   "cell_type": "markdown",
   "id": "60d5dc35",
   "metadata": {},
   "source": [
    "### Reveal proper function name"
   ]
  },
  {
   "cell_type": "code",
   "execution_count": 126,
   "id": "64bfecad",
   "metadata": {},
   "outputs": [
    {
     "data": {
      "text/plain": [
       "'wrapper'"
      ]
     },
     "execution_count": 126,
     "metadata": {},
     "output_type": "execute_result"
    }
   ],
   "source": [
    "hello.__name__"
   ]
  },
  {
   "cell_type": "code",
   "execution_count": 51,
   "id": "9f6fb036",
   "metadata": {},
   "outputs": [],
   "source": [
    "import functools\n",
    "\n",
    "def duplicate_exec(func):\n",
    "    @functools.wraps(func)\n",
    "    def wrapper(*args, **kwargs):\n",
    "        func(*args, **kwargs)\n",
    "        return func(*args, **kwargs)\n",
    "    return wrapper"
   ]
  },
  {
   "cell_type": "code",
   "execution_count": 136,
   "id": "c5fdc063",
   "metadata": {},
   "outputs": [],
   "source": [
    "@duplicate_exec\n",
    "def hello_function(name: str) -> str:\n",
    "    \"\"\"_summary_\n",
    "\n",
    "    Args:\n",
    "        name (str): _description_\n",
    "\n",
    "    Returns:\n",
    "        str: _description_\n",
    "    \"\"\"\n",
    "    return f\"Hello {name}!\"\n",
    "\n",
    "hello_function.__name__\n",
    "hello_function.__annotations__\n",
    "hello_function.__doc__\n",
    "# dir(hello_function)"
   ]
  },
  {
   "cell_type": "code",
   "execution_count": 53,
   "id": "cdd67646",
   "metadata": {},
   "outputs": [
    {
     "name": "stdout",
     "output_type": "stream",
     "text": [
      "Help on function hello_function in module __main__:\n",
      "\n",
      "hello_function(name: str) -> str\n",
      "    _summary_\n",
      "    \n",
      "    Args:\n",
      "        name (str): _description_\n",
      "    \n",
      "    Returns:\n",
      "        str: _description_\n",
      "\n"
     ]
    }
   ],
   "source": [
    "help(hello_function)"
   ]
  },
  {
   "cell_type": "markdown",
   "id": "5e91bb33",
   "metadata": {},
   "source": [
    "## Few decorators"
   ]
  },
  {
   "cell_type": "code",
   "execution_count": 57,
   "id": "25304c28",
   "metadata": {},
   "outputs": [],
   "source": [
    "def make_bold(func):\n",
    "    @functools.wraps(func)\n",
    "    def wrapper(*args, **kwargs):\n",
    "        return \"**\" + func(*args, **kwargs) + \"**\"\n",
    "    return wrapper\n",
    "\n",
    "def make_italic(func):\n",
    "    @functools.wraps(func)\n",
    "    def wrapper(*args, **kwargs):\n",
    "        return \"__\" + func(*args, **kwargs) + \"__\"\n",
    "    return wrapper"
   ]
  },
  {
   "cell_type": "code",
   "execution_count": 58,
   "id": "3a23a4f3",
   "metadata": {},
   "outputs": [
    {
     "name": "stdout",
     "output_type": "stream",
     "text": [
      "**__Hello my_name!__**\n"
     ]
    }
   ],
   "source": [
    "@make_bold\n",
    "@make_italic\n",
    "def hello(name):\n",
    "    return f\"Hello {name}!\"\n",
    "\n",
    "result = hello('my_name')\n",
    "print(result)"
   ]
  },
  {
   "cell_type": "markdown",
   "id": "cb04e0a1",
   "metadata": {},
   "source": [
    "### Decorators With Arguments"
   ]
  },
  {
   "cell_type": "code",
   "execution_count": 24,
   "id": "b2f45c55",
   "metadata": {},
   "outputs": [
    {
     "name": "stdout",
     "output_type": "stream",
     "text": [
      "Hello, Name\n",
      "Hello, Name\n",
      "Hello, Name\n",
      "Hello, Name\n",
      "Hello, Name\n"
     ]
    }
   ],
   "source": [
    "@repeat(num_times=4)\n",
    "def hello(name):\n",
    "    print(f'Hello, {name}')\n",
    "    return f\"Hello, {name}\"\n",
    "\n",
    "\n",
    "name = hello('Name')\n",
    "# print(name)"
   ]
  },
  {
   "cell_type": "code",
   "execution_count": 22,
   "id": "38f2a819",
   "metadata": {},
   "outputs": [],
   "source": [
    "def repeat(num_times):\n",
    "\n",
    "    def decorator_repeat(func):\n",
    "\n",
    "        @functools.wraps(func)\n",
    "        def wrapper_repeat(*args, **kwargs):\n",
    "            for _ in range(num_times):\n",
    "                value = func(*args, **kwargs)\n",
    "            return value\n",
    "\n",
    "        return wrapper_repeat\n",
    "\n",
    "    return decorator_repeat"
   ]
  },
  {
   "cell_type": "markdown",
   "id": "ab15ab2c",
   "metadata": {},
   "source": [
    "## Practice\n",
    "\n",
    "1. Create a decorator that will check types. It should take a function with arguments and validate inputs with annotations.\n",
    "\n",
    "Example:\n",
    "\n",
    "    @check_types\n",
    "    def add(a: int, b: int) -> int:\n",
    "        return a + b\n",
    "\n",
    "    add(1, 2)\n",
    "    > 3\n",
    "\n",
    "    add(1, \"2\")\n",
    "    > TypeError: Argument b must be int, not str\n",
    "\n",
    "2. Write a decorator that will calculate the execution time of a function.\n",
    "\n",
    "Example:\n",
    "    \n",
    "        @calculate_execution_time\n",
    "        def add(a: int, b: int) -> int:\n",
    "            return a + b\n",
    "    \n",
    "        add(1, 2)\n",
    "        > 3\n",
    "        > Execution time: 0.0005 seconds"
   ]
  },
  {
   "cell_type": "code",
   "execution_count": null,
   "id": "0df3764a",
   "metadata": {},
   "outputs": [],
   "source": []
  }
 ],
 "metadata": {
  "kernelspec": {
   "display_name": "Python 3 (ipykernel)",
   "language": "python",
   "name": "python3"
  },
  "language_info": {
   "codemirror_mode": {
    "name": "ipython",
    "version": 3
   },
   "file_extension": ".py",
   "mimetype": "text/x-python",
   "name": "python",
   "nbconvert_exporter": "python",
   "pygments_lexer": "ipython3",
   "version": "3.10.8"
  }
 },
 "nbformat": 4,
 "nbformat_minor": 5
}
