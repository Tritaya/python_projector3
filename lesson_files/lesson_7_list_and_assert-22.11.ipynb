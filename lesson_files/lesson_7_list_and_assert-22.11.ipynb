{
 "cells": [
  {
   "cell_type": "markdown",
   "id": "e6b1df34",
   "metadata": {},
   "source": [
    "### Lesson 7. Assert, Lists, Function. 22.11 \n",
    "> **Topic**: \\\n",
    "> **1.** Assert \\\n",
    "> **2.** Lists and function \\\n",
    "> **3.** Practise \n",
    "\n",
    "> **Materials:**\n",
    "> 1. [Asserts](https://realpython.com/python-assert-statement/)\n",
    "> 2. [Lists and tutple](https://realpython.com/python-lists-tuples/)\n",
    "> 3. [Lists](https://pyneng.readthedocs.io/ru/latest/book/04_data_structures/lists.html)\n",
    "> 4. [Try to solve simple task](https://www.codewars.com/dashboard)\n"
   ]
  },
  {
   "cell_type": "markdown",
   "id": "91d6471e",
   "metadata": {},
   "source": [
    "Контрольні запитання: \n",
    ">    **1.** Різниця Tutple/List \\\n",
    ">    **2.** Що виведе наступний код: tuple_ = ('tuple_element') \\\n",
    ">    **3.** Навіщо існують різни типи даних? \\\n",
    ">    **4.** Що таке колекція? "
   ]
  },
  {
   "cell_type": "code",
   "execution_count": null,
   "id": "f420f135",
   "metadata": {},
   "outputs": [],
   "source": []
  },
  {
   "cell_type": "code",
   "execution_count": null,
   "id": "2663dc7a",
   "metadata": {},
   "outputs": [],
   "source": [
    "### Assert - оператор перевірки, повертає True/False якщо тест пройшов або ні"
   ]
  },
  {
   "cell_type": "code",
   "execution_count": 171,
   "id": "c2a83ccf",
   "metadata": {},
   "outputs": [],
   "source": [
    "# assert умова яку хочете перевірити\n",
    "a = 4\n",
    "assert a == 4"
   ]
  },
  {
   "cell_type": "code",
   "execution_count": 4,
   "id": "c43a2d1c",
   "metadata": {},
   "outputs": [
    {
     "ename": "AssertionError",
     "evalue": "",
     "output_type": "error",
     "traceback": [
      "\u001b[0;31m---------------------------------------------------------------------------\u001b[0m",
      "\u001b[0;31mAssertionError\u001b[0m                            Traceback (most recent call last)",
      "Cell \u001b[0;32mIn [4], line 2\u001b[0m\n\u001b[1;32m      1\u001b[0m a \u001b[38;5;241m=\u001b[39m \u001b[38;5;241m2\u001b[39m \n\u001b[0;32m----> 2\u001b[0m \u001b[38;5;28;01massert\u001b[39;00m a \u001b[38;5;241m==\u001b[39m \u001b[38;5;241m4\u001b[39m\n",
      "\u001b[0;31mAssertionError\u001b[0m: "
     ]
    }
   ],
   "source": [
    "a = 2 \n",
    "assert a == 4"
   ]
  },
  {
   "cell_type": "code",
   "execution_count": 172,
   "id": "d8cae902",
   "metadata": {},
   "outputs": [
    {
     "ename": "AssertionError",
     "evalue": "Wrong a value, we wait 4 return 2",
     "output_type": "error",
     "traceback": [
      "\u001b[0;31m---------------------------------------------------------------------------\u001b[0m",
      "\u001b[0;31mAssertionError\u001b[0m                            Traceback (most recent call last)",
      "Cell \u001b[0;32mIn [172], line 2\u001b[0m\n\u001b[1;32m      1\u001b[0m a \u001b[38;5;241m=\u001b[39m \u001b[38;5;241m2\u001b[39m\n\u001b[0;32m----> 2\u001b[0m \u001b[38;5;28;01massert\u001b[39;00m a \u001b[38;5;241m==\u001b[39m \u001b[38;5;241m4\u001b[39m, \u001b[38;5;124mf\u001b[39m\u001b[38;5;124m'\u001b[39m\u001b[38;5;124mWrong a value, we wait 4 return \u001b[39m\u001b[38;5;132;01m{\u001b[39;00ma\u001b[38;5;132;01m}\u001b[39;00m\u001b[38;5;124m'\u001b[39m\n",
      "\u001b[0;31mAssertionError\u001b[0m: Wrong a value, we wait 4 return 2"
     ]
    }
   ],
   "source": [
    "a = 2\n",
    "assert a == 4, f'Wrong a value, we wait 4 return {a}'"
   ]
  },
  {
   "cell_type": "code",
   "execution_count": 174,
   "id": "7388dcdf",
   "metadata": {},
   "outputs": [
    {
     "ename": "AssertionError",
     "evalue": "Wrong len",
     "output_type": "error",
     "traceback": [
      "\u001b[0;31m---------------------------------------------------------------------------\u001b[0m",
      "\u001b[0;31mAssertionError\u001b[0m                            Traceback (most recent call last)",
      "Cell \u001b[0;32mIn [174], line 1\u001b[0m\n\u001b[0;32m----> 1\u001b[0m \u001b[38;5;28;01massert\u001b[39;00m \u001b[38;5;28mlen\u001b[39m((\u001b[38;5;241m1\u001b[39m, \u001b[38;5;241m2\u001b[39m)) \u001b[38;5;241m==\u001b[39m \u001b[38;5;241m3\u001b[39m, \u001b[38;5;124mf\u001b[39m\u001b[38;5;124m'\u001b[39m\u001b[38;5;124mWrong len\u001b[39m\u001b[38;5;124m'\u001b[39m\n",
      "\u001b[0;31mAssertionError\u001b[0m: Wrong len"
     ]
    }
   ],
   "source": [
    "assert len((1, 2, 3)) == 3, f'Wrong len'"
   ]
  },
  {
   "cell_type": "code",
   "execution_count": null,
   "id": "6bbae0cb",
   "metadata": {},
   "outputs": [],
   "source": []
  },
  {
   "cell_type": "code",
   "execution_count": 181,
   "id": "2b25ef34",
   "metadata": {},
   "outputs": [],
   "source": [
    "def add_value(a:int, b: int) -> int:\n",
    "    return a + b"
   ]
  },
  {
   "cell_type": "code",
   "execution_count": 184,
   "id": "a92864dc",
   "metadata": {},
   "outputs": [
    {
     "name": "stdout",
     "output_type": "stream",
     "text": [
      "True\n"
     ]
    }
   ],
   "source": [
    "assert add_value(5, 5) == 10\n",
    "# assert add_value('a', 'b') == 'Wrong value'\n",
    "assert add_value('str', 'plus') == 'strplus'\n",
    "assert add_value(1.0, 5) == 6.0"
   ]
  },
  {
   "cell_type": "code",
   "execution_count": null,
   "id": "343e9e06",
   "metadata": {},
   "outputs": [],
   "source": []
  },
  {
   "cell_type": "code",
   "execution_count": 195,
   "id": "d51da4ce",
   "metadata": {},
   "outputs": [],
   "source": [
    "def enrich_tutor_details(name: str, array: list):\n",
    "    name += \" is a great tutor\"\n",
    "    array.append('Spanish')\n",
    "    return name, array\n",
    "    \n",
    "\n",
    "def test_enrich_tutor_details():\n",
    "    username = 'John'\n",
    "    languages = ['English']\n",
    "    username, languages = enrich_tutor_details(username, languages)\n",
    "    assert username == 'John is a great tutor'\n",
    "    assert languages == ['English', 'Spanish']"
   ]
  },
  {
   "cell_type": "code",
   "execution_count": 196,
   "id": "e8792df6",
   "metadata": {},
   "outputs": [
    {
     "name": "stdout",
     "output_type": "stream",
     "text": [
      "John\n",
      "True\n"
     ]
    }
   ],
   "source": [
    "test_enrich_tutor_details()"
   ]
  },
  {
   "cell_type": "code",
   "execution_count": null,
   "id": "b7c18fbb",
   "metadata": {},
   "outputs": [],
   "source": []
  },
  {
   "cell_type": "code",
   "execution_count": null,
   "id": "1b3840e2",
   "metadata": {},
   "outputs": [],
   "source": []
  },
  {
   "cell_type": "markdown",
   "id": "f25e9d40",
   "metadata": {},
   "source": [
    "#### Lists \n",
    "1. Дефініція?\n",
    "2. Доступ до елементів?\n",
    "3. Які типи може зберігати?"
   ]
  },
  {
   "cell_type": "code",
   "execution_count": 197,
   "id": "fcc76b39",
   "metadata": {},
   "outputs": [],
   "source": [
    "numbers = ['first',2, '3', 4, '5', '8', -1]"
   ]
  },
  {
   "cell_type": "code",
   "execution_count": 198,
   "id": "f72da466",
   "metadata": {},
   "outputs": [
    {
     "name": "stdout",
     "output_type": "stream",
     "text": [
      "<class 'tuple'> (1, 2, 3)\n",
      "[1, 2, 3]\n"
     ]
    }
   ],
   "source": [
    "_tuple = (1, 2, 3)\n",
    "print(type(_tuple), _tuple)\n",
    "_list = list(_tuple) # Перетворення в list\n",
    "print(_list)"
   ]
  },
  {
   "cell_type": "code",
   "execution_count": 199,
   "id": "ab5eefe1",
   "metadata": {},
   "outputs": [
    {
     "data": {
      "text/plain": [
       "['a', ',', 'b', ',', 'c']"
      ]
     },
     "execution_count": 199,
     "metadata": {},
     "output_type": "execute_result"
    }
   ],
   "source": [
    "list('a,b,c') # Що поверне код?"
   ]
  },
  {
   "cell_type": "code",
   "execution_count": 200,
   "id": "7dcbd38f",
   "metadata": {},
   "outputs": [
    {
     "name": "stdout",
     "output_type": "stream",
     "text": [
      "['a', 'b', 'c']\n"
     ]
    }
   ],
   "source": [
    "print('a,b,c'.split(','))"
   ]
  },
  {
   "cell_type": "code",
   "execution_count": null,
   "id": "2afcd960",
   "metadata": {},
   "outputs": [],
   "source": [
    "# Slice [start: end: step] can use neg index "
   ]
  },
  {
   "cell_type": "code",
   "execution_count": 203,
   "id": "2acd88fc",
   "metadata": {},
   "outputs": [
    {
     "data": {
      "text/plain": [
       "[2]"
      ]
     },
     "execution_count": 203,
     "metadata": {},
     "output_type": "execute_result"
    }
   ],
   "source": [
    "numbers = [1,2, 3, 4, 5]\n",
    "numbers[1:3:2] "
   ]
  },
  {
   "cell_type": "code",
   "execution_count": 204,
   "id": "cf94f08b",
   "metadata": {},
   "outputs": [
    {
     "name": "stdout",
     "output_type": "stream",
     "text": [
      "True\n",
      "True\n"
     ]
    }
   ],
   "source": [
    "print(2 in numbers)\n",
    "print(3 in numbers)"
   ]
  },
  {
   "cell_type": "code",
   "execution_count": 205,
   "id": "a507970d",
   "metadata": {},
   "outputs": [
    {
     "name": "stdout",
     "output_type": "stream",
     "text": [
      "[1, 2, 3, 4, 5]\n",
      "[1, 'second', 3, 4, 5]\n"
     ]
    }
   ],
   "source": [
    "print(numbers)\n",
    "numbers[1] = 'second' # якщо хочемо змінити значення, вказуємо індекс і нове значення \n",
    "print(numbers)"
   ]
  },
  {
   "cell_type": "code",
   "execution_count": 206,
   "id": "5ee40d2c",
   "metadata": {},
   "outputs": [
    {
     "name": "stdout",
     "output_type": "stream",
     "text": [
      "[1, 'second', 3, 4, 5]\n",
      "[1, 5, 10, 4, 5]\n"
     ]
    }
   ],
   "source": [
    "print(numbers)\n",
    "numbers[1:3] = 5, 10 # Зміна за допомогою Slice\n",
    "print(numbers)"
   ]
  },
  {
   "cell_type": "code",
   "execution_count": 207,
   "id": "43ec35a6",
   "metadata": {},
   "outputs": [
    {
     "data": {
      "text/plain": [
       "['__add__',\n",
       " '__class__',\n",
       " '__class_getitem__',\n",
       " '__contains__',\n",
       " '__delattr__',\n",
       " '__delitem__',\n",
       " '__dir__',\n",
       " '__doc__',\n",
       " '__eq__',\n",
       " '__format__',\n",
       " '__ge__',\n",
       " '__getattribute__',\n",
       " '__getitem__',\n",
       " '__gt__',\n",
       " '__hash__',\n",
       " '__iadd__',\n",
       " '__imul__',\n",
       " '__init__',\n",
       " '__init_subclass__',\n",
       " '__iter__',\n",
       " '__le__',\n",
       " '__len__',\n",
       " '__lt__',\n",
       " '__mul__',\n",
       " '__ne__',\n",
       " '__new__',\n",
       " '__reduce__',\n",
       " '__reduce_ex__',\n",
       " '__repr__',\n",
       " '__reversed__',\n",
       " '__rmul__',\n",
       " '__setattr__',\n",
       " '__setitem__',\n",
       " '__sizeof__',\n",
       " '__str__',\n",
       " '__subclasshook__',\n",
       " 'append',\n",
       " 'clear',\n",
       " 'copy',\n",
       " 'count',\n",
       " 'extend',\n",
       " 'index',\n",
       " 'insert',\n",
       " 'pop',\n",
       " 'remove',\n",
       " 'reverse',\n",
       " 'sort']"
      ]
     },
     "execution_count": 207,
     "metadata": {},
     "output_type": "execute_result"
    }
   ],
   "source": [
    "dir(list) # dir - повертае доступні методи "
   ]
  },
  {
   "cell_type": "code",
   "execution_count": 212,
   "id": "3c84ea22",
   "metadata": {},
   "outputs": [
    {
     "ename": "SyntaxError",
     "evalue": "invalid syntax (2420117387.py, line 3)",
     "output_type": "error",
     "traceback": [
      "\u001b[0;36m  Cell \u001b[0;32mIn [212], line 3\u001b[0;36m\u001b[0m\n\u001b[0;31m    Добавляємо один елемент\u001b[0m\n\u001b[0m               ^\u001b[0m\n\u001b[0;31mSyntaxError\u001b[0m\u001b[0;31m:\u001b[0m invalid syntax\n"
     ]
    }
   ],
   "source": []
  },
  {
   "cell_type": "code",
   "execution_count": 216,
   "id": "55938f67",
   "metadata": {},
   "outputs": [
    {
     "name": "stdout",
     "output_type": "stream",
     "text": [
      "[1, 5, 10, 4, 5, 3, 3, 56, 1]\n",
      "[1, 5, 10, 4, 5, 3, 3, 56, 1, 3, 4]\n"
     ]
    }
   ],
   "source": [
    "print(numbers)\n",
    "numbers = numbers + [3] # Добавляємо один елемент \n",
    "print(numbers)"
   ]
  },
  {
   "cell_type": "code",
   "execution_count": 218,
   "id": "9e29c235",
   "metadata": {},
   "outputs": [
    {
     "name": "stdout",
     "output_type": "stream",
     "text": [
      "[1, 5, 10, 4, 5, 3, 3, 56, 1, 3, 4, [1, 2], 1]\n",
      "[1, 5, 10, 4, 5, 3, 3, 56, 1, 3, 4, [1, 2], 1, [1, 2], 1]\n"
     ]
    }
   ],
   "source": [
    "print(numbers)\n",
    "\n",
    "numbers.append([1,2]) # Добавляємо в кінець один елемент \n",
    "\n",
    "numbers.append(1) \n",
    "print(numbers)"
   ]
  },
  {
   "cell_type": "code",
   "execution_count": 224,
   "id": "6642d245",
   "metadata": {},
   "outputs": [
    {
     "data": {
      "text/plain": [
       "8"
      ]
     },
     "execution_count": 224,
     "metadata": {},
     "output_type": "execute_result"
    }
   ],
   "source": [
    "numbers.index(1, 5, 9)"
   ]
  },
  {
   "cell_type": "markdown",
   "id": "01f1c393",
   "metadata": {},
   "source": [
    "### Task 1. \n",
    "Створити два списка, number, square, користувач вводить перший список(з консолі),\n",
    "після цього ми повертаемо квадрат до кожного числа. \n",
    "* Обгорнути все в функцію з анотацією\n",
    "* Написати функцію з тестами\n",
    "* Використати try/except \\\n",
    "Example: \n",
    "[1,2,3,4,5] -> [1, 4, 9, 16, 25] "
   ]
  },
  {
   "cell_type": "code",
   "execution_count": 67,
   "id": "62785e04",
   "metadata": {},
   "outputs": [],
   "source": [
    "### Домашка - \n",
    "def square_arr(arr: list) -> list:\n",
    "    pass"
   ]
  },
  {
   "cell_type": "code",
   "execution_count": null,
   "id": "806e9875",
   "metadata": {},
   "outputs": [],
   "source": []
  },
  {
   "cell_type": "markdown",
   "id": "94b2f7f6",
   "metadata": {},
   "source": [
    "### Task 2\n",
    "In this task you will create a function that takes a list of non-negative integers and strings and returns a new list with the strings filtered out.\n",
    "\n",
    "Example:  \\\n",
    "filter_list([1,2,'a','b']) == [1,2] \\\n",
    "filter_list([1,'a','b',0,15]) == [1,0,15] \\\n",
    "filter_list([1,2,'aasf','1','123',123]) == [1,2,123] \n"
   ]
  },
  {
   "cell_type": "code",
   "execution_count": 238,
   "id": "2ed23898",
   "metadata": {},
   "outputs": [],
   "source": [
    "# Домашка\n",
    "def filter_list(arr: list) -> list:\n",
    "    pass"
   ]
  },
  {
   "cell_type": "code",
   "execution_count": 255,
   "id": "65595794",
   "metadata": {},
   "outputs": [],
   "source": []
  },
  {
   "cell_type": "code",
   "execution_count": null,
   "id": "5bb4e7df",
   "metadata": {},
   "outputs": [],
   "source": []
  },
  {
   "cell_type": "code",
   "execution_count": 253,
   "id": "a6890e76",
   "metadata": {},
   "outputs": [],
   "source": [
    "def test_filter_list(): \n",
    "    assert filter_list([1,2,'a','b']) == [1,2] , f'You return wrong value, need = [1,2]' \n",
    "    assert filter_list([1,'a','b',0,15]) == [1,0,15]\n",
    "    assert filter_list([1,2,'aasf','1','123',123]) == [1,2,123]\n",
    "    assert filter_list(['403', 'i', 174, 'G', '396', 572, 644, '72', '311']) ==  [174, 572, 644]\n",
    "    \n",
    "    assert filter_list([231, '127', 'lmAY^', '\\\\E^', 69, 887, 959, 679, 570, 'j', 735, 132, 846, 'QfT', '457']) \\\n",
    "    == [231, 69, 887, 959, 679, 570, 735, 132, 846]\n",
    "    assert filter_list([969, 'yQ8_J', '491', 465, '647', '228', '431']) == [969, 465]"
   ]
  },
  {
   "cell_type": "code",
   "execution_count": null,
   "id": "e3793253",
   "metadata": {},
   "outputs": [],
   "source": []
  },
  {
   "cell_type": "code",
   "execution_count": 256,
   "id": "60724ee0",
   "metadata": {},
   "outputs": [],
   "source": [
    "test_filter_list()"
   ]
  },
  {
   "cell_type": "code",
   "execution_count": null,
   "id": "29b7fad1",
   "metadata": {},
   "outputs": [],
   "source": []
  },
  {
   "cell_type": "code",
   "execution_count": 257,
   "id": "d37f4cf9",
   "metadata": {},
   "outputs": [
    {
     "name": "stdout",
     "output_type": "stream",
     "text": [
      "[1, 5, 10, 4, 5, 3, 3, 56, 1, 3, 4, [1, 2], 1, [1, 2], 1]\n",
      "[1, 'half', 5, 10, 4, 5, 3, 3, 56, 1, 3, 4, [1, 2], 1, [1, 2], 1]\n"
     ]
    }
   ],
   "source": [
    "print(numbers)\n",
    "numbers.insert(1, 'half') # Вставити елемент на позицію \n",
    "\n",
    "print(numbers)"
   ]
  },
  {
   "cell_type": "code",
   "execution_count": 258,
   "id": "5249b2b5",
   "metadata": {},
   "outputs": [
    {
     "name": "stdout",
     "output_type": "stream",
     "text": [
      "[1, 2, 3, 4, 5] 15\n"
     ]
    }
   ],
   "source": [
    "numbers = [i for i in range(1, 6)] \n",
    "sum_ = 0\n",
    "for i in numbers:\n",
    "    sum_ += i\n",
    "    \n",
    "print(numbers, sum_)"
   ]
  },
  {
   "cell_type": "code",
   "execution_count": 259,
   "id": "39a79299",
   "metadata": {},
   "outputs": [
    {
     "name": "stdout",
     "output_type": "stream",
     "text": [
      "[1, 2, 3, 4, 5] 15\n"
     ]
    }
   ],
   "source": [
    "numbers = [i for i in range(1, 6)] \n",
    "sum_ = sum(numbers)\n",
    "    \n",
    "print(numbers, sum_)"
   ]
  },
  {
   "cell_type": "code",
   "execution_count": 260,
   "id": "7ad868b0",
   "metadata": {},
   "outputs": [
    {
     "name": "stdout",
     "output_type": "stream",
     "text": [
      "Max = 5\n",
      "Min = 1\n",
      "Sum = 15\n"
     ]
    }
   ],
   "source": [
    "numbers = [i for i in range(1, 6)]\n",
    "# Built-in-function\n",
    "print(f'Max = {max(numbers)}\\nMin = {min(numbers)}\\nSum = {sum(numbers)}')"
   ]
  },
  {
   "cell_type": "code",
   "execution_count": null,
   "id": "bfe29892",
   "metadata": {},
   "outputs": [],
   "source": []
  },
  {
   "cell_type": "code",
   "execution_count": 98,
   "id": "7186c25d",
   "metadata": {},
   "outputs": [
    {
     "name": "stdout",
     "output_type": "stream",
     "text": [
      "[1, 2, 3, 4, 5]\n",
      "[1, 2, 3, 4, 5]\n"
     ]
    }
   ],
   "source": [
    "print(numbers)\n",
    "numbers.index(1)\n",
    "print(numbers)"
   ]
  },
  {
   "cell_type": "code",
   "execution_count": 261,
   "id": "bcc329ba",
   "metadata": {},
   "outputs": [
    {
     "data": {
      "text/plain": [
       "['new', 'new', 'new', 'new', 'new', 'new', 'new', 'new', 'new', 'new']"
      ]
     },
     "execution_count": 261,
     "metadata": {},
     "output_type": "execute_result"
    }
   ],
   "source": [
    "#### List comprehension - shorter way to create arr/dict\n",
    "# [вираз for значення in колекція]\n",
    "arr = ['new' for _ in range(10)]\n",
    "arr"
   ]
  },
  {
   "cell_type": "code",
   "execution_count": 263,
   "id": "00ce6624",
   "metadata": {},
   "outputs": [
    {
     "data": {
      "text/plain": [
       "['new', 'new', 'new', 'new', 'new', 'new', 'new', 'new', 'new', 'new']"
      ]
     },
     "execution_count": 263,
     "metadata": {},
     "output_type": "execute_result"
    }
   ],
   "source": [
    "arr = []\n",
    "for _ in range(10):\n",
    "    arr.append('new')\n",
    "arr"
   ]
  },
  {
   "cell_type": "code",
   "execution_count": 264,
   "id": "81ecf4fa",
   "metadata": {},
   "outputs": [
    {
     "name": "stdout",
     "output_type": "stream",
     "text": [
      "[1, 4, 9, 16, 25]\n"
     ]
    }
   ],
   "source": [
    "squares = [i**2 for i in numbers] # List comprehension, and we can use if \n",
    "print(squares)\n"
   ]
  },
  {
   "cell_type": "code",
   "execution_count": 270,
   "id": "43f13031",
   "metadata": {},
   "outputs": [
    {
     "name": "stdout",
     "output_type": "stream",
     "text": [
      "[4, 16]\n"
     ]
    }
   ],
   "source": [
    "squares = [i**2 for i in numbers if i % 2 == 0 ] # List comprehension, and we can use if \n",
    "print(squares)"
   ]
  },
  {
   "cell_type": "code",
   "execution_count": 274,
   "id": "3ab8e2c9",
   "metadata": {},
   "outputs": [
    {
     "name": "stdout",
     "output_type": "stream",
     "text": [
      "[None, 4, None, 16, None]\n"
     ]
    }
   ],
   "source": [
    "squares = [i**2 if i % 2 == 0 else None for i in numbers ] # List comprehension, and we can use if \n",
    "print(squares)"
   ]
  },
  {
   "cell_type": "code",
   "execution_count": 279,
   "id": "7b237385",
   "metadata": {},
   "outputs": [
    {
     "name": "stdout",
     "output_type": "stream",
     "text": [
      "['1', '32', '243', '1024', '3125']\n"
     ]
    }
   ],
   "source": [
    "squares = [str(i**5) for i in numbers]\n",
    "print(squares)"
   ]
  },
  {
   "cell_type": "code",
   "execution_count": 281,
   "id": "349ee6d0",
   "metadata": {},
   "outputs": [
    {
     "name": "stdout",
     "output_type": "stream",
     "text": [
      "[55.0, 37.0, 55.0]\n"
     ]
    }
   ],
   "source": [
    "# Task about rating\n",
    "rating = '54, 36, 54'\n",
    "number_rating = [float(i.strip()) + 1 for i in ratings.split(',')]\n",
    "print(number_rating)"
   ]
  },
  {
   "cell_type": "code",
   "execution_count": 283,
   "id": "539dc85b",
   "metadata": {},
   "outputs": [
    {
     "name": "stdout",
     "output_type": "stream",
     "text": [
      "String numbers: ('1.5', '2.3', '5.25')\n",
      "9.05\n"
     ]
    }
   ],
   "source": [
    "str_numbers = (\"1.5\", \"2.3\", \"5.25\")\n",
    "print(f'String numbers: {str_numbers}')\n",
    "float_numbers = sum([float(value) for value in str_numbers])\n",
    "print(float_numbers)\n",
    "#print(f'Float numbers: {float_numbers}')\n",
    "#print(f'Float numbers sum: {sum(float_numbers)}')"
   ]
  },
  {
   "cell_type": "code",
   "execution_count": null,
   "id": "5aec61b7",
   "metadata": {},
   "outputs": [],
   "source": []
  },
  {
   "cell_type": "markdown",
   "id": "9f66a391",
   "metadata": {},
   "source": [
    "## Practice block 1\n",
    "\n",
    "1. Write a Python program to compute the difference between two lists.\n",
    "\n",
    "    Sample data: ['a', 'b', 'c', 'd'], ['c', 'd', 'e']\n",
    "\n",
    "    Expected Output:\n",
    "\n",
    "    first-second: ['a', 'b']\n",
    "\n",
    "    second-first: ['e']\n",
    "    ```python\n",
    "    def compute_difference(first: list, second: list) -> tuple:\n",
    "        # write your code here\n",
    "        pass\n",
    "\n",
    "    def test_compute_difference():\n",
    "        result1 = compute_difference(['a', 'b', 'c', 'd'], ['c', 'd', 'e'])\n",
    "        assert result1 == (['a', 'b'], ['e'])\n",
    "\n",
    "        result2 = compute_difference([], ['c', 'd', 'e'])\n",
    "        assert result2 == ([], ['c', 'd', 'e'])\n",
    "\n",
    "        result3 = compute_difference([1, 2, 3], [4, 5, 6])\n",
    "        assert result3 == ([1, 2, 3], [4, 5, 6])\n",
    "\n",
    "        result3 = compute_difference([1, 2, 3], [2, 3, 4])\n",
    "        assert result3 == ([1], [4])\n",
    "    ```\n",
    "\n",
    "\n",
    "\n",
    "9. Given an array of integers nums and an integer target, return indices of the two numbers such that they add up to target.\n",
    "\n",
    "    You may assume that each input would have exactly one solution, and you may not use the same element twice.\n",
    "\n",
    "    You can return the answer in any order.\n",
    "ß\n",
    "    **Example 1:**\n",
    "\n",
    "    Input: nums = [2,7,11,15], target = 9\n",
    "\n",
    "    Output: [0,1]\n",
    "\n",
    "    Explanation: Because nums[0] + nums[1] == 9, we return [0, 1].\n",
    "\n",
    "    **Example 2:**\n",
    "\n",
    "    Input: nums = [3,2,4], target = 6\n",
    "\n",
    "    Output: [1,2]\n",
    "\n",
    "    **Example 3:**\n",
    "\n",
    "    Input: nums = [3,3], target = 6\n",
    "\n",
    "    Output: [0,1]\n",
    "\n",
    "    ```python\n",
    "    def sum_of_two(nums: list, target: int) -> list:\n",
    "        # write your code here\n",
    "        pass\n",
    "\n",
    "    def test_sum_of_two():\n",
    "        result1 = sum_of_two([2,7,11,15], 9)\n",
    "        assert result1 == [0, 1]\n",
    "\n",
    "        result2 = sum_of_two([3,2,4], 6)\n",
    "        assert result2 == [1, 2]\n",
    "\n",
    "        result3 = sum_of_two([3,3], 6)\n",
    "        assert result3 == [0, 1]\n",
    "    ```\n",
    "\n",
    "9. Optional (hard): Longest Increasing Sequence\n",
    "\n",
    "    Have the function longest_increasing_sequence take the list of positive integers and return the length of the longest increasing subsequence (LIS). A LIS is a subset of the original list where the numbers are in sorted order, from lowest to highest, and are in increasing order. The sequence does not need to be contiguous or unique, and there can be several different subsequences. For example: if arr is [4, 3, 5, 1, 6] then a possible LIS is [3, 5, 6], and another is [1, 6]. For this input, your program should return 3 because that is the length of the longest increasing subsequence.\n",
    "    ```\n",
    "    Examples\n",
    "\n",
    "    Input: [9, 9, 4, 2]\n",
    "\n",
    "    Output: 1\n",
    "\n",
    "    Input: [10, 22, 9, 33, 21, 50, 41, 60, 22, 68, 90]\n",
    "\n",
    "    Output: 7\n",
    "\n",
    "    \n",
    "    ```\n",
    "    ```python\n",
    "    def longest_increasing_sequence(arr: list) -> int:\n",
    "        # write your code here\n",
    "        pass\n",
    "\n",
    "    def test_sum_of_two():\n",
    "        result1 = longest_increasing_sequence([9, 9, 4, 2])\n",
    "        assert result1 == 1\n",
    "\n",
    "        result2 = longest_increasing_sequence([10, 22, 9, 33, 21, 50, 41, 60, 22, 68, 90])\n",
    "        assert result2 == 7\n",
    "\n",
    "        result3 = longest_increasing_sequence([4, 3, 5, 1, 6])\n",
    "        assert result3 == 3\n",
    "    ```"
   ]
  },
  {
   "cell_type": "code",
   "execution_count": null,
   "id": "8980bba9",
   "metadata": {},
   "outputs": [],
   "source": []
  },
  {
   "cell_type": "markdown",
   "id": "83cf3235",
   "metadata": {},
   "source": [
    "### Nesting, copying, and sorting"
   ]
  },
  {
   "cell_type": "code",
   "execution_count": 284,
   "id": "8804cbe6",
   "metadata": {},
   "outputs": [
    {
     "name": "stdout",
     "output_type": "stream",
     "text": [
      "len(two_by_two): 3\n"
     ]
    }
   ],
   "source": [
    "nested_list = [[1, 2, 3], [4, 5, 6], [7, 8, 9]]\n",
    "print(f'len(two_by_two): {len(nested_list)}')"
   ]
  },
  {
   "cell_type": "code",
   "execution_count": 286,
   "id": "5d0ef470",
   "metadata": {},
   "outputs": [
    {
     "data": {
      "text/plain": [
       "8"
      ]
     },
     "execution_count": 286,
     "metadata": {},
     "output_type": "execute_result"
    }
   ],
   "source": [
    "nested_list[2][1]"
   ]
  },
  {
   "cell_type": "code",
   "execution_count": 287,
   "id": "f872edef",
   "metadata": {},
   "outputs": [
    {
     "name": "stdout",
     "output_type": "stream",
     "text": [
      "1\n",
      "2\n",
      "3\n",
      "\n",
      "Next arr\n",
      "\n",
      "4\n",
      "5\n",
      "6\n",
      "\n",
      "Next arr\n",
      "\n",
      "7\n",
      "8\n",
      "9\n",
      "\n",
      "Next arr\n",
      "\n"
     ]
    }
   ],
   "source": [
    "for i in nested_list:\n",
    "    for j in i:\n",
    "        print(j)\n",
    "    print('\\nNext arr\\n')"
   ]
  },
  {
   "cell_type": "code",
   "execution_count": 288,
   "id": "78a2418a",
   "metadata": {},
   "outputs": [
    {
     "name": "stdout",
     "output_type": "stream",
     "text": [
      "[0, 2, 3]\n"
     ]
    }
   ],
   "source": [
    "first_list = [1, 2, 3]\n",
    "second_list = first_list\n",
    "second_list[0] = 0\n",
    "print(first_list) # Який буде результат?"
   ]
  },
  {
   "cell_type": "code",
   "execution_count": 289,
   "id": "1160b4e0",
   "metadata": {},
   "outputs": [
    {
     "name": "stdout",
     "output_type": "stream",
     "text": [
      "[1, 2, 3] [0, 2, 3]\n"
     ]
    }
   ],
   "source": [
    "first_list = [1, 2, 3]\n",
    "second_list = first_list[:] # [1, 2, 3] [i for i in first_list]\n",
    "second_list[0] = 0\n",
    "print(first_list, second_list)"
   ]
  },
  {
   "cell_type": "code",
   "execution_count": 296,
   "id": "def513ca",
   "metadata": {},
   "outputs": [],
   "source": [
    "def some_function(value, temP_list = 'abc'):\n",
    "\n",
    "    temP_list += value\n",
    "    print(temP_list)"
   ]
  },
  {
   "cell_type": "code",
   "execution_count": 291,
   "id": "8582849f",
   "metadata": {},
   "outputs": [],
   "source": [
    "def some_function(value, temP_list = []): \n",
    "\n",
    "    temP_list.append(value)\n",
    "    print(temP_list)"
   ]
  },
  {
   "cell_type": "code",
   "execution_count": 308,
   "id": "0ea9970e",
   "metadata": {},
   "outputs": [
    {
     "name": "stdout",
     "output_type": "stream",
     "text": [
      "[3]\n"
     ]
    }
   ],
   "source": [
    "some_function(3) # Що поверне?"
   ]
  },
  {
   "cell_type": "code",
   "execution_count": 303,
   "id": "b5ece37e",
   "metadata": {},
   "outputs": [],
   "source": [
    "def some_function(value, temP_list = None):\n",
    "    if temP_list is None:\n",
    "        temP_list = []\n",
    "\n",
    "    temP_list.append(value)\n",
    "    print(temP_list)"
   ]
  },
  {
   "cell_type": "code",
   "execution_count": 301,
   "id": "fe8a0856",
   "metadata": {},
   "outputs": [
    {
     "name": "stdout",
     "output_type": "stream",
     "text": [
      "abc3\n"
     ]
    }
   ],
   "source": [
    "some_function('3')"
   ]
  },
  {
   "cell_type": "code",
   "execution_count": 309,
   "id": "c50778ec",
   "metadata": {},
   "outputs": [
    {
     "data": {
      "text/plain": [
       "(None,)"
      ]
     },
     "execution_count": 309,
     "metadata": {},
     "output_type": "execute_result"
    }
   ],
   "source": [
    "some_function.__defaults__ # Звернутись до дефолт значень"
   ]
  },
  {
   "cell_type": "code",
   "execution_count": 311,
   "id": "870721b7",
   "metadata": {},
   "outputs": [
    {
     "name": "stdout",
     "output_type": "stream",
     "text": [
      "[5]\n"
     ]
    }
   ],
   "source": [
    "some_function(5)"
   ]
  },
  {
   "cell_type": "code",
   "execution_count": 337,
   "id": "545d0f39",
   "metadata": {},
   "outputs": [
    {
     "name": "stdout",
     "output_type": "stream",
     "text": [
      "use sort: [7, 4, 3, 2, 1]\n"
     ]
    }
   ],
   "source": [
    "unsorted_list = [3, 2, 1, 7, 4]\n",
    "unsorted_list.sort()\n",
    "print(f'use sort: {unsorted_list}')"
   ]
  },
  {
   "cell_type": "code",
   "execution_count": null,
   "id": "b4eb95f1",
   "metadata": {},
   "outputs": [],
   "source": []
  },
  {
   "cell_type": "code",
   "execution_count": 319,
   "id": "017a4550",
   "metadata": {},
   "outputs": [
    {
     "name": "stdout",
     "output_type": "stream",
     "text": [
      "['one', 'twenty']\n"
     ]
    }
   ],
   "source": [
    "numbers = ['twenty', 'one']\n",
    "numbers.sort(key = len)\n",
    "print(numbers)"
   ]
  },
  {
   "cell_type": "code",
   "execution_count": 332,
   "id": "857ebd5e",
   "metadata": {},
   "outputs": [
    {
     "name": "stdout",
     "output_type": "stream",
     "text": [
      "['1', '11', '2', '35']\n"
     ]
    }
   ],
   "source": [
    "numbers = ['2', '1','35', '11']\n",
    "numbers.sort(key = max)\n",
    "print(numbers)"
   ]
  },
  {
   "cell_type": "code",
   "execution_count": null,
   "id": "def9406b",
   "metadata": {},
   "outputs": [],
   "source": []
  },
  {
   "cell_type": "code",
   "execution_count": null,
   "id": "0673f92d",
   "metadata": {},
   "outputs": [],
   "source": []
  },
  {
   "cell_type": "markdown",
   "id": "0cf51849",
   "metadata": {},
   "source": [
    "## Practice block 2\n",
    "\n",
    "\n",
    "1. Create a list with next values [1, 4, 2, 5]. Create a sorted copy of that list w/o changing the original list.\n",
    "2. Sort the following list by population. Calculate average and total population for cities from this list:\n",
    "```\n",
    "[\n",
    "    ('New York City', 8550405),\n",
    "    ('Los Angeles', 3792621),\n",
    "    ('Chicago', 2695598),\n",
    "    ('Houston', 2100263),\n",
    "    ('Philadelphia', 1526006),\n",
    "    ('Phoenix', 1445632),\n",
    "    ('San Antonio', 1327407),\n",
    "    ('San Diego', 1307402),\n",
    "    ('Dallas', 1197816),\n",
    "    ('San Jose', 945942),\n",
    "]\n",
    "```\n",
    "\n"
   ]
  },
  {
   "cell_type": "code",
   "execution_count": null,
   "id": "e96c90d8",
   "metadata": {},
   "outputs": [],
   "source": []
  },
  {
   "cell_type": "code",
   "execution_count": null,
   "id": "2ad27345",
   "metadata": {},
   "outputs": [],
   "source": []
  }
 ],
 "metadata": {
  "kernelspec": {
   "display_name": "Python 3 (ipykernel)",
   "language": "python",
   "name": "python3"
  },
  "language_info": {
   "codemirror_mode": {
    "name": "ipython",
    "version": 3
   },
   "file_extension": ".py",
   "mimetype": "text/x-python",
   "name": "python",
   "nbconvert_exporter": "python",
   "pygments_lexer": "ipython3",
   "version": "3.10.8"
  }
 },
 "nbformat": 4,
 "nbformat_minor": 5
}
