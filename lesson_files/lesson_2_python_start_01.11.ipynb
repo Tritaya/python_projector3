{
 "cells": [
  {
   "cell_type": "markdown",
   "id": "f7596294",
   "metadata": {},
   "source": [
    "### Lesson 2 - 01.11\n",
    "Орієнтовно часу на вебінар: 2-2.30 години \n",
    "\t\n",
    "> Materials: \n",
    ">    1. [Syntax](https://www.w3schools.com/python/python_syntax.asp) - from syntax to lists        \n",
    ">    2. [Basic tips](https://realpython.com/python-beginner-tips/)\n",
    ">    3. [Information about all](https://pynative.com/get-started-with-python/) - from start to control flow\n",
    ">    4. [Info about print](https://www.w3schools.com/python/ref_func_print.asp)\n",
    ">    5. [Data Types](https://webportal.com.ua/data-type-python/)\n",
    "\n",
    "> Topics:\n",
    "\t\t> 1. Commands\n",
    "\t\t> 2. Errors\n",
    "\t\t> 3. Variables\n",
    "\t\t> 4. Types  \n",
    "\t\t> 5. Input\n",
    "\t\t> 6. Numbers\n",
    "\t\t> 7. Operation\n"
   ]
  },
  {
   "cell_type": "code",
   "execution_count": 103,
   "id": "901a14a0",
   "metadata": {},
   "outputs": [
    {
     "name": "stdout",
     "output_type": "stream",
     "text": [
      "Hello World!\n"
     ]
    }
   ],
   "source": [
    "print('Hello World!') # Функція виводу в консоль текстової інформації"
   ]
  },
  {
   "cell_type": "code",
   "execution_count": 221,
   "id": "aac0789b",
   "metadata": {},
   "outputs": [
    {
     "name": "stdout",
     "output_type": "stream",
     "text": [
      "Some text  try seperator  буде зірочка;"
     ]
    }
   ],
   "source": [
    "print('Some text', 'try seperator','буде зірочка' ,\n",
    "      sep = '*', # Вказуємо роздільник між текстом\n",
    "      end = ';' # Вказуємо кінцевий символ\n",
    "     )  # \\n - перехід на наступну строку"
   ]
  },
  {
   "cell_type": "code",
   "execution_count": null,
   "id": "90688d1c",
   "metadata": {},
   "outputs": [],
   "source": []
  },
  {
   "cell_type": "markdown",
   "id": "020cf527",
   "metadata": {},
   "source": [
    "### Type of Errors\n",
    "1. **Syntax** - have more type of errors inside\n",
    "2. **Logic** - when you code work, but with wrong result"
   ]
  },
  {
   "cell_type": "code",
   "execution_count": 111,
   "id": "3f0c09f6",
   "metadata": {},
   "outputs": [
    {
     "name": "stdout",
     "output_type": "stream",
     "text": [
      "Try print\n"
     ]
    }
   ],
   "source": [
    "print(\"Try print\")"
   ]
  },
  {
   "cell_type": "code",
   "execution_count": 114,
   "id": "afbfefaa",
   "metadata": {},
   "outputs": [
    {
     "ename": "NameError",
     "evalue": "name 'prnt' is not defined",
     "output_type": "error",
     "traceback": [
      "\u001b[0;31m---------------------------------------------------------------------------\u001b[0m",
      "\u001b[0;31mNameError\u001b[0m                                 Traceback (most recent call last)",
      "Cell \u001b[0;32mIn [114], line 2\u001b[0m\n\u001b[1;32m      1\u001b[0m \u001b[38;5;66;03m# SyntaxError\u001b[39;00m\n\u001b[0;32m----> 2\u001b[0m \u001b[43mprnt\u001b[49m(\u001b[38;5;124m\"\u001b[39m\u001b[38;5;124mTry Error\u001b[39m\u001b[38;5;124m\"\u001b[39m)\n",
      "\u001b[0;31mNameError\u001b[0m: name 'prnt' is not defined"
     ]
    }
   ],
   "source": [
    "# SyntaxError\n",
    "print(\"Try Error\")"
   ]
  },
  {
   "cell_type": "code",
   "execution_count": 40,
   "id": "f980d852",
   "metadata": {},
   "outputs": [
    {
     "ename": "SyntaxError",
     "evalue": "invalid syntax (1198463100.py, line 2)",
     "output_type": "error",
     "traceback": [
      "\u001b[0;36m  Cell \u001b[0;32mIn [40], line 2\u001b[0;36m\u001b[0m\n\u001b[0;31m    a c = 6\u001b[0m\n\u001b[0m      ^\u001b[0m\n\u001b[0;31mSyntaxError\u001b[0m\u001b[0;31m:\u001b[0m invalid syntax\n"
     ]
    }
   ],
   "source": [
    "#  SyntaxError more example\n",
    "a c = 6"
   ]
  },
  {
   "cell_type": "code",
   "execution_count": null,
   "id": "61ef65b1",
   "metadata": {},
   "outputs": [],
   "source": [
    "# Logic errors"
   ]
  },
  {
   "cell_type": "code",
   "execution_count": 118,
   "id": "a019ad16",
   "metadata": {},
   "outputs": [
    {
     "name": "stdout",
     "output_type": "stream",
     "text": [
      "Age of user:  18\n"
     ]
    }
   ],
   "source": [
    "age = 18\n",
    "salary = 150000\n",
    "print('Age of user: ', age)"
   ]
  },
  {
   "cell_type": "markdown",
   "id": "4f3b3e47",
   "metadata": {},
   "source": [
    "#### Характеристика зміною:\n",
    "    1. Область допустимих значень\n",
    "    2. Діапазон допустимих операцій\n",
    "    3. Кількість пам'яті яку займає "
   ]
  },
  {
   "cell_type": "code",
   "execution_count": 6,
   "id": "485e03c1",
   "metadata": {},
   "outputs": [],
   "source": [
    "a = 5 # Assignment operator(Оператор присвоєння)"
   ]
  },
  {
   "cell_type": "code",
   "execution_count": 104,
   "id": "151c860d",
   "metadata": {},
   "outputs": [
    {
     "data": {
      "text/plain": [
       "int"
      ]
     },
     "execution_count": 104,
     "metadata": {},
     "output_type": "execute_result"
    }
   ],
   "source": [
    "type(a) # Повертає тип даних\n",
    "# int - числовий тип даних( без остачі)\n",
    "# допустимі операції - всі базові арифметичні(окрім винятків)\n",
    "# діапозон допустимих значен: inf"
   ]
  },
  {
   "cell_type": "code",
   "execution_count": 106,
   "id": "1564b9b8",
   "metadata": {},
   "outputs": [],
   "source": [
    "import sys # Імпорт бібліотеки для роботи зі системними значеннями"
   ]
  },
  {
   "cell_type": "code",
   "execution_count": 107,
   "id": "11c10d9c",
   "metadata": {},
   "outputs": [
    {
     "name": "stdout",
     "output_type": "stream",
     "text": [
      "sys.int_info(bits_per_digit=30, sizeof_digit=4, default_max_str_digits=4300, str_digits_check_threshold=640)\n"
     ]
    }
   ],
   "source": [
    "print(sys.int_info, # Отримати інформацію для тип даних \n",
    "     sep = '\\n\\n')"
   ]
  },
  {
   "cell_type": "code",
   "execution_count": 142,
   "id": "1bef5526",
   "metadata": {},
   "outputs": [
    {
     "name": "stdout",
     "output_type": "stream",
     "text": [
      "20.11\n"
     ]
    }
   ],
   "source": [
    "a = 18.11\n",
    "print(a + 2)"
   ]
  },
  {
   "cell_type": "code",
   "execution_count": 110,
   "id": "3cf86d33",
   "metadata": {
    "scrolled": false
   },
   "outputs": [
    {
     "data": {
      "text/plain": [
       "15"
      ]
     },
     "execution_count": 110,
     "metadata": {},
     "output_type": "execute_result"
    }
   ],
   "source": [
    "try_error = 10 + int('5') # unsupported operand \n",
    "print(try_error)"
   ]
  },
  {
   "cell_type": "code",
   "execution_count": 130,
   "id": "33ca58d3",
   "metadata": {},
   "outputs": [
    {
     "name": "stdout",
     "output_type": "stream",
     "text": [
      "5.140000000000001\n"
     ]
    }
   ],
   "source": [
    "try_float_var = 3.14\n",
    "a = 10\n",
    "print(try_float_var + 2)"
   ]
  },
  {
   "cell_type": "code",
   "execution_count": 132,
   "id": "bf5b3ff9",
   "metadata": {},
   "outputs": [
    {
     "name": "stdout",
     "output_type": "stream",
     "text": [
      "<class 'float'> <class 'int'>\n"
     ]
    }
   ],
   "source": [
    "print(type(try_float_var), type(1))"
   ]
  },
  {
   "cell_type": "code",
   "execution_count": 60,
   "id": "2dfecf4c",
   "metadata": {},
   "outputs": [
    {
     "name": "stdout",
     "output_type": "stream",
     "text": [
      "13.14\n"
     ]
    }
   ],
   "source": [
    "print(try_float_var + a) # Float - має більшу пріоритетність, тому замінуює результат на float"
   ]
  },
  {
   "cell_type": "code",
   "execution_count": 157,
   "id": "58a48b79",
   "metadata": {},
   "outputs": [
    {
     "name": "stdout",
     "output_type": "stream",
     "text": [
      "5 16 6.0 6\n"
     ]
    }
   ],
   "source": [
    "a, b, c = 16, 5, 6 # Створюємо три змінних\n",
    "c = float(c)\n",
    "print(b, a, c, 5 + 1)"
   ]
  },
  {
   "cell_type": "code",
   "execution_count": 158,
   "id": "0425b11e",
   "metadata": {
    "scrolled": true
   },
   "outputs": [
    {
     "name": "stdout",
     "output_type": "stream",
     "text": [
      "Plus  a + b =  21\n",
      "Minus a - b =  11\n",
      "Multi a * b =  80\n",
      "Power a ^ 2 =  256\n",
      "3.2 3 4.0\n"
     ]
    }
   ],
   "source": [
    "plus = a + b  # Plus value\n",
    "diff = a - b # Minus value\n",
    "mult = a * b # Multi value\n",
    "power_value = a ** 2 # Power з  право наліво читається \n",
    "\n",
    "print('Plus  a + b = ', plus)\n",
    "print('Minus a - b = ', diff)\n",
    "print('Multi a * b = ', mult)\n",
    "print('Power a ^ 2 = ', power_value )\n",
    "print(a / b , a // b, a ** 0.5)"
   ]
  },
  {
   "cell_type": "code",
   "execution_count": null,
   "id": "191be99c",
   "metadata": {},
   "outputs": [],
   "source": []
  },
  {
   "cell_type": "markdown",
   "id": "ec7d36e2",
   "metadata": {},
   "source": []
  },
  {
   "cell_type": "code",
   "execution_count": 161,
   "id": "5b2ac561",
   "metadata": {},
   "outputs": [
    {
     "name": "stdout",
     "output_type": "stream",
     "text": [
      "16\n"
     ]
    }
   ],
   "source": [
    "b = 16\n",
    "print(b)"
   ]
  },
  {
   "cell_type": "code",
   "execution_count": 82,
   "id": "8d628052",
   "metadata": {},
   "outputs": [],
   "source": [
    "# Module, input, practise task, prioriti of operation"
   ]
  },
  {
   "cell_type": "code",
   "execution_count": 162,
   "id": "4aa05671",
   "metadata": {},
   "outputs": [
    {
     "name": "stdout",
     "output_type": "stream",
     "text": [
      "14\n"
     ]
    }
   ],
   "source": [
    "b = b - 2\n",
    "print(b)"
   ]
  },
  {
   "cell_type": "markdown",
   "id": "2cebd345",
   "metadata": {},
   "source": [
    "#### Скорочений запис"
   ]
  },
  {
   "cell_type": "code",
   "execution_count": null,
   "id": "78624fa8",
   "metadata": {},
   "outputs": [],
   "source": [
    "b += 2 # b = b + 2 \n",
    "b -= 2 # b = b - 2\n",
    "b *= 2 # b = b * 2\n",
    "b /= 2 # b = b / 2"
   ]
  },
  {
   "cell_type": "code",
   "execution_count": 81,
   "id": "698d577b",
   "metadata": {},
   "outputs": [
    {
     "name": "stdout",
     "output_type": "stream",
     "text": [
      "9\n"
     ]
    }
   ],
   "source": [
    "b **= 2\n",
    "print(b)"
   ]
  },
  {
   "cell_type": "code",
   "execution_count": null,
   "id": "21720609",
   "metadata": {},
   "outputs": [],
   "source": []
  },
  {
   "cell_type": "code",
   "execution_count": null,
   "id": "bd4fa364",
   "metadata": {},
   "outputs": [],
   "source": []
  },
  {
   "cell_type": "code",
   "execution_count": null,
   "id": "23fe8ec3",
   "metadata": {},
   "outputs": [],
   "source": []
  },
  {
   "cell_type": "code",
   "execution_count": 54,
   "id": "9339ba95",
   "metadata": {},
   "outputs": [
    {
     "name": "stdout",
     "output_type": "stream",
     "text": [
      "1 0\n"
     ]
    }
   ],
   "source": [
    "print(int(bool_var), int(bool_false_var)) # Приймає значення 0  або 1 "
   ]
  },
  {
   "cell_type": "code",
   "execution_count": 210,
   "id": "90b97375",
   "metadata": {},
   "outputs": [
    {
     "name": "stdout",
     "output_type": "stream",
     "text": [
      "123450445\n",
      "123450445\n"
     ]
    }
   ],
   "source": [
    "print(123450445)\n",
    "print(123_450_445) # Можливість зручно записувати великі цифри"
   ]
  },
  {
   "cell_type": "code",
   "execution_count": 215,
   "id": "6bad993f",
   "metadata": {},
   "outputs": [
    {
     "name": "stdout",
     "output_type": "stream",
     "text": [
      "1234504450543\n"
     ]
    }
   ],
   "source": [
    "big_int = 123_450_445_0543\n",
    "print(big_int)"
   ]
  },
  {
   "cell_type": "code",
   "execution_count": null,
   "id": "d708a303",
   "metadata": {},
   "outputs": [],
   "source": []
  },
  {
   "cell_type": "code",
   "execution_count": null,
   "id": "0db84fbe",
   "metadata": {},
   "outputs": [],
   "source": [
    "# Convert type - name_of_type(value_to_convert)"
   ]
  },
  {
   "cell_type": "code",
   "execution_count": null,
   "id": "e4d3b90e",
   "metadata": {},
   "outputs": [],
   "source": [
    "print(float(1), \n",
    "      int(3.14), \n",
    "     )"
   ]
  },
  {
   "cell_type": "code",
   "execution_count": null,
   "id": "fe0b8ba0",
   "metadata": {},
   "outputs": [],
   "source": [
    "print(\n",
    "    float('3.14'), type(float('3.14')), '\\n',\n",
    "    int('4'), type(int('4'))\n",
    ")"
   ]
  },
  {
   "cell_type": "markdown",
   "id": "b98c1da8",
   "metadata": {},
   "source": [
    "### Variable name \n",
    "1. [Main rules](https://www.w3schools.com/python/gloss_python_variable_names.asp) - Use python_style\n",
    "\n",
    "> **Python_style** - when we create a var with \"_\"  \n",
    "\n",
    "> **CamelStyle** - when we create a var with other name and start new word in UpperCase"
   ]
  },
  {
   "cell_type": "code",
   "execution_count": 164,
   "id": "7c76e93d",
   "metadata": {},
   "outputs": [],
   "source": [
    "name_of_user = 'Oleksandr'"
   ]
  },
  {
   "cell_type": "code",
   "execution_count": 26,
   "id": "1c19360c",
   "metadata": {},
   "outputs": [
    {
     "ename": "SyntaxError",
     "evalue": "invalid decimal literal (508708947.py, line 10)",
     "output_type": "error",
     "traceback": [
      "\u001b[0;36m  Cell \u001b[0;32mIn [26], line 10\u001b[0;36m\u001b[0m\n\u001b[0;31m    2myvar = \"John\"\u001b[0m\n\u001b[0m    ^\u001b[0m\n\u001b[0;31mSyntaxError\u001b[0m\u001b[0;31m:\u001b[0m invalid decimal literal\n"
     ]
    }
   ],
   "source": [
    "#Legal variable names:\n",
    "myvar = \"John\"\n",
    "my_var = \"John\"\n",
    "_my_var = \"John\"\n",
    "myVar = \"John\"\n",
    "MYVAR = \"John\"\n",
    "myvar2 = \"John\"\n"
   ]
  },
  {
   "cell_type": "code",
   "execution_count": null,
   "id": "ebb8fe60",
   "metadata": {},
   "outputs": [],
   "source": [
    "#Illegal variable names:\n",
    "2myvar = \"John\"\n",
    "my-var = \"John\"\n",
    "my var = \"John\""
   ]
  },
  {
   "cell_type": "code",
   "execution_count": null,
   "id": "2a0a3b56",
   "metadata": {},
   "outputs": [],
   "source": []
  },
  {
   "cell_type": "markdown",
   "id": "1fae9769",
   "metadata": {},
   "source": [
    "### Comments \n",
    "1. One line start with # \n",
    "2. More than one line start with ''' and end with '''"
   ]
  },
  {
   "cell_type": "code",
   "execution_count": 167,
   "id": "df05e288",
   "metadata": {},
   "outputs": [
    {
     "name": "stdout",
     "output_type": "stream",
     "text": [
      "Some text\n"
     ]
    }
   ],
   "source": [
    "# One line comment, ignore by ide\n",
    "print('Some text')"
   ]
  },
  {
   "cell_type": "code",
   "execution_count": 173,
   "id": "2a9107e3",
   "metadata": {},
   "outputs": [
    {
     "name": "stdout",
     "output_type": "stream",
     "text": [
      "Some text\n"
     ]
    }
   ],
   "source": [
    "'''\n",
    "For big text, or try to explain\n",
    "For big text, or try to explain\n",
    "For big text, or try to explainFor big text, or try to explain\n",
    "For big text, or try to explain\n",
    "For big text, or try to explain\n",
    "''' \n",
    "print('Some text')"
   ]
  },
  {
   "cell_type": "code",
   "execution_count": 179,
   "id": "2bc75c35",
   "metadata": {},
   "outputs": [
    {
     "name": "stdout",
     "output_type": "stream",
     "text": [
      "10\n"
     ]
    }
   ],
   "source": [
    "help_value = 10\n",
    "print(help_value)"
   ]
  },
  {
   "cell_type": "code",
   "execution_count": 180,
   "id": "9f15db2b",
   "metadata": {},
   "outputs": [
    {
     "data": {
      "text/plain": [
       "-6"
      ]
     },
     "execution_count": 180,
     "metadata": {},
     "output_type": "execute_result"
    }
   ],
   "source": [
    "res = help_value - a # Use comments to save info about code\n",
    "print(res)"
   ]
  },
  {
   "cell_type": "code",
   "execution_count": null,
   "id": "54e6161f",
   "metadata": {},
   "outputs": [],
   "source": []
  },
  {
   "cell_type": "markdown",
   "id": "7f60725c",
   "metadata": {},
   "source": [
    "### Input - function for save infromation from user \n",
    "input(text optional)\n"
   ]
  },
  {
   "cell_type": "code",
   "execution_count": 181,
   "id": "f30a3c25",
   "metadata": {},
   "outputs": [
    {
     "name": "stdout",
     "output_type": "stream",
     "text": [
      "Sasha\n"
     ]
    },
    {
     "data": {
      "text/plain": [
       "'Sasha'"
      ]
     },
     "execution_count": 181,
     "metadata": {},
     "output_type": "execute_result"
    }
   ],
   "source": [
    "input()"
   ]
  },
  {
   "cell_type": "code",
   "execution_count": 184,
   "id": "a365c1d1",
   "metadata": {},
   "outputs": [
    {
     "name": "stdout",
     "output_type": "stream",
     "text": [
      "Enter you name: Sasha\n"
     ]
    }
   ],
   "source": [
    "name = input('Enter you name: ')"
   ]
  },
  {
   "cell_type": "code",
   "execution_count": 197,
   "id": "4884eed7",
   "metadata": {},
   "outputs": [
    {
     "name": "stdout",
     "output_type": "stream",
     "text": [
      "18 18\n"
     ]
    }
   ],
   "source": [
    "print(int(18.1), int(float('18.1')))"
   ]
  },
  {
   "cell_type": "code",
   "execution_count": 198,
   "id": "55db1792",
   "metadata": {
    "scrolled": true
   },
   "outputs": [
    {
     "name": "stdout",
     "output_type": "stream",
     "text": [
      "Enter you age: 18.1\n"
     ]
    },
    {
     "ename": "ValueError",
     "evalue": "invalid literal for int() with base 10: '18.1'",
     "output_type": "error",
     "traceback": [
      "\u001b[0;31m---------------------------------------------------------------------------\u001b[0m",
      "\u001b[0;31mValueError\u001b[0m                                Traceback (most recent call last)",
      "Cell \u001b[0;32mIn [198], line 1\u001b[0m\n\u001b[0;32m----> 1\u001b[0m age \u001b[38;5;241m=\u001b[39m \u001b[38;5;28;43mint\u001b[39;49m\u001b[43m(\u001b[49m\u001b[38;5;28;43minput\u001b[39;49m\u001b[43m(\u001b[49m\u001b[38;5;124;43m'\u001b[39;49m\u001b[38;5;124;43mEnter you age: \u001b[39;49m\u001b[38;5;124;43m'\u001b[39;49m\u001b[43m)\u001b[49m\u001b[43m)\u001b[49m\n",
      "\u001b[0;31mValueError\u001b[0m: invalid literal for int() with base 10: '18.1'"
     ]
    }
   ],
   "source": [
    "age = int(input('Enter you age: '))"
   ]
  },
  {
   "cell_type": "code",
   "execution_count": 190,
   "id": "54fee5e4",
   "metadata": {},
   "outputs": [
    {
     "name": "stdout",
     "output_type": "stream",
     "text": [
      "28\n"
     ]
    }
   ],
   "source": [
    "print(age + 10)"
   ]
  },
  {
   "cell_type": "code",
   "execution_count": 94,
   "id": "fb582095",
   "metadata": {},
   "outputs": [
    {
     "name": "stdout",
     "output_type": "stream",
     "text": [
      "sashasasha\n"
     ]
    }
   ],
   "source": [
    "print(name + name)"
   ]
  },
  {
   "cell_type": "code",
   "execution_count": null,
   "id": "9a69de70",
   "metadata": {},
   "outputs": [],
   "source": [
    "age_of_user = int(input('Enter you age: '))"
   ]
  },
  {
   "cell_type": "code",
   "execution_count": null,
   "id": "6e157ed4",
   "metadata": {},
   "outputs": [],
   "source": [
    "print(age_of_user, type(age_of_user))"
   ]
  },
  {
   "cell_type": "code",
   "execution_count": 199,
   "id": "d258a0df",
   "metadata": {},
   "outputs": [
    {
     "ename": "ValueError",
     "evalue": "invalid literal for int() with base 10: 'a'",
     "output_type": "error",
     "traceback": [
      "\u001b[0;31m---------------------------------------------------------------------------\u001b[0m",
      "\u001b[0;31mValueError\u001b[0m                                Traceback (most recent call last)",
      "Cell \u001b[0;32mIn [199], line 1\u001b[0m\n\u001b[0;32m----> 1\u001b[0m a \u001b[38;5;241m=\u001b[39m \u001b[38;5;28;43mint\u001b[39;49m\u001b[43m(\u001b[49m\u001b[38;5;124;43m'\u001b[39;49m\u001b[38;5;124;43ma\u001b[39;49m\u001b[38;5;124;43m'\u001b[39;49m\u001b[43m)\u001b[49m\n",
      "\u001b[0;31mValueError\u001b[0m: invalid literal for int() with base 10: 'a'"
     ]
    }
   ],
   "source": [
    "a = int('a')"
   ]
  },
  {
   "cell_type": "code",
   "execution_count": 202,
   "id": "db120edf",
   "metadata": {},
   "outputs": [
    {
     "ename": "ValueError",
     "evalue": "invalid literal for int() with base 10: '😂'",
     "output_type": "error",
     "traceback": [
      "\u001b[0;31m---------------------------------------------------------------------------\u001b[0m",
      "\u001b[0;31mValueError\u001b[0m                                Traceback (most recent call last)",
      "Cell \u001b[0;32mIn [202], line 1\u001b[0m\n\u001b[0;32m----> 1\u001b[0m a \u001b[38;5;241m=\u001b[39m \u001b[38;5;28;43mint\u001b[39;49m\u001b[43m(\u001b[49m\u001b[38;5;124;43m'\u001b[39;49m\u001b[38;5;124;43m😂\u001b[39;49m\u001b[38;5;124;43m'\u001b[39;49m\u001b[43m)\u001b[49m\n\u001b[1;32m      2\u001b[0m a\n",
      "\u001b[0;31mValueError\u001b[0m: invalid literal for int() with base 10: '😂'"
     ]
    }
   ],
   "source": [
    "a = int('😂')\n",
    "print(a)"
   ]
  },
  {
   "cell_type": "code",
   "execution_count": 206,
   "id": "4196dedc",
   "metadata": {},
   "outputs": [
    {
     "name": "stdout",
     "output_type": "stream",
     "text": [
      "🐅 + 2\n"
     ]
    }
   ],
   "source": [
    "smile = '🐅 + 2'\n",
    "print(smile)"
   ]
  },
  {
   "cell_type": "code",
   "execution_count": null,
   "id": "05b10904",
   "metadata": {},
   "outputs": [],
   "source": []
  }
 ],
 "metadata": {
  "kernelspec": {
   "display_name": "Python 3 (ipykernel)",
   "language": "python",
   "name": "python3"
  },
  "language_info": {
   "codemirror_mode": {
    "name": "ipython",
    "version": 3
   },
   "file_extension": ".py",
   "mimetype": "text/x-python",
   "name": "python",
   "nbconvert_exporter": "python",
   "pygments_lexer": "ipython3",
   "version": "3.10.8"
  }
 },
 "nbformat": 4,
 "nbformat_minor": 5
}
