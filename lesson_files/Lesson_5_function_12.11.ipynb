{
 "cells": [
  {
   "cell_type": "markdown",
   "id": "90d10e97",
   "metadata": {},
   "source": [
    "### Python lesson 5.  \n",
    "#### Create and work with **Function**. Date: 12.11\n",
    "> **Main topic**:\n",
    ">    1. Test\n",
    ">    2. **Function**\n",
    "    \n",
    "> **Materials**:\n",
    ">    1. [Function](https://python-course.eu/python-tutorial/functions.php)\n",
    ">    2. [Range function](https://realpython.com/python-range/)\n",
    ">    3. [Simple function](https://www.w3schools.com/python/python_functions.asp)\n",
    ">    4. [Lambda function](https://www.w3schools.com/python/python_lambda.asp)\n",
    "        "
   ]
  },
  {
   "cell_type": "markdown",
   "id": "43feaa4a",
   "metadata": {},
   "source": []
  },
  {
   "cell_type": "code",
   "execution_count": 237,
   "id": "ec3a1991",
   "metadata": {},
   "outputs": [
    {
     "name": "stdout",
     "output_type": "stream",
     "text": [
      "Enter number12\n",
      "Step 0 to 12\n",
      "Step 1 to 12\n",
      "Step 2 to 12\n",
      "Step 3 to 12\n",
      "Step 4 to 12\n",
      "Step 5 to 12\n",
      "Step 6 to 12\n",
      "Step 7 to 12\n",
      "Step 8 to 12\n",
      "Step 9 to 12\n",
      "Step 10 to 12\n",
      "Step 11 to 12\n",
      "Step 12 to 12\n"
     ]
    }
   ],
   "source": [
    "# While - loop\n",
    "# Task 1. Знайти помилку. Описати що робить код, бажано построчно \n",
    "pointer = 0\n",
    "counter = int(input('Enter number')) # Синтаксчна помилка\n",
    "while pointer <= counter: # Цикли\n",
    "    # Тіло циклу\n",
    "    print(f'Step {pointer} to {counter}')\n",
    "    pointer +=1 # Синтаксична і логічна помилка"
   ]
  },
  {
   "cell_type": "code",
   "execution_count": null,
   "id": "5b8efc79",
   "metadata": {},
   "outputs": [],
   "source": []
  },
  {
   "cell_type": "code",
   "execution_count": null,
   "id": "8645ae0a",
   "metadata": {},
   "outputs": [],
   "source": [
    "# Task 2. Знайти суму чисел від 0 до 100\n",
    "# Створювати змінні, 0\n",
    "# оператори циклів\n",
    "# if - stat \n",
    "# print \n",
    "# range "
   ]
  },
  {
   "cell_type": "code",
   "execution_count": null,
   "id": "9697c0e2",
   "metadata": {},
   "outputs": [],
   "source": [
    "# Студент \n",
    "i = 99\n",
    "s = i * (i + 1) // 2"
   ]
  },
  {
   "cell_type": "code",
   "execution_count": 241,
   "id": "be570eb5",
   "metadata": {},
   "outputs": [
    {
     "name": "stdout",
     "output_type": "stream",
     "text": [
      "4950\n"
     ]
    }
   ],
   "source": [
    "# Студент \n",
    "sum_ = 0\n",
    "for i in range(100):\n",
    "    sum_ += i # sum_ = sum_ + i\n",
    "print(sum)"
   ]
  },
  {
   "cell_type": "code",
   "execution_count": 245,
   "id": "fbf868c1",
   "metadata": {},
   "outputs": [
    {
     "name": "stdout",
     "output_type": "stream",
     "text": [
      "s st srn g\n"
     ]
    }
   ],
   "source": [
    "string = 'string'\n",
    "print(string[0], string[0:2], string[0::2], string[-1])"
   ]
  },
  {
   "cell_type": "code",
   "execution_count": null,
   "id": "ee7cfa99",
   "metadata": {},
   "outputs": [],
   "source": [
    "# Task 3. Розвернути строку \n",
    "1. за допомогою цикла \n",
    "2. Функцією або slice . Example: 123 -> 321 "
   ]
  },
  {
   "cell_type": "code",
   "execution_count": 249,
   "id": "780587f0",
   "metadata": {},
   "outputs": [
    {
     "name": "stdout",
     "output_type": "stream",
     "text": [
      "Enter you string: 123\n",
      "123 reverse 321 \n"
     ]
    }
   ],
   "source": [
    "user_string = input('Enter you string: ')\n",
    "print(f'{user_string} reverse {user_string[::-1]} ')"
   ]
  },
  {
   "cell_type": "code",
   "execution_count": null,
   "id": "bf632e41",
   "metadata": {},
   "outputs": [],
   "source": []
  },
  {
   "cell_type": "code",
   "execution_count": 242,
   "id": "661ec092",
   "metadata": {},
   "outputs": [
    {
     "data": {
      "text/plain": [
       "45"
      ]
     },
     "execution_count": 242,
     "metadata": {},
     "output_type": "execute_result"
    }
   ],
   "source": [
    "# Test task \n",
    "Create the dictionary with numbers (counts) of vowels in the given string in one line. We consider a, e, i, o, u as vowels (not y).\n",
    "Example of input: 'Education'\n",
    "Example of output: count of  vowels: 5 * Потрібно порахувати vowels і вивезти їх кількість "
   ]
  },
  {
   "cell_type": "code",
   "execution_count": 258,
   "id": "ff65ccad",
   "metadata": {},
   "outputs": [
    {
     "name": "stdout",
     "output_type": "stream",
     "text": [
      "Enter number: 1234\n",
      "Step 0 Summ 0\n",
      "Step 1 Summ 1\n",
      "Step 2 Summ 3\n",
      "Step 3 Summ 6\n",
      "10\n"
     ]
    }
   ],
   "source": [
    "# Task 4. Порахувати сумму чисел, введену user. Example: 123 -> 6\n",
    "string_user = input('Enter number: ')\n",
    "summ_of_string = 0\n",
    "counter = 0\n",
    "for i in string_user:\n",
    "    print(f'Step {counter} Summ {summ_of_string}')\n",
    "    counter += 1\n",
    "    summ_of_string += int(i)\n",
    "print(summ_of_string)"
   ]
  },
  {
   "cell_type": "code",
   "execution_count": null,
   "id": "388b338d",
   "metadata": {},
   "outputs": [],
   "source": []
  },
  {
   "cell_type": "markdown",
   "id": "fdf6dc67",
   "metadata": {},
   "source": [
    "### Функція - іменована/анонімна область пам'яті. В середині якої зберігається код.\n",
    "(Тип даних функцій - функція, об'єкт в Python)\n",
    ">Основні задачі які вирішують функція:\n",
    "> 1. Повторне використання коду\n",
    "> 2. Розділення програми на логічні блоки\n",
    "\n",
    "Для створення функції з іменем використовуємо ключове слово **def** \n",
    "\n",
    "\n",
    "def імя_функції(параметри) -> повертаємий тип (очікуваний): \\\n",
    "    Тіло функції, в середині цього тіла створюється локальна область видимості"
   ]
  },
  {
   "cell_type": "markdown",
   "id": "8456565a",
   "metadata": {},
   "source": [
    "### Типи функцій:\n",
    "> 1. Функція без параметрів\n",
    "> 2. Функція з параметрами\n",
    "> 3. Функція з необ параметрами(*args, \\***kwargs). "
   ]
  },
  {
   "cell_type": "code",
   "execution_count": 261,
   "id": "9548e888",
   "metadata": {},
   "outputs": [],
   "source": [
    "pri = print"
   ]
  },
  {
   "cell_type": "code",
   "execution_count": 260,
   "id": "56692058",
   "metadata": {},
   "outputs": [
    {
     "name": "stdout",
     "output_type": "stream",
     "text": [
      "Hello World!\n"
     ]
    }
   ],
   "source": [
    "pri('Hello World!')"
   ]
  },
  {
   "cell_type": "code",
   "execution_count": 181,
   "id": "974f724b",
   "metadata": {},
   "outputs": [],
   "source": []
  },
  {
   "cell_type": "code",
   "execution_count": 182,
   "id": "712a9b4d",
   "metadata": {},
   "outputs": [
    {
     "data": {
      "text/plain": [
       "6"
      ]
     },
     "execution_count": 182,
     "metadata": {},
     "output_type": "execute_result"
    }
   ],
   "source": []
  },
  {
   "cell_type": "code",
   "execution_count": 267,
   "id": "b2589498",
   "metadata": {},
   "outputs": [],
   "source": [
    "def first_function(): # Створюємо функцію без параметрів, signature \n",
    "    # Тіло функції - body\n",
    "    print('Hello my first function') "
   ]
  },
  {
   "cell_type": "code",
   "execution_count": 268,
   "id": "92a2cd1a",
   "metadata": {},
   "outputs": [
    {
     "name": "stdout",
     "output_type": "stream",
     "text": [
      "Hello my first function\n",
      "Hello my first function\n",
      "Hello my first function\n",
      "Hello my first function\n",
      "None None None None\n"
     ]
    }
   ],
   "source": [
    "print(first_function(), first_function(), first_function(), first_function())"
   ]
  },
  {
   "cell_type": "code",
   "execution_count": 270,
   "id": "5c98b2cf",
   "metadata": {},
   "outputs": [
    {
     "name": "stdout",
     "output_type": "stream",
     "text": [
      "Hello my first function\n",
      "Hello my first function\n",
      "Hello my first function\n",
      "Hello my first function\n",
      "Hello my first function\n",
      "Hello my first function\n",
      "Hello my first function\n",
      "Hello my first function\n",
      "Hello my first function\n",
      "Hello my first function\n",
      "Hello my first function\n",
      "Hello my first function\n",
      "Hello my first function\n",
      "Hello my first function\n",
      "Hello my first function\n",
      "Hello my first function\n",
      "Hello my first function\n",
      "Hello my first function\n",
      "Hello my first function\n",
      "Hello my first function\n",
      "Hello my first function\n",
      "Hello my first function\n",
      "Hello my first function\n",
      "Hello my first function\n",
      "Hello my first function\n",
      "Hello my first function\n",
      "Hello my first function\n",
      "Hello my first function\n",
      "Hello my first function\n",
      "Hello my first function\n",
      "Hello my first function\n",
      "Hello my first function\n",
      "Hello my first function\n",
      "Hello my first function\n",
      "Hello my first function\n",
      "Hello my first function\n",
      "Hello my first function\n",
      "Hello my first function\n",
      "Hello my first function\n",
      "Hello my first function\n",
      "Hello my first function\n",
      "Hello my first function\n",
      "Hello my first function\n",
      "Hello my first function\n",
      "Hello my first function\n",
      "Hello my first function\n",
      "Hello my first function\n",
      "Hello my first function\n",
      "Hello my first function\n",
      "Hello my first function\n",
      "Hello my first function\n",
      "Hello my first function\n",
      "Hello my first function\n",
      "Hello my first function\n",
      "Hello my first function\n",
      "Hello my first function\n",
      "Hello my first function\n",
      "Hello my first function\n",
      "Hello my first function\n",
      "Hello my first function\n",
      "Hello my first function\n",
      "Hello my first function\n",
      "Hello my first function\n",
      "Hello my first function\n",
      "Hello my first function\n",
      "Hello my first function\n",
      "Hello my first function\n",
      "Hello my first function\n",
      "Hello my first function\n",
      "Hello my first function\n",
      "Hello my first function\n",
      "Hello my first function\n",
      "Hello my first function\n",
      "Hello my first function\n",
      "Hello my first function\n",
      "Hello my first function\n",
      "Hello my first function\n",
      "Hello my first function\n",
      "Hello my first function\n",
      "Hello my first function\n",
      "Hello my first function\n",
      "Hello my first function\n",
      "Hello my first function\n",
      "Hello my first function\n",
      "Hello my first function\n",
      "Hello my first function\n",
      "Hello my first function\n",
      "Hello my first function\n",
      "Hello my first function\n",
      "Hello my first function\n",
      "Hello my first function\n",
      "Hello my first function\n",
      "Hello my first function\n",
      "Hello my first function\n",
      "Hello my first function\n",
      "Hello my first function\n",
      "Hello my first function\n",
      "Hello my first function\n",
      "Hello my first function\n",
      "Hello my first function\n",
      "Hello my first function\n",
      "Hello my first function\n",
      "Hello my first function\n",
      "Hello my first function\n",
      "Hello my first function\n",
      "Hello my first function\n",
      "Hello my first function\n",
      "Hello my first function\n",
      "Hello my first function\n",
      "Hello my first function\n",
      "Hello my first function\n",
      "Hello my first function\n",
      "Hello my first function\n",
      "Hello my first function\n",
      "Hello my first function\n",
      "Hello my first function\n",
      "Hello my first function\n",
      "Hello my first function\n",
      "Hello my first function\n",
      "Hello my first function\n",
      "Hello my first function\n",
      "Hello my first function\n",
      "Hello my first function\n",
      "Hello my first function\n",
      "Hello my first function\n",
      "Hello my first function\n",
      "Hello my first function\n",
      "Hello my first function\n",
      "Hello my first function\n",
      "Hello my first function\n",
      "Hello my first function\n",
      "Hello my first function\n",
      "Hello my first function\n",
      "Hello my first function\n",
      "Hello my first function\n",
      "Hello my first function\n",
      "Hello my first function\n",
      "Hello my first function\n",
      "Hello my first function\n",
      "Hello my first function\n",
      "Hello my first function\n",
      "Hello my first function\n",
      "Hello my first function\n",
      "Hello my first function\n",
      "Hello my first function\n",
      "Hello my first function\n",
      "Hello my first function\n",
      "Hello my first function\n",
      "Hello my first function\n",
      "Hello my first function\n",
      "Hello my first function\n",
      "Hello my first function\n",
      "Hello my first function\n",
      "Hello my first function\n",
      "Hello my first function\n",
      "Hello my first function\n",
      "Hello my first function\n",
      "Hello my first function\n",
      "Hello my first function\n",
      "Hello my first function\n",
      "Hello my first function\n",
      "Hello my first function\n",
      "Hello my first function\n",
      "Hello my first function\n",
      "Hello my first function\n",
      "Hello my first function\n",
      "Hello my first function\n",
      "Hello my first function\n",
      "Hello my first function\n",
      "Hello my first function\n",
      "Hello my first function\n",
      "Hello my first function\n",
      "Hello my first function\n",
      "Hello my first function\n",
      "Hello my first function\n",
      "Hello my first function\n",
      "Hello my first function\n",
      "Hello my first function\n",
      "Hello my first function\n",
      "Hello my first function\n",
      "Hello my first function\n",
      "Hello my first function\n",
      "Hello my first function\n",
      "Hello my first function\n",
      "Hello my first function\n",
      "Hello my first function\n",
      "Hello my first function\n",
      "Hello my first function\n",
      "Hello my first function\n",
      "Hello my first function\n",
      "Hello my first function\n",
      "Hello my first function\n",
      "Hello my first function\n",
      "Hello my first function\n",
      "Hello my first function\n",
      "Hello my first function\n",
      "Hello my first function\n",
      "Hello my first function\n",
      "Hello my first function\n",
      "Hello my first function\n",
      "Hello my first function\n",
      "Hello my first function\n",
      "Hello my first function\n",
      "Hello my first function\n",
      "Hello my first function\n",
      "Hello my first function\n",
      "Hello my first function\n",
      "Hello my first function\n",
      "Hello my first function\n",
      "Hello my first function\n",
      "Hello my first function\n",
      "Hello my first function\n",
      "Hello my first function\n",
      "Hello my first function\n",
      "Hello my first function\n",
      "Hello my first function\n",
      "Hello my first function\n",
      "Hello my first function\n",
      "Hello my first function\n",
      "Hello my first function\n",
      "Hello my first function\n",
      "Hello my first function\n",
      "Hello my first function\n",
      "Hello my first function\n",
      "Hello my first function\n",
      "Hello my first function\n",
      "Hello my first function\n",
      "Hello my first function\n",
      "Hello my first function\n",
      "Hello my first function\n",
      "Hello my first function\n",
      "Hello my first function\n",
      "Hello my first function\n",
      "Hello my first function\n",
      "Hello my first function\n",
      "Hello my first function\n",
      "Hello my first function\n",
      "Hello my first function\n",
      "Hello my first function\n",
      "Hello my first function\n",
      "Hello my first function\n",
      "Hello my first function\n",
      "Hello my first function\n",
      "Hello my first function\n",
      "Hello my first function\n",
      "Hello my first function\n",
      "Hello my first function\n",
      "Hello my first function\n",
      "Hello my first function\n",
      "Hello my first function\n",
      "Hello my first function\n",
      "Hello my first function\n",
      "Hello my first function\n",
      "Hello my first function\n",
      "Hello my first function\n",
      "Hello my first function\n",
      "Hello my first function\n",
      "Hello my first function\n",
      "Hello my first function\n",
      "Hello my first function\n",
      "Hello my first function\n",
      "Hello my first function\n",
      "Hello my first function\n",
      "Hello my first function\n",
      "Hello my first function\n",
      "Hello my first function\n",
      "Hello my first function\n",
      "Hello my first function\n",
      "Hello my first function\n",
      "Hello my first function\n",
      "Hello my first function\n",
      "Hello my first function\n",
      "Hello my first function\n",
      "Hello my first function\n",
      "Hello my first function\n",
      "Hello my first function\n",
      "Hello my first function\n",
      "Hello my first function\n",
      "Hello my first function\n",
      "Hello my first function\n",
      "Hello my first function\n",
      "Hello my first function\n",
      "Hello my first function\n",
      "Hello my first function\n",
      "Hello my first function\n",
      "Hello my first function\n",
      "Hello my first function\n",
      "Hello my first function\n",
      "Hello my first function\n",
      "Hello my first function\n",
      "Hello my first function\n",
      "Hello my first function\n",
      "Hello my first function\n",
      "Hello my first function\n",
      "Hello my first function\n",
      "Hello my first function\n",
      "Hello my first function\n",
      "Hello my first function\n",
      "Hello my first function\n",
      "Hello my first function\n",
      "Hello my first function\n",
      "Hello my first function\n",
      "Hello my first function\n",
      "Hello my first function\n",
      "Hello my first function\n",
      "Hello my first function\n",
      "Hello my first function\n",
      "Hello my first function\n",
      "Hello my first function\n",
      "Hello my first function\n",
      "Hello my first function\n",
      "Hello my first function\n",
      "Hello my first function\n",
      "Hello my first function\n",
      "Hello my first function\n",
      "Hello my first function\n",
      "Hello my first function\n",
      "Hello my first function\n",
      "Hello my first function\n",
      "Hello my first function\n",
      "Hello my first function\n",
      "Hello my first function\n",
      "Hello my first function\n",
      "Hello my first function\n",
      "Hello my first function\n",
      "Hello my first function\n",
      "Hello my first function\n",
      "Hello my first function\n",
      "Hello my first function\n",
      "Hello my first function\n",
      "Hello my first function\n",
      "Hello my first function\n",
      "Hello my first function\n",
      "Hello my first function\n",
      "Hello my first function\n",
      "Hello my first function\n",
      "Hello my first function\n",
      "Hello my first function\n",
      "Hello my first function\n",
      "Hello my first function\n",
      "Hello my first function\n",
      "Hello my first function\n",
      "Hello my first function\n",
      "Hello my first function\n",
      "Hello my first function\n",
      "Hello my first function\n",
      "Hello my first function\n",
      "Hello my first function\n",
      "Hello my first function\n",
      "Hello my first function\n",
      "Hello my first function\n",
      "Hello my first function\n",
      "Hello my first function\n",
      "Hello my first function\n",
      "Hello my first function\n",
      "Hello my first function\n",
      "Hello my first function\n",
      "Hello my first function\n",
      "Hello my first function\n",
      "Hello my first function\n",
      "Hello my first function\n",
      "Hello my first function\n",
      "Hello my first function\n",
      "Hello my first function\n",
      "Hello my first function\n",
      "Hello my first function\n",
      "Hello my first function\n",
      "Hello my first function\n",
      "Hello my first function\n",
      "Hello my first function\n",
      "Hello my first function\n",
      "Hello my first function\n",
      "Hello my first function\n",
      "Hello my first function\n",
      "Hello my first function\n",
      "Hello my first function\n",
      "Hello my first function\n",
      "Hello my first function\n",
      "Hello my first function\n",
      "Hello my first function\n",
      "Hello my first function\n",
      "Hello my first function\n",
      "Hello my first function\n",
      "Hello my first function\n",
      "Hello my first function\n",
      "Hello my first function\n",
      "Hello my first function\n",
      "Hello my first function\n",
      "Hello my first function\n",
      "Hello my first function\n",
      "Hello my first function\n",
      "Hello my first function\n",
      "Hello my first function\n",
      "Hello my first function\n",
      "Hello my first function\n",
      "Hello my first function\n",
      "Hello my first function\n",
      "Hello my first function\n",
      "Hello my first function\n",
      "Hello my first function\n",
      "Hello my first function\n",
      "Hello my first function\n",
      "Hello my first function\n",
      "Hello my first function\n",
      "Hello my first function\n",
      "Hello my first function\n",
      "Hello my first function\n",
      "Hello my first function\n",
      "Hello my first function\n",
      "Hello my first function\n",
      "Hello my first function\n",
      "Hello my first function\n",
      "Hello my first function\n",
      "Hello my first function\n",
      "Hello my first function\n",
      "Hello my first function\n",
      "Hello my first function\n",
      "Hello my first function\n",
      "Hello my first function\n",
      "Hello my first function\n",
      "Hello my first function\n",
      "Hello my first function\n",
      "Hello my first function\n",
      "Hello my first function\n",
      "Hello my first function\n",
      "Hello my first function\n",
      "Hello my first function\n",
      "Hello my first function\n",
      "Hello my first function\n",
      "Hello my first function\n",
      "Hello my first function\n",
      "Hello my first function\n",
      "Hello my first function\n",
      "Hello my first function\n",
      "Hello my first function\n",
      "Hello my first function\n",
      "Hello my first function\n",
      "Hello my first function\n",
      "Hello my first function\n",
      "Hello my first function\n",
      "Hello my first function\n",
      "Hello my first function\n",
      "Hello my first function\n",
      "Hello my first function\n",
      "Hello my first function\n",
      "Hello my first function\n",
      "Hello my first function\n",
      "Hello my first function\n",
      "Hello my first function\n",
      "Hello my first function\n",
      "Hello my first function\n",
      "Hello my first function\n",
      "Hello my first function\n",
      "Hello my first function\n",
      "Hello my first function\n",
      "Hello my first function\n",
      "Hello my first function\n",
      "Hello my first function\n",
      "Hello my first function\n",
      "Hello my first function\n",
      "Hello my first function\n",
      "Hello my first function\n",
      "Hello my first function\n",
      "Hello my first function\n",
      "Hello my first function\n",
      "Hello my first function\n",
      "Hello my first function\n",
      "Hello my first function\n",
      "Hello my first function\n",
      "Hello my first function\n",
      "Hello my first function\n",
      "Hello my first function\n",
      "Hello my first function\n",
      "Hello my first function\n",
      "Hello my first function\n",
      "Hello my first function\n",
      "Hello my first function\n",
      "Hello my first function\n",
      "Hello my first function\n",
      "Hello my first function\n",
      "Hello my first function\n",
      "Hello my first function\n",
      "Hello my first function\n",
      "Hello my first function\n",
      "Hello my first function\n",
      "Hello my first function\n",
      "Hello my first function\n",
      "Hello my first function\n",
      "Hello my first function\n",
      "Hello my first function\n",
      "Hello my first function\n",
      "Hello my first function\n",
      "Hello my first function\n",
      "Hello my first function\n",
      "Hello my first function\n",
      "Hello my first function\n",
      "Hello my first function\n",
      "Hello my first function\n",
      "Hello my first function\n",
      "Hello my first function\n",
      "Hello my first function\n",
      "Hello my first function\n",
      "Hello my first function\n",
      "Hello my first function\n",
      "Hello my first function\n",
      "Hello my first function\n",
      "Hello my first function\n",
      "Hello my first function\n",
      "Hello my first function\n",
      "Hello my first function\n",
      "Hello my first function\n",
      "Hello my first function\n",
      "Hello my first function\n",
      "Hello my first function\n",
      "Hello my first function\n",
      "Hello my first function\n",
      "Hello my first function\n",
      "Hello my first function\n",
      "Hello my first function\n",
      "Hello my first function\n",
      "Hello my first function\n",
      "Hello my first function\n",
      "Hello my first function\n",
      "Hello my first function\n",
      "Hello my first function\n",
      "Hello my first function\n",
      "Hello my first function\n",
      "Hello my first function\n",
      "Hello my first function\n",
      "Hello my first function\n",
      "Hello my first function\n",
      "Hello my first function\n",
      "Hello my first function\n",
      "Hello my first function\n",
      "Hello my first function\n",
      "Hello my first function\n",
      "Hello my first function\n",
      "Hello my first function\n",
      "Hello my first function\n",
      "Hello my first function\n",
      "Hello my first function\n",
      "Hello my first function\n",
      "Hello my first function\n",
      "Hello my first function\n",
      "Hello my first function\n",
      "Hello my first function\n",
      "Hello my first function\n",
      "Hello my first function\n",
      "Hello my first function\n",
      "Hello my first function\n",
      "Hello my first function\n",
      "Hello my first function\n",
      "Hello my first function\n",
      "Hello my first function\n",
      "Hello my first function\n",
      "Hello my first function\n",
      "Hello my first function\n",
      "Hello my first function\n",
      "Hello my first function\n",
      "Hello my first function\n",
      "Hello my first function\n",
      "Hello my first function\n",
      "Hello my first function\n",
      "Hello my first function\n",
      "Hello my first function\n",
      "Hello my first function\n",
      "Hello my first function\n",
      "Hello my first function\n",
      "Hello my first function\n",
      "Hello my first function\n",
      "Hello my first function\n",
      "Hello my first function\n",
      "Hello my first function\n",
      "Hello my first function\n",
      "Hello my first function\n",
      "Hello my first function\n",
      "Hello my first function\n",
      "Hello my first function\n",
      "Hello my first function\n",
      "Hello my first function\n",
      "Hello my first function\n",
      "Hello my first function\n",
      "Hello my first function\n",
      "Hello my first function\n",
      "Hello my first function\n",
      "Hello my first function\n",
      "Hello my first function\n",
      "Hello my first function\n",
      "Hello my first function\n",
      "Hello my first function\n",
      "Hello my first function\n",
      "Hello my first function\n",
      "Hello my first function\n",
      "Hello my first function\n",
      "Hello my first function\n",
      "Hello my first function\n",
      "Hello my first function\n",
      "Hello my first function\n",
      "Hello my first function\n",
      "Hello my first function\n",
      "Hello my first function\n",
      "Hello my first function\n",
      "Hello my first function\n",
      "Hello my first function\n",
      "Hello my first function\n",
      "Hello my first function\n",
      "Hello my first function\n",
      "Hello my first function\n",
      "Hello my first function\n",
      "Hello my first function\n",
      "Hello my first function\n",
      "Hello my first function\n",
      "Hello my first function\n",
      "Hello my first function\n",
      "Hello my first function\n",
      "Hello my first function\n",
      "Hello my first function\n",
      "Hello my first function\n",
      "Hello my first function\n",
      "Hello my first function\n",
      "Hello my first function\n",
      "Hello my first function\n",
      "Hello my first function\n",
      "Hello my first function\n",
      "Hello my first function\n",
      "Hello my first function\n",
      "Hello my first function\n",
      "Hello my first function\n",
      "Hello my first function\n",
      "Hello my first function\n",
      "Hello my first function\n",
      "Hello my first function\n",
      "Hello my first function\n",
      "Hello my first function\n",
      "Hello my first function\n",
      "Hello my first function\n",
      "Hello my first function\n",
      "Hello my first function\n",
      "Hello my first function\n",
      "Hello my first function\n",
      "Hello my first function\n",
      "Hello my first function\n",
      "Hello my first function\n",
      "Hello my first function\n",
      "Hello my first function\n",
      "Hello my first function\n",
      "Hello my first function\n",
      "Hello my first function\n",
      "Hello my first function\n",
      "Hello my first function\n",
      "Hello my first function\n",
      "Hello my first function\n",
      "Hello my first function\n",
      "Hello my first function\n",
      "Hello my first function\n",
      "Hello my first function\n",
      "Hello my first function\n",
      "Hello my first function\n",
      "Hello my first function\n",
      "Hello my first function\n",
      "Hello my first function\n",
      "Hello my first function\n",
      "Hello my first function\n",
      "Hello my first function\n",
      "Hello my first function\n",
      "Hello my first function\n",
      "Hello my first function\n",
      "Hello my first function\n",
      "Hello my first function\n",
      "Hello my first function\n",
      "Hello my first function\n",
      "Hello my first function\n",
      "Hello my first function\n",
      "Hello my first function\n",
      "Hello my first function\n",
      "Hello my first function\n",
      "Hello my first function\n",
      "Hello my first function\n",
      "Hello my first function\n",
      "Hello my first function\n",
      "Hello my first function\n",
      "Hello my first function\n",
      "Hello my first function\n",
      "Hello my first function\n",
      "Hello my first function\n",
      "Hello my first function\n",
      "Hello my first function\n",
      "Hello my first function\n",
      "Hello my first function\n",
      "Hello my first function\n",
      "Hello my first function\n",
      "Hello my first function\n",
      "Hello my first function\n",
      "Hello my first function\n",
      "Hello my first function\n",
      "Hello my first function\n",
      "Hello my first function\n",
      "Hello my first function\n",
      "Hello my first function\n",
      "Hello my first function\n",
      "Hello my first function\n",
      "Hello my first function\n",
      "Hello my first function\n",
      "Hello my first function\n",
      "Hello my first function\n",
      "Hello my first function\n",
      "Hello my first function\n",
      "Hello my first function\n",
      "Hello my first function\n",
      "Hello my first function\n",
      "Hello my first function\n",
      "Hello my first function\n",
      "Hello my first function\n",
      "Hello my first function\n",
      "Hello my first function\n",
      "Hello my first function\n",
      "Hello my first function\n",
      "Hello my first function\n",
      "Hello my first function\n",
      "Hello my first function\n",
      "Hello my first function\n",
      "Hello my first function\n",
      "Hello my first function\n",
      "Hello my first function\n",
      "Hello my first function\n",
      "Hello my first function\n",
      "Hello my first function\n",
      "Hello my first function\n",
      "Hello my first function\n",
      "Hello my first function\n",
      "Hello my first function\n",
      "Hello my first function\n",
      "Hello my first function\n",
      "Hello my first function\n",
      "Hello my first function\n",
      "Hello my first function\n",
      "Hello my first function\n",
      "Hello my first function\n",
      "Hello my first function\n",
      "Hello my first function\n",
      "Hello my first function\n",
      "Hello my first function\n",
      "Hello my first function\n",
      "Hello my first function\n",
      "Hello my first function\n",
      "Hello my first function\n",
      "Hello my first function\n",
      "Hello my first function\n",
      "Hello my first function\n",
      "Hello my first function\n",
      "Hello my first function\n",
      "Hello my first function\n",
      "Hello my first function\n",
      "Hello my first function\n",
      "Hello my first function\n",
      "Hello my first function\n",
      "Hello my first function\n",
      "Hello my first function\n",
      "Hello my first function\n",
      "Hello my first function\n",
      "Hello my first function\n",
      "Hello my first function\n",
      "Hello my first function\n",
      "Hello my first function\n",
      "Hello my first function\n",
      "Hello my first function\n",
      "Hello my first function\n",
      "Hello my first function\n",
      "Hello my first function\n",
      "Hello my first function\n",
      "Hello my first function\n",
      "Hello my first function\n",
      "Hello my first function\n",
      "Hello my first function\n",
      "Hello my first function\n",
      "Hello my first function\n",
      "Hello my first function\n",
      "Hello my first function\n",
      "Hello my first function\n",
      "Hello my first function\n",
      "Hello my first function\n",
      "Hello my first function\n",
      "Hello my first function\n",
      "Hello my first function\n",
      "Hello my first function\n",
      "Hello my first function\n",
      "Hello my first function\n",
      "Hello my first function\n",
      "Hello my first function\n",
      "Hello my first function\n",
      "Hello my first function\n",
      "Hello my first function\n",
      "Hello my first function\n",
      "Hello my first function\n",
      "Hello my first function\n",
      "Hello my first function\n",
      "Hello my first function\n",
      "Hello my first function\n",
      "Hello my first function\n",
      "Hello my first function\n",
      "Hello my first function\n",
      "Hello my first function\n",
      "Hello my first function\n",
      "Hello my first function\n",
      "Hello my first function\n",
      "Hello my first function\n",
      "Hello my first function\n",
      "Hello my first function\n",
      "Hello my first function\n",
      "Hello my first function\n",
      "Hello my first function\n",
      "Hello my first function\n",
      "Hello my first function\n",
      "Hello my first function\n",
      "Hello my first function\n",
      "Hello my first function\n",
      "Hello my first function\n",
      "Hello my first function\n",
      "Hello my first function\n",
      "Hello my first function\n",
      "Hello my first function\n",
      "Hello my first function\n",
      "Hello my first function\n",
      "Hello my first function\n",
      "Hello my first function\n",
      "Hello my first function\n",
      "Hello my first function\n",
      "Hello my first function\n",
      "Hello my first function\n",
      "Hello my first function\n",
      "Hello my first function\n",
      "Hello my first function\n",
      "Hello my first function\n",
      "Hello my first function\n",
      "Hello my first function\n",
      "Hello my first function\n",
      "Hello my first function\n",
      "Hello my first function\n",
      "Hello my first function\n",
      "Hello my first function\n",
      "Hello my first function\n",
      "Hello my first function\n",
      "Hello my first function\n",
      "Hello my first function\n",
      "Hello my first function\n",
      "Hello my first function\n",
      "Hello my first function\n",
      "Hello my first function\n",
      "Hello my first function\n",
      "Hello my first function\n",
      "Hello my first function\n",
      "Hello my first function\n",
      "Hello my first function\n",
      "Hello my first function\n",
      "Hello my first function\n",
      "Hello my first function\n",
      "Hello my first function\n",
      "Hello my first function\n",
      "Hello my first function\n",
      "Hello my first function\n",
      "Hello my first function\n",
      "Hello my first function\n",
      "Hello my first function\n",
      "Hello my first function\n",
      "Hello my first function\n",
      "Hello my first function\n",
      "Hello my first function\n",
      "Hello my first function\n",
      "Hello my first function\n",
      "Hello my first function\n",
      "Hello my first function\n",
      "Hello my first function\n",
      "Hello my first function\n",
      "Hello my first function\n",
      "Hello my first function\n",
      "Hello my first function\n",
      "Hello my first function\n",
      "Hello my first function\n",
      "Hello my first function\n",
      "Hello my first function\n",
      "Hello my first function\n",
      "Hello my first function\n",
      "Hello my first function\n",
      "Hello my first function\n",
      "Hello my first function\n",
      "Hello my first function\n",
      "Hello my first function\n",
      "Hello my first function\n",
      "Hello my first function\n",
      "Hello my first function\n",
      "Hello my first function\n",
      "Hello my first function\n",
      "Hello my first function\n",
      "Hello my first function\n",
      "Hello my first function\n",
      "Hello my first function\n",
      "Hello my first function\n",
      "Hello my first function\n",
      "Hello my first function\n",
      "Hello my first function\n",
      "Hello my first function\n",
      "Hello my first function\n",
      "Hello my first function\n",
      "Hello my first function\n",
      "Hello my first function\n",
      "Hello my first function\n",
      "Hello my first function\n",
      "Hello my first function\n",
      "Hello my first function\n",
      "Hello my first function\n",
      "Hello my first function\n",
      "Hello my first function\n",
      "Hello my first function\n",
      "Hello my first function\n",
      "Hello my first function\n",
      "Hello my first function\n",
      "Hello my first function\n",
      "Hello my first function\n",
      "Hello my first function\n",
      "Hello my first function\n",
      "Hello my first function\n",
      "Hello my first function\n",
      "Hello my first function\n",
      "Hello my first function\n",
      "Hello my first function\n",
      "Hello my first function\n",
      "Hello my first function\n",
      "Hello my first function\n",
      "Hello my first function\n",
      "Hello my first function\n",
      "Hello my first function\n",
      "Hello my first function\n",
      "Hello my first function\n",
      "Hello my first function\n",
      "Hello my first function\n",
      "Hello my first function\n",
      "Hello my first function\n",
      "Hello my first function\n",
      "Hello my first function\n",
      "Hello my first function\n",
      "Hello my first function\n",
      "Hello my first function\n",
      "Hello my first function\n",
      "Hello my first function\n",
      "Hello my first function\n",
      "Hello my first function\n",
      "Hello my first function\n",
      "Hello my first function\n",
      "Hello my first function\n",
      "Hello my first function\n",
      "Hello my first function\n",
      "Hello my first function\n",
      "Hello my first function\n",
      "Hello my first function\n",
      "Hello my first function\n",
      "Hello my first function\n",
      "Hello my first function\n",
      "Hello my first function\n",
      "Hello my first function\n",
      "Hello my first function\n",
      "Hello my first function\n",
      "Hello my first function\n",
      "Hello my first function\n",
      "Hello my first function\n",
      "Hello my first function\n",
      "Hello my first function\n",
      "Hello my first function\n",
      "Hello my first function\n",
      "Hello my first function\n",
      "Hello my first function\n",
      "Hello my first function\n",
      "Hello my first function\n",
      "Hello my first function\n",
      "Hello my first function\n",
      "Hello my first function\n",
      "Hello my first function\n",
      "Hello my first function\n",
      "Hello my first function\n",
      "Hello my first function\n",
      "Hello my first function\n",
      "Hello my first function\n",
      "Hello my first function\n",
      "Hello my first function\n",
      "Hello my first function\n",
      "Hello my first function\n",
      "Hello my first function\n",
      "Hello my first function\n",
      "Hello my first function\n",
      "Hello my first function\n",
      "Hello my first function\n",
      "Hello my first function\n",
      "Hello my first function\n",
      "Hello my first function\n",
      "Hello my first function\n",
      "Hello my first function\n",
      "Hello my first function\n",
      "Hello my first function\n",
      "Hello my first function\n",
      "Hello my first function\n",
      "Hello my first function\n"
     ]
    }
   ],
   "source": [
    "for i in range(1000):\n",
    "    first_function()"
   ]
  },
  {
   "cell_type": "code",
   "execution_count": 272,
   "id": "a159d56d",
   "metadata": {},
   "outputs": [
    {
     "name": "stdout",
     "output_type": "stream",
     "text": [
      "Hello my first function\n",
      "None <class 'NoneType'>\n"
     ]
    }
   ],
   "source": [
    "a = first_function() # Для виклика функції звертаємось до іменні\n",
    "print(a, type(a)) # Функція завжди повертає результат, якщо функція явно нічого не повертає по замовчуванню буде None"
   ]
  },
  {
   "cell_type": "code",
   "execution_count": 142,
   "id": "269ba3f1",
   "metadata": {},
   "outputs": [
    {
     "name": "stdout",
     "output_type": "stream",
     "text": [
      "Hello my first function\n",
      "<class 'NoneType'> None None\n"
     ]
    }
   ],
   "source": [
    "print(type(a), a, first_function())"
   ]
  },
  {
   "cell_type": "code",
   "execution_count": 139,
   "id": "b2fce00c",
   "metadata": {},
   "outputs": [
    {
     "name": "stdout",
     "output_type": "stream",
     "text": [
      "Hello my first function\n"
     ]
    }
   ],
   "source": [
    "first_function()"
   ]
  },
  {
   "cell_type": "code",
   "execution_count": 138,
   "id": "18baf22b",
   "metadata": {},
   "outputs": [],
   "source": []
  },
  {
   "cell_type": "code",
   "execution_count": 155,
   "id": "c985b8fe",
   "metadata": {},
   "outputs": [],
   "source": [
    "def add(a, b) -> int: # Створити функцію з двома параметрами, порядок передачі аргументів важливий!\n",
    "    print(f'A = {a} B = {b}')\n",
    "    return a + b"
   ]
  },
  {
   "cell_type": "code",
   "execution_count": 274,
   "id": "8329b352",
   "metadata": {},
   "outputs": [
    {
     "name": "stdout",
     "output_type": "stream",
     "text": [
      "A = 5 B = 7\n",
      "12 <class 'int'>\n"
     ]
    }
   ],
   "source": [
    "result = add(5, 7)\n",
    "print(result, type(result))"
   ]
  },
  {
   "cell_type": "code",
   "execution_count": 156,
   "id": "0758fb86",
   "metadata": {},
   "outputs": [
    {
     "name": "stdout",
     "output_type": "stream",
     "text": [
      "A = 5 B = 7\n",
      "12\n"
     ]
    }
   ],
   "source": [
    "print(add(5, 7))"
   ]
  },
  {
   "cell_type": "code",
   "execution_count": 275,
   "id": "3aff296b",
   "metadata": {
    "scrolled": true
   },
   "outputs": [
    {
     "name": "stdout",
     "output_type": "stream",
     "text": [
      "A = 5 B = 8\n",
      "13\n"
     ]
    }
   ],
   "source": [
    "print(add(b = 8, a = 5))"
   ]
  },
  {
   "cell_type": "code",
   "execution_count": 277,
   "id": "3488f52d",
   "metadata": {},
   "outputs": [
    {
     "name": "stdout",
     "output_type": "stream",
     "text": [
      "A = 5 B = 8\n",
      "58\n"
     ]
    }
   ],
   "source": [
    "print(add(b = '8', a = '5'))"
   ]
  },
  {
   "cell_type": "code",
   "execution_count": 278,
   "id": "21e775ce",
   "metadata": {},
   "outputs": [],
   "source": [
    "a, b = 15, True"
   ]
  },
  {
   "cell_type": "code",
   "execution_count": 279,
   "id": "8c257da5",
   "metadata": {},
   "outputs": [],
   "source": [
    "def minus(a, b):\n",
    "    print(f'A = {a} B = {b}')\n",
    "    return a - b"
   ]
  },
  {
   "cell_type": "code",
   "execution_count": 284,
   "id": "81ae342d",
   "metadata": {},
   "outputs": [
    {
     "name": "stdout",
     "output_type": "stream",
     "text": [
      "A = 16.0 B = 18\n",
      "-2.0\n"
     ]
    }
   ],
   "source": [
    "print(minus(16.0, 18))"
   ]
  },
  {
   "cell_type": "code",
   "execution_count": 285,
   "id": "7c6ab086",
   "metadata": {},
   "outputs": [
    {
     "name": "stdout",
     "output_type": "stream",
     "text": [
      "3\n",
      "80\n",
      "a= 1 b= 2 sum_of_two_numbers(1,2) 3\n"
     ]
    }
   ],
   "source": [
    "def sum_of_two_numbers(a, b):  # signature\n",
    "    # body\n",
    "    sum_result = a + b\n",
    "    return sum_result\n",
    "    # print(f'Result is {sum_result}')\n",
    "\n",
    "\n",
    "result = sum_of_two_numbers(1, 2)\n",
    "print(result)\n",
    "print(sum_of_two_numbers(30, 50))\n",
    "print('a=', 1, 'b=', 2, 'sum_of_two_numbers(1,2)', sum_of_two_numbers(1,2))"
   ]
  },
  {
   "cell_type": "code",
   "execution_count": 286,
   "id": "05a40fac",
   "metadata": {},
   "outputs": [
    {
     "name": "stdout",
     "output_type": "stream",
     "text": [
      "input something123\n",
      "123 *\n"
     ]
    }
   ],
   "source": [
    "def get_int_from_input():  # signature\n",
    "    # body\n",
    "    input_value = input('input something')\n",
    "    return int(input_value)\n",
    "    print(f'Result is {sum_result}')\n",
    "\n",
    "\n",
    "result = get_int_from_input()\n",
    "print(result, '*')"
   ]
  },
  {
   "cell_type": "code",
   "execution_count": 287,
   "id": "220d3ee6",
   "metadata": {},
   "outputs": [],
   "source": [
    "def all_math(a, b, operation):\n",
    "    match operation:\n",
    "        case '+':\n",
    "            return a + b\n",
    "        case '-':\n",
    "            return a - b\n",
    "        case '*':\n",
    "            return a * b\n",
    "        case '/':\n",
    "            return a / b\n",
    "        case _ :\n",
    "            return None"
   ]
  },
  {
   "cell_type": "code",
   "execution_count": 290,
   "id": "35b3733a",
   "metadata": {},
   "outputs": [
    {
     "name": "stdout",
     "output_type": "stream",
     "text": [
      "-5 15\n"
     ]
    }
   ],
   "source": [
    "print(all_math(5, 10, '-'), all_math(5, 10, '+'))"
   ]
  },
  {
   "cell_type": "code",
   "execution_count": 190,
   "id": "637474f1",
   "metadata": {},
   "outputs": [],
   "source": [
    "# Task 5. Створити функцію, і вивезти сумму чисел від 0 до числа який введе користувач."
   ]
  },
  {
   "cell_type": "code",
   "execution_count": 295,
   "id": "0a458db4",
   "metadata": {},
   "outputs": [],
   "source": [
    "# Функціонал: def, return, for/while, range, input, print\n",
    "# Крок 1 - створити функцію, 1 - змінну(signa) \n",
    "# Крок 2 - створити змінну для save result\n",
    "# Крок 3 - створити цикл буде проходити в range\n",
    "# Крок 4 - повернути результат "
   ]
  },
  {
   "cell_type": "code",
   "execution_count": 303,
   "id": "c2702a0c",
   "metadata": {},
   "outputs": [
    {
     "name": "stdout",
     "output_type": "stream",
     "text": [
      "Enter number: 100\n",
      "4950\n"
     ]
    }
   ],
   "source": [
    "def sum_of_number(user_number):\n",
    "    sum_of_number = 0\n",
    "    for i in range(user_number):\n",
    "        sum_of_number += i\n",
    "    return (sum_of_number)\n",
    "\n",
    "user_number = int(input('Enter number: '))\n",
    "    \n",
    "print(sum_of_number(user_number))"
   ]
  },
  {
   "cell_type": "code",
   "execution_count": 192,
   "id": "ca9307ab",
   "metadata": {},
   "outputs": [
    {
     "data": {
      "text/plain": [
       "4950"
      ]
     },
     "execution_count": 192,
     "metadata": {},
     "output_type": "execute_result"
    }
   ],
   "source": [
    "# Task 6. Створити функцію, яке повертає сумму чисел від 0 до числа який введе користувач, числа повинні бути even"
   ]
  },
  {
   "cell_type": "code",
   "execution_count": 300,
   "id": "f2bd5e63",
   "metadata": {},
   "outputs": [],
   "source": [
    "def sum_even_range(up_lim):\n",
    "    # (up_lim // 2) кількість парних чисел\n",
    "    # up_lim - up_lim % 2 останнє парне число\n",
    "    # 2 перше парне число, якщо не рахувати 0\n",
    "    return (up_lim // 2) * (2 + up_lim - up_lim % 2) // 2"
   ]
  },
  {
   "cell_type": "code",
   "execution_count": null,
   "id": "833ecaf7",
   "metadata": {},
   "outputs": [],
   "source": []
  },
  {
   "cell_type": "markdown",
   "id": "90ce271f",
   "metadata": {},
   "source": [
    "### Practice section 1:\n",
    "\n",
    "1. Write a program that caluculate Fibonacci series. The Fibonacci series is a series of numbers in which each number is the sum of the two preceding numbers. The first two numbers are 1 and 1. The third number is 1 + 1 = 2, the fourth number is 1 + 2 = 3, and so on. Number of iterations should be taken from user input.\n"
   ]
  },
  {
   "cell_type": "code",
   "execution_count": 305,
   "id": "4e59843a",
   "metadata": {},
   "outputs": [],
   "source": [
    "# Опціальні параметри \n",
    "def try_option(result = 'Hello'):\n",
    "    print(f'Result: {result}')"
   ]
  },
  {
   "cell_type": "code",
   "execution_count": 304,
   "id": "4aa19dc9",
   "metadata": {},
   "outputs": [
    {
     "name": "stdout",
     "output_type": "stream",
     "text": [
      "Result: Hello\n",
      "Result: My hello\n",
      "None None\n"
     ]
    }
   ],
   "source": [
    "print(try_option(), try_option('My hello'))"
   ]
  },
  {
   "cell_type": "code",
   "execution_count": 208,
   "id": "7629d92c",
   "metadata": {},
   "outputs": [],
   "source": [
    "def try_option_with_name(surname, name = 'User'):\n",
    "    print(f'Hello {name} {surname}')"
   ]
  },
  {
   "cell_type": "code",
   "execution_count": 306,
   "id": "e5b06c80",
   "metadata": {},
   "outputs": [
    {
     "ename": "TypeError",
     "evalue": "try_option_with_name() missing 1 required positional argument: 'surname'",
     "output_type": "error",
     "traceback": [
      "\u001b[0;31m---------------------------------------------------------------------------\u001b[0m",
      "\u001b[0;31mTypeError\u001b[0m                                 Traceback (most recent call last)",
      "Cell \u001b[0;32mIn [306], line 1\u001b[0m\n\u001b[0;32m----> 1\u001b[0m \u001b[43mtry_option_with_name\u001b[49m\u001b[43m(\u001b[49m\u001b[43m)\u001b[49m\n",
      "\u001b[0;31mTypeError\u001b[0m: try_option_with_name() missing 1 required positional argument: 'surname'"
     ]
    }
   ],
   "source": [
    "try_option_with_name()"
   ]
  },
  {
   "cell_type": "code",
   "execution_count": 307,
   "id": "2c895806",
   "metadata": {},
   "outputs": [
    {
     "name": "stdout",
     "output_type": "stream",
     "text": [
      "Hello User Ukr\n"
     ]
    }
   ],
   "source": [
    "try_option_with_name('Ukr')"
   ]
  },
  {
   "cell_type": "markdown",
   "id": "86f8a15e",
   "metadata": {},
   "source": [
    "#### Порядок аргументів строгий, спочатку йде обов'язкові аргументи, потім опціональні "
   ]
  },
  {
   "cell_type": "markdown",
   "id": "a8cc5373",
   "metadata": {},
   "source": [
    "### Practice section 2\n",
    "\n",
    "1. Write a program that iterated from 0 to 100 and prints out the number if it is divisible by 3.\n",
    "2. Get a number from user input and iterate from 0 to that number. \n",
    "    \n",
    "    1. Print 'foo' if the number is divisible by 3. \n",
    "    2. Print 'bar' if the number is divisible by 5. \n",
    "    3. Print 'foobar' if the number is divisible by both 3 and 5.\n"
   ]
  },
  {
   "cell_type": "code",
   "execution_count": 212,
   "id": "6139fa65",
   "metadata": {},
   "outputs": [],
   "source": [
    "def multiply_two_numbers(\n",
    "    zero_argument,\n",
    "    first_argument = '2',\n",
    "    second_argument = '3'\n",
    "):  # signature\n",
    "    # body\n",
    "    sum_result = zero_argument + first_argument +  second_argument\n",
    "        \n",
    "    return sum_result"
   ]
  },
  {
   "cell_type": "code",
   "execution_count": 309,
   "id": "6f5496f2",
   "metadata": {},
   "outputs": [
    {
     "name": "stdout",
     "output_type": "stream",
     "text": [
      "145\n"
     ]
    }
   ],
   "source": [
    "result = multiply_two_numbers('1', '4', '5')\n",
    "print(result)"
   ]
  },
  {
   "cell_type": "code",
   "execution_count": 312,
   "id": "d8667602",
   "metadata": {},
   "outputs": [
    {
     "name": "stdout",
     "output_type": "stream",
     "text": [
      "124\n"
     ]
    }
   ],
   "source": [
    "result = multiply_two_numbers('1', second_argument='4')\n",
    "print(result)"
   ]
  },
  {
   "cell_type": "code",
   "execution_count": null,
   "id": "618d389d",
   "metadata": {},
   "outputs": [],
   "source": []
  },
  {
   "cell_type": "code",
   "execution_count": 216,
   "id": "68014072",
   "metadata": {},
   "outputs": [],
   "source": [
    "# types\n",
    "# Для того щоб вказати тип через : вказуємо тип, для того щоб вказати очікуваний тип -> після цього вказуємо тип\n",
    "def sum_values(first_value: int, second_value: int) -> int:\n",
    "    return first_value + second_value"
   ]
  },
  {
   "cell_type": "code",
   "execution_count": 313,
   "id": "da30566c",
   "metadata": {},
   "outputs": [
    {
     "name": "stdout",
     "output_type": "stream",
     "text": [
      "45 15\n"
     ]
    }
   ],
   "source": [
    "print(sum_values('4', '5'), sum_values(5,10))"
   ]
  },
  {
   "cell_type": "code",
   "execution_count": 318,
   "id": "4fd87222",
   "metadata": {},
   "outputs": [],
   "source": [
    "def read(a: bool = 'Hello'):\n",
    "    print(a)"
   ]
  },
  {
   "cell_type": "code",
   "execution_count": 317,
   "id": "2c326044",
   "metadata": {},
   "outputs": [
    {
     "name": "stdout",
     "output_type": "stream",
     "text": [
      "Text\n"
     ]
    }
   ],
   "source": [
    "read('Text')"
   ]
  },
  {
   "cell_type": "markdown",
   "id": "2678be48",
   "metadata": {},
   "source": [
    "## Practice block 3: \n",
    "\n",
    "1. Write a function called square() with one argument of int type and returns the value of that number raised to the second power.\n",
    "2. Write a program called convert_cel_to_fahr() that takes a temperature in Celsius and returns the equivalent temperature in Fahrenheit. It should take a number as an argument from user input and return a number to the console. \n",
    "3. Write a function that implement case swapping. It should return the same result as swapcase() method. Your function should accept one str argument and convert all lower case values to upper case and vice versa. \n",
    "```python\n",
    "def swapcase(input_string: str) -> str:\n",
    "    # do something\n",
    "\n",
    "print(swapcase('HelLo')) \n",
    "\n",
    "> 'hELlO\n",
    "```"
   ]
  },
  {
   "cell_type": "markdown",
   "id": "a24a55ae",
   "metadata": {},
   "source": [
    "#### Args - створюємо нескінчену кількість значень, для використання використовуємо \\*"
   ]
  },
  {
   "cell_type": "code",
   "execution_count": 322,
   "id": "75585c57",
   "metadata": {},
   "outputs": [],
   "source": [
    "# *args\n",
    "def function_with_args(*args):\n",
    "    sum(args)\n",
    "    print(f'args: {sum(args)}')\n"
   ]
  },
  {
   "cell_type": "code",
   "execution_count": 324,
   "id": "32cf01c8",
   "metadata": {},
   "outputs": [
    {
     "ename": "TypeError",
     "evalue": "'int' object is not callable",
     "output_type": "error",
     "traceback": [
      "\u001b[0;31m---------------------------------------------------------------------------\u001b[0m",
      "\u001b[0;31mTypeError\u001b[0m                                 Traceback (most recent call last)",
      "Cell \u001b[0;32mIn [324], line 1\u001b[0m\n\u001b[0;32m----> 1\u001b[0m \u001b[43mfunction_with_args\u001b[49m\u001b[43m(\u001b[49m\u001b[38;5;241;43m1\u001b[39;49m\u001b[43m,\u001b[49m\u001b[43m \u001b[49m\u001b[38;5;241;43m2\u001b[39;49m\u001b[43m,\u001b[49m\u001b[43m \u001b[49m\u001b[38;5;241;43m3\u001b[39;49m\u001b[43m,\u001b[49m\u001b[43m \u001b[49m\u001b[38;5;241;43m4\u001b[39;49m\u001b[43m,\u001b[49m\u001b[43m \u001b[49m\u001b[38;5;241;43m5\u001b[39;49m\u001b[43m,\u001b[49m\u001b[43m \u001b[49m\u001b[38;5;241;43m6\u001b[39;49m\u001b[43m)\u001b[49m\n",
      "Cell \u001b[0;32mIn [322], line 3\u001b[0m, in \u001b[0;36mfunction_with_args\u001b[0;34m(*args)\u001b[0m\n\u001b[1;32m      2\u001b[0m \u001b[38;5;28;01mdef\u001b[39;00m \u001b[38;5;21mfunction_with_args\u001b[39m(\u001b[38;5;241m*\u001b[39margs):\n\u001b[0;32m----> 3\u001b[0m     \u001b[38;5;28;43msum\u001b[39;49m\u001b[43m(\u001b[49m\u001b[43margs\u001b[49m\u001b[43m)\u001b[49m\n\u001b[1;32m      4\u001b[0m     \u001b[38;5;28mprint\u001b[39m(\u001b[38;5;124mf\u001b[39m\u001b[38;5;124m'\u001b[39m\u001b[38;5;124margs: \u001b[39m\u001b[38;5;132;01m{\u001b[39;00m\u001b[38;5;28msum\u001b[39m(args)\u001b[38;5;132;01m}\u001b[39;00m\u001b[38;5;124m'\u001b[39m)\n",
      "\u001b[0;31mTypeError\u001b[0m: 'int' object is not callable"
     ]
    }
   ],
   "source": [
    "function_with_args(1, 2, 3, 4, 5, 6)"
   ]
  },
  {
   "cell_type": "code",
   "execution_count": 339,
   "id": "8291e853",
   "metadata": {},
   "outputs": [
    {
     "ename": "SyntaxError",
     "evalue": "positional argument follows keyword argument (173659142.py, line 5)",
     "output_type": "error",
     "traceback": [
      "\u001b[0;36m  Cell \u001b[0;32mIn [339], line 5\u001b[0;36m\u001b[0m\n\u001b[0;31m    print(ar(param1 = 1,2,3,4))\u001b[0m\n\u001b[0m                             ^\u001b[0m\n\u001b[0;31mSyntaxError\u001b[0m\u001b[0;31m:\u001b[0m positional argument follows keyword argument\n"
     ]
    }
   ],
   "source": [
    "def ar(param1, *args):\n",
    "    param1 += 1\n",
    "    return \n",
    "    \n",
    "test_args = ar(1, 2,3,4,5)"
   ]
  },
  {
   "cell_type": "code",
   "execution_count": 340,
   "id": "767a3d8d",
   "metadata": {},
   "outputs": [
    {
     "name": "stdout",
     "output_type": "stream",
     "text": [
      "12 3\n"
     ]
    }
   ],
   "source": [
    "# + , + \n",
    "print('1' + '2', 1 + 2)"
   ]
  },
  {
   "cell_type": "code",
   "execution_count": 332,
   "id": "d719d96d",
   "metadata": {},
   "outputs": [],
   "source": [
    "# *args\n",
    "def function_with_args1(param1, param2, param3 ,*args):\n",
    "    print(f'Param1 = {param1}')\n",
    "    print(f'Param2 = {param2}')\n",
    "    print(f'Param3 = {param3}')\n",
    "    print(f'Param args = {args}')\n",
    "    \n",
    "    sum(args)\n",
    "    print(f'args: {s}')\n",
    "\n"
   ]
  },
  {
   "cell_type": "code",
   "execution_count": 331,
   "id": "f172c757",
   "metadata": {},
   "outputs": [
    {
     "name": "stdout",
     "output_type": "stream",
     "text": [
      "Param1 = 1\n",
      "Param2 = 2\n",
      "Param3 = 2\n",
      "Param args = (4, 5, 6)\n"
     ]
    },
    {
     "ename": "TypeError",
     "evalue": "'int' object is not callable",
     "output_type": "error",
     "traceback": [
      "\u001b[0;31m---------------------------------------------------------------------------\u001b[0m",
      "\u001b[0;31mTypeError\u001b[0m                                 Traceback (most recent call last)",
      "Cell \u001b[0;32mIn [331], line 1\u001b[0m\n\u001b[0;32m----> 1\u001b[0m \u001b[43mfunction_with_args1\u001b[49m\u001b[43m(\u001b[49m\u001b[38;5;241;43m1\u001b[39;49m\u001b[43m,\u001b[49m\u001b[43m \u001b[49m\u001b[38;5;241;43m2\u001b[39;49m\u001b[43m,\u001b[49m\u001b[43m \u001b[49m\u001b[38;5;241;43m3\u001b[39;49m\u001b[43m,\u001b[49m\u001b[43m \u001b[49m\u001b[38;5;241;43m4\u001b[39;49m\u001b[43m,\u001b[49m\u001b[43m \u001b[49m\u001b[38;5;241;43m5\u001b[39;49m\u001b[43m,\u001b[49m\u001b[43m \u001b[49m\u001b[38;5;241;43m6\u001b[39;49m\u001b[43m)\u001b[49m\n",
      "Cell \u001b[0;32mIn [330], line 8\u001b[0m, in \u001b[0;36mfunction_with_args1\u001b[0;34m(param1, param2, param3, *args)\u001b[0m\n\u001b[1;32m      5\u001b[0m \u001b[38;5;28mprint\u001b[39m(\u001b[38;5;124mf\u001b[39m\u001b[38;5;124m'\u001b[39m\u001b[38;5;124mParam3 = \u001b[39m\u001b[38;5;132;01m{\u001b[39;00mparam2\u001b[38;5;132;01m}\u001b[39;00m\u001b[38;5;124m'\u001b[39m)\n\u001b[1;32m      6\u001b[0m \u001b[38;5;28mprint\u001b[39m(\u001b[38;5;124mf\u001b[39m\u001b[38;5;124m'\u001b[39m\u001b[38;5;124mParam args = \u001b[39m\u001b[38;5;132;01m{\u001b[39;00margs\u001b[38;5;132;01m}\u001b[39;00m\u001b[38;5;124m'\u001b[39m)\n\u001b[0;32m----> 8\u001b[0m s \u001b[38;5;241m=\u001b[39m \u001b[38;5;28;43msum\u001b[39;49m\u001b[43m(\u001b[49m\u001b[43margs\u001b[49m\u001b[43m)\u001b[49m\n\u001b[1;32m      9\u001b[0m \u001b[38;5;28mprint\u001b[39m(\u001b[38;5;124mf\u001b[39m\u001b[38;5;124m'\u001b[39m\u001b[38;5;124margs: \u001b[39m\u001b[38;5;132;01m{\u001b[39;00ms\u001b[38;5;132;01m}\u001b[39;00m\u001b[38;5;124m'\u001b[39m)\n",
      "\u001b[0;31mTypeError\u001b[0m: 'int' object is not callable"
     ]
    }
   ],
   "source": [
    "function_with_args1(1, 2, 3, 4, 5, 6)"
   ]
  },
  {
   "cell_type": "code",
   "execution_count": null,
   "id": "0404f278",
   "metadata": {},
   "outputs": [],
   "source": [
    "# Hard mode"
   ]
  },
  {
   "cell_type": "markdown",
   "id": "76e27988",
   "metadata": {},
   "source": [
    "**Task 1**. Дискримінант. Створіть функцію з іменем **discriminant**.\\\n",
    "Функція повинна приймати на вхід a, b, c, choose. Де a, b, c - це аргументи функції, choose - опціональний параметр, вибору способу рішення(дискримінант або Вієта, 1 - disc, 2 - Вієта) \\\n",
    "Функція повинна повертати в залежності від параметрів один/два кореня або їх відсутність. \n",
    "\n",
    "Example:\\\n",
    "    **Input**: a = 5, b = -8, c = 3 \\\n",
    "    **Output**: x = 1, x = 0.6 \n",
    "Результати округлювати до 2 знаку. Функція повинна перевіряти тип аргументів(int повинен бути). "
   ]
  },
  {
   "cell_type": "code",
   "execution_count": null,
   "id": "b24a2c18",
   "metadata": {},
   "outputs": [],
   "source": [
    "# Крок 1: допустимі типи, isinstance, type, [int, float, bool]\n",
    "# Крок 2: Ділення на 0, etc....\n",
    "# Крок 3: без бібліотек!!!!\n",
    "# Крок 4: Оптимальність \n",
    "# Крок 5: перевірка назв \n",
    "# Крок 6: побітові операції + винагорода \n",
    "# Крок 7: Обмеженна 3 ступені\n",
    "# Крок 8: тільки цикли, функції, строки-числа, built-in-function(sum, len) можна\n",
    "*На листочку"
   ]
  },
  {
   "cell_type": "code",
   "execution_count": null,
   "id": "b3c0bb44",
   "metadata": {},
   "outputs": [],
   "source": []
  },
  {
   "cell_type": "code",
   "execution_count": 114,
   "id": "da4e424a",
   "metadata": {},
   "outputs": [],
   "source": []
  },
  {
   "cell_type": "code",
   "execution_count": null,
   "id": "bbbd12b1",
   "metadata": {},
   "outputs": [],
   "source": []
  },
  {
   "cell_type": "code",
   "execution_count": null,
   "id": "439f7efe",
   "metadata": {},
   "outputs": [],
   "source": []
  },
  {
   "cell_type": "code",
   "execution_count": null,
   "id": "3fc86f1d",
   "metadata": {},
   "outputs": [],
   "source": []
  },
  {
   "cell_type": "code",
   "execution_count": null,
   "id": "49f5a931",
   "metadata": {},
   "outputs": [],
   "source": []
  },
  {
   "cell_type": "code",
   "execution_count": null,
   "id": "90f8f573",
   "metadata": {},
   "outputs": [],
   "source": []
  }
 ],
 "metadata": {
  "kernelspec": {
   "display_name": "Python 3 (ipykernel)",
   "language": "python",
   "name": "python3"
  },
  "language_info": {
   "codemirror_mode": {
    "name": "ipython",
    "version": 3
   },
   "file_extension": ".py",
   "mimetype": "text/x-python",
   "name": "python",
   "nbconvert_exporter": "python",
   "pygments_lexer": "ipython3",
   "version": "3.10.8"
  }
 },
 "nbformat": 4,
 "nbformat_minor": 5
}
