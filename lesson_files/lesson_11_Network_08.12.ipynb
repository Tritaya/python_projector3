{
 "cells": [
  {
   "cell_type": "markdown",
   "id": "92ce7681",
   "metadata": {},
   "source": [
    "### Lesson 11. Network: 08.12\n",
    "Plan:\n",
    "> 1. API\n",
    "> 2. Protocol\n",
    "> 3. HTTP/URL\n",
    "> 4. HTML/JSON\n",
    "> 5. Status Code\n",
    "\n",
    "\n",
    "Materials: \n",
    "> 1. [URL](https://developer.mozilla.org/ru/docs/Learn/Common_questions/What_is_a_URL)\n",
    "> 2. [Коди Валют](https://www.iban.ru/currency-codes)\n",
    "> 3. [Weather API](https://openweathermap.org/api)\n",
    "> 4. [Rest API for beg](https://mlsdev.com/blog/81-a-beginner-s-tutorial-for-understanding-restful-api)\n",
    "> 5. [DNS work](https://howdns.works/ep1/)"
   ]
  },
  {
   "cell_type": "code",
   "execution_count": null,
   "id": "7ca6bed6",
   "metadata": {},
   "outputs": [],
   "source": []
  },
  {
   "cell_type": "markdown",
   "id": "462c8b89",
   "metadata": {},
   "source": [
    "# What is API? (Application programming interface)\n",
    "\n",
    "## I - interface\n",
    "\n",
    "Interface - thing that allows to control way how something works through options that are exposed to user. Magic under the hood is completely abstracted away from user. \n",
    "\n",
    "### GUI\n",
    "\n",
    "Interfaces might be provided through GUI. GUI (Graphical User Interface) is a graphic way to interact with user. Due to interfaces are abstracted away from user, user don`t need to know how it works internally, he needs only to know how to use it. While GUI was made for end user, API was made for developers.\n",
    "\n",
    "Developer that provides you an interface knows how implementation of this interface work. When you use some interface, you need how to use it, but not how it works. Play/Pause button is an interface to play a media file. Also, dev uses Media Player API (OS interface) when implement this button\n",
    "\n",
    "As an user of this interface, you don`t need to know how it works, You only need to know what you should use\n",
    "\n",
    "UI was created for user who use the interface\n",
    "API was created for application programmer\n",
    "\n",
    "\n"
   ]
  },
  {
   "cell_type": "markdown",
   "id": "a2a3dcfe",
   "metadata": {},
   "source": [
    "## API\n",
    "\n",
    "API is a tool for software developer. It provides you an abstraction for different things \n",
    "\n",
    "In a broader sense, API is a set of functions that are exposed to user, as example random module is also an API that provides some methods with proper way how to us it. You don`t need to know how random module works internally, you just need to know how to use it. When you want to make a tea, you don't need to know how kettle works, you just make it through the API.\n",
    "\n",
    "All of us has different internet browsers, but they all might open the same webpage. All that is due to same Web API that being used by all of them.\n",
    "\n",
    "\n",
    "Python provides you many API. For example, random module. You don't need to know how it works, you can just use it. Same with `print` function etc\n",
    "\n",
    "Same things with a file system interface. The same file can work on any OS\n",
    "\n",
    "Also, same sites work in different browsers in the same way. It works because all of them are using the same web interface\n",
    "\n",
    "By using them, we don`t need to recreate the wheel every time. When you write your own program, you can use already implementing APIs and focus on a Business logic\n",
    "\n"
   ]
  },
  {
   "cell_type": "markdown",
   "id": "9a2b1d55",
   "metadata": {},
   "source": [
    "### Remote APIs\n",
    "\n",
    "People use remote API because they provide much more space, speed and quality. For example, Shazam. You can't store all songs on your local device. But you can use an API for that. You don't need to know how it works. You can just use it. Same with translation, face/plant recognition etc "
   ]
  },
  {
   "cell_type": "markdown",
   "id": "496bc885",
   "metadata": {},
   "source": [
    "## REST (Representational state transfer)\n",
    "\n",
    "REST is interface that help to use APIs over the network. It`s one of the possible interfaces, but now it's a standard de-facto (like Xerox or Pampers)\n",
    "\n",
    "Now, we use an APIs that work on a REST standard. We call them `RESTfull`"
   ]
  },
  {
   "cell_type": "markdown",
   "id": "94a1cc55",
   "metadata": {},
   "source": [
    "## How WEB works?\n",
    "\n",
    "### Client - Server architecture\n",
    "\n",
    "Our browsers is a client. I type URL in search field of our browsers. When we type URL it has following structure - \n",
    "\n",
    "> http://google.com\n",
    "\n",
    "> HTTP -> is a Hypertext Transfer Protocol\n",
    "\n",
    "*Protocol* is a way that define a way how to communicate\n",
    "\n",
    "For example \n",
    "> Слава Україні -> Героям слава\n",
    "\n",
    "Same thing for HTTP. It has types. Basic type (method) here is `Get`. It means that we want to receive some data. Server generate some staff and return a response\n",
    "\n",
    "![image](https://intellipaat.com/blog/wp-content/uploads/2021/09/image-99.png)\n",
    "\n",
    "The most important part of this response is a body. Usually it`s a HTML data or a JSON object\n",
    "\n",
    "With this response, browser render a webpage. It might repeat over and over. Whenever you click the button, browser make new request.\n",
    "\n"
   ]
  },
  {
   "cell_type": "code",
   "execution_count": null,
   "id": "a7b4c407",
   "metadata": {},
   "outputs": [],
   "source": []
  },
  {
   "cell_type": "markdown",
   "id": "91dd7912",
   "metadata": {},
   "source": [
    "**Protocol**: \n",
    "> 1. http:// - protocol (https)\n",
    "> 2. ftp:// - file transfer protocol\n",
    "> 3. smtp:// - simple mail transfer protocol\n",
    "> 4. ws:// (wss) \n",
    "\n",
    "**Domain** (IPv4, IPv6):\n",
    "google.com, facebook.com, developer.mozilla.org -> 99.86.4.33 (DNS)\n",
    "\n",
    "> Value inside: 0-255.0-255.0-255.0-255 (192.172.0.1)\n",
    "\n",
    "\n",
    "192.172.0 \\\n",
    "192.172.0.1.2 \\\n",
    "256.192.1.1\n",
    "\n",
    "localhost -> 127.0.0.1\n",
    "\n",
    "**Port**\n",
    "> 1. http - 80\n",
    "> 2. https - 443\n",
    "> 3. smtp - 22\n",
    "\n",
    "5000+\n",
    "0 - 65535"
   ]
  },
  {
   "cell_type": "code",
   "execution_count": null,
   "id": "326f012e",
   "metadata": {},
   "outputs": [],
   "source": []
  },
  {
   "cell_type": "markdown",
   "id": "1e8bde2e",
   "metadata": {},
   "source": [
    "### Stateless\n",
    "\n",
    "HTTP doesn`t store any state between our requests. It means that protocol is stateless. It means that you should provide state in each request if you need.\n",
    "\n",
    "### Headers\n",
    "\n",
    "Both request and response have some important information that stores in headers. It help to communicate between server and client and set some additional information (language, type os the content, status code)\n",
    "\n",
    "### Status code. \n",
    "\n",
    "status code is one of the important headers. You might saw some of them (404). Standard HTTP has some group of status code\n",
    "\n",
    "1xx - informational response \n",
    "\n",
    "2XX - success \n",
    "\n",
    "3XX - redirection\n",
    "\n",
    "4XX - client errors\n",
    "\n",
    "5XX -  server errors"
   ]
  },
  {
   "cell_type": "markdown",
   "id": "27cb7fa2",
   "metadata": {},
   "source": [
    "### Resources\n",
    "\n",
    "In word URL, R stands for resources. Resource is a reference to object in our domain. Almost everything is a resource or collection of resources\n",
    "\n",
    "![web](images/web_2.jpg)\n",
    "\n",
    "To do something with a resources, we use a CRUD operation which is Create, Read, Update, Delete"
   ]
  },
  {
   "cell_type": "code",
   "execution_count": null,
   "id": "119bad59",
   "metadata": {},
   "outputs": [],
   "source": []
  },
  {
   "cell_type": "markdown",
   "id": "ea1bade3",
   "metadata": {},
   "source": [
    "#### CRUD\n",
    "**C** - Create(створити)  \n",
    "**R** - Read/Rewrite(прочитати) \\\n",
    "**U** - Update(оновити) \\\n",
    "**D** - Delete(видалити)"
   ]
  },
  {
   "cell_type": "markdown",
   "id": "8f1b1f9e",
   "metadata": {},
   "source": [
    "#### Read\n",
    "\n",
    "When we retrieve in information, we read it. To do that, we use Get HTTP method. Usually you receive JSON data type as a response\n",
    "\n",
    "show example in a browser\n",
    "\n",
    "#### Post\n",
    "\n",
    "We use post to add some information on a server \n",
    "\n",
    "#### Patch\n",
    "\n",
    "We use patch/put to update some information on a server \n",
    "\n",
    "#### Delete\n",
    "\n",
    "We use delete to delete some information from a server "
   ]
  },
  {
   "cell_type": "code",
   "execution_count": null,
   "id": "95909361",
   "metadata": {},
   "outputs": [],
   "source": []
  },
  {
   "cell_type": "markdown",
   "id": "439e4f7d",
   "metadata": {},
   "source": [
    "### Practice\n",
    "\n",
    "With this knowledge you can build whatever you want"
   ]
  },
  {
   "cell_type": "code",
   "execution_count": 5,
   "id": "1479d5a8",
   "metadata": {},
   "outputs": [],
   "source": [
    "import requests # бібліотека для роботи "
   ]
  },
  {
   "cell_type": "code",
   "execution_count": 64,
   "id": "68ed7a24",
   "metadata": {},
   "outputs": [],
   "source": [
    "res_monobank = requests.get('https://api.monobank.ua/bank/currency')"
   ]
  },
  {
   "cell_type": "code",
   "execution_count": 65,
   "id": "feecac6e",
   "metadata": {},
   "outputs": [
    {
     "data": {
      "text/plain": [
       "200"
      ]
     },
     "execution_count": 65,
     "metadata": {},
     "output_type": "execute_result"
    }
   ],
   "source": [
    "res_monobank.status_code"
   ]
  },
  {
   "cell_type": "code",
   "execution_count": 20,
   "id": "bdc9b40c",
   "metadata": {},
   "outputs": [
    {
     "data": {
      "text/plain": [
       "[{'currencyCodeA': 840,\n",
       "  'currencyCodeB': 980,\n",
       "  'date': 1670450474,\n",
       "  'rateBuy': 36.65,\n",
       "  'rateSell': 37.4406},\n",
       " {'currencyCodeA': 978,\n",
       "  'currencyCodeB': 980,\n",
       "  'date': 1670481974,\n",
       "  'rateBuy': 38.55,\n",
       "  'rateSell': 39.6495},\n",
       " {'currencyCodeA': 978,\n",
       "  'currencyCodeB': 840,\n",
       "  'date': 1670481974,\n",
       "  'rateBuy': 1.043,\n",
       "  'rateSell': 1.058},\n",
       " {'currencyCodeA': 826,\n",
       "  'currencyCodeB': 980,\n",
       "  'date': 1670515064,\n",
       "  'rateCross': 45.8198},\n",
       " {'currencyCodeA': 392,\n",
       "  'currencyCodeB': 980,\n",
       "  'date': 1670513545,\n",
       "  'rateCross': 0.2747}]"
      ]
     },
     "execution_count": 20,
     "metadata": {},
     "output_type": "execute_result"
    }
   ],
   "source": [
    "res_monobank.json()[:5:]"
   ]
  },
  {
   "cell_type": "code",
   "execution_count": 66,
   "id": "b58e049e",
   "metadata": {},
   "outputs": [
    {
     "name": "stdout",
     "output_type": "stream",
     "text": [
      "Object is {'currencyCodeA': 840, 'currencyCodeB': 980, 'date': 1670450474, 'rateBuy': 36.65, 'rateSell': 37.4406}, \n",
      "Type is<class 'dict'>\n",
      "\n",
      "Object is {'currencyCodeA': 978, 'currencyCodeB': 980, 'date': 1670481974, 'rateBuy': 38.55, 'rateSell': 39.6495}, \n",
      "Type is<class 'dict'>\n",
      "\n",
      "Object is {'currencyCodeA': 978, 'currencyCodeB': 840, 'date': 1670481974, 'rateBuy': 1.043, 'rateSell': 1.058}, \n",
      "Type is<class 'dict'>\n",
      "\n",
      "Object is {'currencyCodeA': 826, 'currencyCodeB': 980, 'date': 1670522953, 'rateCross': 45.8016}, \n",
      "Type is<class 'dict'>\n",
      "\n",
      "Object is {'currencyCodeA': 392, 'currencyCodeB': 980, 'date': 1670522780, 'rateCross': 0.2748}, \n",
      "Type is<class 'dict'>\n",
      "\n",
      "Object is {'currencyCodeA': 756, 'currencyCodeB': 980, 'date': 1670522905, 'rateCross': 39.9821}, \n",
      "Type is<class 'dict'>\n",
      "\n",
      "Object is {'currencyCodeA': 156, 'currencyCodeB': 980, 'date': 1670522394, 'rateCross': 5.3663}, \n",
      "Type is<class 'dict'>\n",
      "\n",
      "Object is {'currencyCodeA': 784, 'currencyCodeB': 980, 'date': 1670522899, 'rateCross': 10.2}, \n",
      "Type is<class 'dict'>\n",
      "\n",
      "Object is {'currencyCodeA': 971, 'currencyCodeB': 980, 'date': 1663425223, 'rateCross': 0.4252}, \n",
      "Type is<class 'dict'>\n",
      "\n",
      "Object is {'currencyCodeA': 8, 'currencyCodeB': 980, 'date': 1670522826, 'rateCross': 0.3398}, \n",
      "Type is<class 'dict'>\n",
      "\n",
      "Object is {'currencyCodeA': 51, 'currencyCodeB': 980, 'date': 1670522412, 'rateCross': 0.0948}, \n",
      "Type is<class 'dict'>\n",
      "\n",
      "Object is {'currencyCodeA': 973, 'currencyCodeB': 980, 'date': 1670412241, 'rateCross': 0.0741}, \n",
      "Type is<class 'dict'>\n",
      "\n",
      "Object is {'currencyCodeA': 32, 'currencyCodeB': 980, 'date': 1670522917, 'rateCross': 0.2204}, \n",
      "Type is<class 'dict'>\n",
      "\n",
      "Object is {'currencyCodeA': 36, 'currencyCodeB': 980, 'date': 1670522580, 'rateCross': 25.2467}, \n",
      "Type is<class 'dict'>\n",
      "\n",
      "Object is {'currencyCodeA': 944, 'currencyCodeB': 980, 'date': 1670522933, 'rateCross': 22.0132}, \n",
      "Type is<class 'dict'>\n",
      "\n",
      "Object is {'currencyCodeA': 50, 'currencyCodeB': 980, 'date': 1670516107, 'rateCross': 0.3631}, \n",
      "Type is<class 'dict'>\n",
      "\n",
      "Object is {'currencyCodeA': 975, 'currencyCodeB': 980, 'date': 1670522933, 'rateCross': 20.1245}, \n",
      "Type is<class 'dict'>\n",
      "\n",
      "Object is {'currencyCodeA': 48, 'currencyCodeB': 980, 'date': 1670495012, 'rateCross': 99.5478}, \n",
      "Type is<class 'dict'>\n",
      "\n",
      "Object is {'currencyCodeA': 108, 'currencyCodeB': 980, 'date': 1538606522, 'rateCross': 0.0158}, \n",
      "Type is<class 'dict'>\n",
      "\n",
      "Object is {'currencyCodeA': 96, 'currencyCodeB': 980, 'date': 1668319748, 'rateCross': 27.3452}, \n",
      "Type is<class 'dict'>\n",
      "\n",
      "Object is {'currencyCodeA': 68, 'currencyCodeB': 980, 'date': 1670515508, 'rateCross': 5.457}, \n",
      "Type is<class 'dict'>\n",
      "\n",
      "Object is {'currencyCodeA': 986, 'currencyCodeB': 980, 'date': 1670522781, 'rateCross': 7.1864}, \n",
      "Type is<class 'dict'>\n",
      "\n",
      "Object is {'currencyCodeA': 72, 'currencyCodeB': 980, 'date': 1670477598, 'rateCross': 2.9174}, \n",
      "Type is<class 'dict'>\n",
      "\n",
      "Object is {'currencyCodeA': 933, 'currencyCodeB': 980, 'date': 1670503782, 'rateCross': 15.0864}, \n",
      "Type is<class 'dict'>\n",
      "\n",
      "Object is {'currencyCodeA': 124, 'currencyCodeB': 980, 'date': 1670522945, 'rateCross': 27.5452}, \n",
      "Type is<class 'dict'>\n",
      "\n",
      "Object is {'currencyCodeA': 976, 'currencyCodeB': 980, 'date': 1655462332, 'rateCross': 0.0163}, \n",
      "Type is<class 'dict'>\n",
      "\n",
      "Object is {'currencyCodeA': 152, 'currencyCodeB': 980, 'date': 1670521943, 'rateCross': 0.0432}, \n",
      "Type is<class 'dict'>\n",
      "\n",
      "Object is {'currencyCodeA': 170, 'currencyCodeB': 980, 'date': 1670522883, 'rateCross': 0.0077}, \n",
      "Type is<class 'dict'>\n",
      "\n",
      "Object is {'currencyCodeA': 188, 'currencyCodeB': 980, 'date': 1670521586, 'rateCross': 0.0627}, \n",
      "Type is<class 'dict'>\n",
      "\n",
      "Object is {'currencyCodeA': 192, 'currencyCodeB': 980, 'date': 1670450474, 'rateCross': 1.5237}, \n",
      "Type is<class 'dict'>\n",
      "\n",
      "Object is {'currencyCodeA': 203, 'currencyCodeB': 980, 'date': 1670522946, 'rateCross': 1.625}, \n",
      "Type is<class 'dict'>\n",
      "\n",
      "Object is {'currencyCodeA': 262, 'currencyCodeB': 980, 'date': 1670498906, 'rateCross': 0.2109}, \n",
      "Type is<class 'dict'>\n",
      "\n",
      "Object is {'currencyCodeA': 208, 'currencyCodeB': 980, 'date': 1670522889, 'rateCross': 5.3107}, \n",
      "Type is<class 'dict'>\n",
      "\n",
      "Object is {'currencyCodeA': 12, 'currencyCodeB': 980, 'date': 1670204724, 'rateCross': 0.271}, \n",
      "Type is<class 'dict'>\n",
      "\n",
      "Object is {'currencyCodeA': 818, 'currencyCodeB': 980, 'date': 1670522936, 'rateCross': 1.5237}, \n",
      "Type is<class 'dict'>\n",
      "\n",
      "Object is {'currencyCodeA': 230, 'currencyCodeB': 980, 'date': 1670401003, 'rateCross': 0.7012}, \n",
      "Type is<class 'dict'>\n",
      "\n",
      "Object is {'currencyCodeA': 981, 'currencyCodeB': 980, 'date': 1670522889, 'rateCross': 14.0928}, \n",
      "Type is<class 'dict'>\n",
      "\n",
      "Object is {'currencyCodeA': 936, 'currencyCodeB': 980, 'date': 1670520247, 'rateCross': 2.8845}, \n",
      "Type is<class 'dict'>\n",
      "\n",
      "Object is {'currencyCodeA': 270, 'currencyCodeB': 980, 'date': 1670504482, 'rateCross': 0.6123}, \n",
      "Type is<class 'dict'>\n",
      "\n",
      "Object is {'currencyCodeA': 324, 'currencyCodeB': 980, 'date': 1669466935, 'rateCross': 0.0043}, \n",
      "Type is<class 'dict'>\n",
      "\n",
      "Object is {'currencyCodeA': 344, 'currencyCodeB': 980, 'date': 1670505435, 'rateCross': 4.8175}, \n",
      "Type is<class 'dict'>\n",
      "\n",
      "Object is {'currencyCodeA': 191, 'currencyCodeB': 980, 'date': 1670522930, 'rateCross': 5.2301}, \n",
      "Type is<class 'dict'>\n",
      "\n",
      "Object is {'currencyCodeA': 348, 'currencyCodeB': 980, 'date': 1670522949, 'rateCross': 0.0962}, \n",
      "Type is<class 'dict'>\n",
      "\n",
      "Object is {'currencyCodeA': 360, 'currencyCodeB': 980, 'date': 1670522686, 'rateCross': 0.0024}, \n",
      "Type is<class 'dict'>\n",
      "\n",
      "Object is {'currencyCodeA': 376, 'currencyCodeB': 980, 'date': 1670522863, 'rateCross': 10.9746}, \n",
      "Type is<class 'dict'>\n",
      "\n",
      "Object is {'currencyCodeA': 356, 'currencyCodeB': 980, 'date': 1670522770, 'rateCross': 0.4552}, \n",
      "Type is<class 'dict'>\n",
      "\n",
      "Object is {'currencyCodeA': 368, 'currencyCodeB': 980, 'date': 1670501752, 'rateCross': 0.0256}, \n",
      "Type is<class 'dict'>\n",
      "\n",
      "Object is {'currencyCodeA': 364, 'currencyCodeB': 980, 'date': 1670450474, 'rateCross': 0.0009}, \n",
      "Type is<class 'dict'>\n",
      "\n",
      "Object is {'currencyCodeA': 352, 'currencyCodeB': 980, 'date': 1670522549, 'rateCross': 0.2651}, \n",
      "Type is<class 'dict'>\n",
      "\n",
      "Object is {'currencyCodeA': 400, 'currencyCodeB': 980, 'date': 1670522663, 'rateCross': 52.8823}, \n",
      "Type is<class 'dict'>\n",
      "\n",
      "Object is {'currencyCodeA': 404, 'currencyCodeB': 980, 'date': 1670521360, 'rateCross': 0.305}, \n",
      "Type is<class 'dict'>\n",
      "\n",
      "Object is {'currencyCodeA': 417, 'currencyCodeB': 980, 'date': 1670521442, 'rateCross': 0.4407}, \n",
      "Type is<class 'dict'>\n",
      "\n",
      "Object is {'currencyCodeA': 116, 'currencyCodeB': 980, 'date': 1670509609, 'rateCross': 0.009}, \n",
      "Type is<class 'dict'>\n",
      "\n",
      "Object is {'currencyCodeA': 408, 'currencyCodeB': 980, 'date': 1670450474, 'rateCross': 16.6221}, \n",
      "Type is<class 'dict'>\n",
      "\n",
      "Object is {'currencyCodeA': 410, 'currencyCodeB': 980, 'date': 1670521678, 'rateCross': 0.0285}, \n",
      "Type is<class 'dict'>\n",
      "\n",
      "Object is {'currencyCodeA': 414, 'currencyCodeB': 980, 'date': 1670489819, 'rateCross': 122.18}, \n",
      "Type is<class 'dict'>\n",
      "\n",
      "Object is {'currencyCodeA': 398, 'currencyCodeB': 980, 'date': 1670522803, 'rateCross': 0.079}, \n",
      "Type is<class 'dict'>\n",
      "\n",
      "Object is {'currencyCodeA': 418, 'currencyCodeB': 980, 'date': 1670493640, 'rateCross': 0.0021}, \n",
      "Type is<class 'dict'>\n",
      "\n",
      "Object is {'currencyCodeA': 422, 'currencyCodeB': 980, 'date': 1670061237, 'rateCross': 0.0012}, \n",
      "Type is<class 'dict'>\n",
      "\n",
      "Object is {'currencyCodeA': 144, 'currencyCodeB': 980, 'date': 1670515764, 'rateCross': 0.1031}, \n",
      "Type is<class 'dict'>\n",
      "\n",
      "Object is {'currencyCodeA': 434, 'currencyCodeB': 980, 'date': 1648958626, 'rateCross': 6.4735}, \n",
      "Type is<class 'dict'>\n",
      "\n",
      "Object is {'currencyCodeA': 504, 'currencyCodeB': 980, 'date': 1670522592, 'rateCross': 3.5414}, \n",
      "Type is<class 'dict'>\n",
      "\n",
      "Object is {'currencyCodeA': 498, 'currencyCodeB': 980, 'date': 1670522947, 'rateCross': 1.9337}, \n",
      "Type is<class 'dict'>\n",
      "\n",
      "Object is {'currencyCodeA': 969, 'currencyCodeB': 980, 'date': 1669302207, 'rateCross': 0.0086}, \n",
      "Type is<class 'dict'>\n",
      "\n",
      "Object is {'currencyCodeA': 807, 'currencyCodeB': 980, 'date': 1670521757, 'rateCross': 0.6396}, \n",
      "Type is<class 'dict'>\n",
      "\n",
      "Object is {'currencyCodeA': 496, 'currencyCodeB': 980, 'date': 1670522380, 'rateCross': 0.011}, \n",
      "Type is<class 'dict'>\n",
      "\n",
      "Object is {'currencyCodeA': 478, 'currencyCodeB': 980, 'date': 1670450474, 'rateCross': 0.097}, \n",
      "Type is<class 'dict'>\n",
      "\n",
      "Object is {'currencyCodeA': 480, 'currencyCodeB': 980, 'date': 1670520346, 'rateCross': 0.8585}, \n",
      "Type is<class 'dict'>\n",
      "\n",
      "Object is {'currencyCodeA': 454, 'currencyCodeB': 980, 'date': 1633949773, 'rateCross': 0.0325}, \n",
      "Type is<class 'dict'>\n",
      "\n",
      "Object is {'currencyCodeA': 484, 'currencyCodeB': 980, 'date': 1670522680, 'rateCross': 1.9045}, \n",
      "Type is<class 'dict'>\n",
      "\n",
      "Object is {'currencyCodeA': 458, 'currencyCodeB': 980, 'date': 1670516120, 'rateCross': 8.5289}, \n",
      "Type is<class 'dict'>\n",
      "\n",
      "Object is {'currencyCodeA': 943, 'currencyCodeB': 980, 'date': 1670091135, 'rateCross': 0.5919}, \n",
      "Type is<class 'dict'>\n",
      "\n",
      "Object is {'currencyCodeA': 516, 'currencyCodeB': 980, 'date': 1670508851, 'rateCross': 2.195}, \n",
      "Type is<class 'dict'>\n",
      "\n",
      "Object is {'currencyCodeA': 566, 'currencyCodeB': 980, 'date': 1670522276, 'rateCross': 0.0841}, \n",
      "Type is<class 'dict'>\n",
      "\n",
      "Object is {'currencyCodeA': 558, 'currencyCodeB': 980, 'date': 1670453735, 'rateCross': 1.0398}, \n",
      "Type is<class 'dict'>\n",
      "\n",
      "Object is {'currencyCodeA': 578, 'currencyCodeB': 980, 'date': 1670522933, 'rateCross': 3.7721}, \n",
      "Type is<class 'dict'>\n",
      "\n",
      "Object is {'currencyCodeA': 524, 'currencyCodeB': 980, 'date': 1670494539, 'rateCross': 0.2847}, \n",
      "Type is<class 'dict'>\n",
      "\n",
      "Object is {'currencyCodeA': 554, 'currencyCodeB': 980, 'date': 1670512950, 'rateCross': 23.9038}, \n",
      "Type is<class 'dict'>\n",
      "\n",
      "Object is {'currencyCodeA': 512, 'currencyCodeB': 980, 'date': 1670519829, 'rateCross': 97.1582}, \n",
      "Type is<class 'dict'>\n",
      "\n",
      "Object is {'currencyCodeA': 604, 'currencyCodeB': 980, 'date': 1670522754, 'rateCross': 9.8323}, \n",
      "Type is<class 'dict'>\n",
      "\n",
      "Object is {'currencyCodeA': 608, 'currencyCodeB': 980, 'date': 1670522129, 'rateCross': 0.6752}, \n",
      "Type is<class 'dict'>\n",
      "\n",
      "Object is {'currencyCodeA': 586, 'currencyCodeB': 980, 'date': 1670522446, 'rateCross': 0.1671}, \n",
      "Type is<class 'dict'>\n",
      "\n",
      "Object is {'currencyCodeA': 985, 'currencyCodeB': 980, 'date': 1670522951, 'rateCross': 8.4116}, \n",
      "Type is<class 'dict'>\n",
      "\n",
      "Object is {'currencyCodeA': 600, 'currencyCodeB': 980, 'date': 1670522567, 'rateCross': 0.0052}, \n",
      "Type is<class 'dict'>\n",
      "\n",
      "Object is {'currencyCodeA': 634, 'currencyCodeB': 980, 'date': 1670521960, 'rateCross': 10.2805}, \n",
      "Type is<class 'dict'>\n",
      "\n",
      "Object is {'currencyCodeA': 946, 'currencyCodeB': 980, 'date': 1670522947, 'rateCross': 8.0409}, \n",
      "Type is<class 'dict'>\n",
      "\n",
      "Object is {'currencyCodeA': 941, 'currencyCodeB': 980, 'date': 1670522639, 'rateCross': 0.3356}, \n",
      "Type is<class 'dict'>\n",
      "\n",
      "Object is {'currencyCodeA': 682, 'currencyCodeB': 980, 'date': 1670520875, 'rateCross': 9.9548}, \n",
      "Type is<class 'dict'>\n",
      "\n",
      "Object is {'currencyCodeA': 690, 'currencyCodeB': 980, 'date': 1670507048, 'rateCross': 2.6791}, \n",
      "Type is<class 'dict'>\n",
      "\n",
      "Object is {'currencyCodeA': 938, 'currencyCodeB': 980, 'date': 1670450474, 'rateCross': 0.0633}, \n",
      "Type is<class 'dict'>\n",
      "\n",
      "Object is {'currencyCodeA': 752, 'currencyCodeB': 980, 'date': 1670522914, 'rateCross': 3.6266}, \n",
      "Type is<class 'dict'>\n",
      "\n",
      "Object is {'currencyCodeA': 702, 'currencyCodeB': 980, 'date': 1670520142, 'rateCross': 27.6521}, \n",
      "Type is<class 'dict'>\n",
      "\n",
      "Object is {'currencyCodeA': 694, 'currencyCodeB': 980, 'date': 1664217991, 'rateCross': 0.0024}, \n",
      "Type is<class 'dict'>\n",
      "\n",
      "Object is {'currencyCodeA': 706, 'currencyCodeB': 980, 'date': 1670450474, 'rateCross': 0.0647}, \n",
      "Type is<class 'dict'>\n",
      "\n",
      "Object is {'currencyCodeA': 968, 'currencyCodeB': 980, 'date': 1669419358, 'rateCross': 1.223}, \n",
      "Type is<class 'dict'>\n",
      "\n",
      "Object is {'currencyCodeA': 760, 'currencyCodeB': 980, 'date': 1670450474, 'rateCross': 0.0121}, \n",
      "Type is<class 'dict'>\n",
      "\n",
      "Object is {'currencyCodeA': 748, 'currencyCodeB': 980, 'date': 1668614714, 'rateCross': 2.1898}, \n",
      "Type is<class 'dict'>\n",
      "\n",
      "Object is {'currencyCodeA': 764, 'currencyCodeB': 980, 'date': 1670521527, 'rateCross': 1.0733}, \n",
      "Type is<class 'dict'>\n",
      "\n",
      "Object is {'currencyCodeA': 972, 'currencyCodeB': 980, 'date': 1670500388, 'rateCross': 3.6684}, \n",
      "Type is<class 'dict'>\n",
      "\n",
      "Object is {'currencyCodeA': 795, 'currencyCodeB': 980, 'date': 1670450474, 'rateCross': 0.0021}, \n",
      "Type is<class 'dict'>\n",
      "\n",
      "Object is {'currencyCodeA': 788, 'currencyCodeB': 980, 'date': 1670517141, 'rateCross': 11.607}, \n",
      "Type is<class 'dict'>\n",
      "\n",
      "Object is {'currencyCodeA': 949, 'currencyCodeB': 980, 'date': 1670522947, 'rateCross': 2.0104}, \n",
      "Type is<class 'dict'>\n",
      "\n",
      "Object is {'currencyCodeA': 901, 'currencyCodeB': 980, 'date': 1670518511, 'rateCross': 1.2228}, \n",
      "Type is<class 'dict'>\n",
      "\n",
      "Object is {'currencyCodeA': 834, 'currencyCodeB': 980, 'date': 1670506300, 'rateCross': 0.0163}, \n",
      "Type is<class 'dict'>\n",
      "\n",
      "Object is {'currencyCodeA': 800, 'currencyCodeB': 980, 'date': 1670507192, 'rateCross': 0.0101}, \n",
      "Type is<class 'dict'>\n",
      "\n",
      "Object is {'currencyCodeA': 858, 'currencyCodeB': 980, 'date': 1670511818, 'rateCross': 0.9575}, \n",
      "Type is<class 'dict'>\n",
      "\n",
      "Object is {'currencyCodeA': 860, 'currencyCodeB': 980, 'date': 1670522690, 'rateCross': 0.0033}, \n",
      "Type is<class 'dict'>\n",
      "\n",
      "Object is {'currencyCodeA': 937, 'currencyCodeB': 980, 'date': 1670450474, 'rateCross': 2.8954}, \n",
      "Type is<class 'dict'>\n",
      "\n",
      "Object is {'currencyCodeA': 704, 'currencyCodeB': 980, 'date': 1670520778, 'rateCross': 0.0015}, \n",
      "Type is<class 'dict'>\n",
      "\n",
      "Object is {'currencyCodeA': 950, 'currencyCodeB': 980, 'date': 1670517385, 'rateCross': 0.0602}, \n",
      "Type is<class 'dict'>\n",
      "\n",
      "Object is {'currencyCodeA': 952, 'currencyCodeB': 980, 'date': 1670520378, 'rateCross': 0.0602}, \n",
      "Type is<class 'dict'>\n",
      "\n",
      "Object is {'currencyCodeA': 886, 'currencyCodeB': 980, 'date': 1543715495, 'rateCross': 0.112}, \n",
      "Type is<class 'dict'>\n",
      "\n",
      "Object is {'currencyCodeA': 710, 'currencyCodeB': 980, 'date': 1670521938, 'rateCross': 2.1956}, \n",
      "Type is<class 'dict'>\n",
      "\n",
      "Object is {'currencyCodeA': 894, 'currencyCodeB': 980, 'date': 1670450474, 'rateCross': 0.0021}, \n",
      "Type is<class 'dict'>\n",
      "\n"
     ]
    }
   ],
   "source": [
    "for obj in res_monobank.json():\n",
    "    print(f'Object is {obj}, \\nType is{type(obj)}', end = '\\n\\n')"
   ]
  },
  {
   "cell_type": "code",
   "execution_count": 67,
   "id": "28a8fdf2",
   "metadata": {},
   "outputs": [
    {
     "name": "stdout",
     "output_type": "stream",
     "text": [
      "[{'currencyCodeA': 840, 'currencyCodeB': 980, 'date': 1670450474, 'rateBuy': 36.65, 'rateSell': 37.4406}, {'currencyCodeA': 978, 'currencyCodeB': 980, 'date': 1670481974, 'rateBuy': 38.55, 'rateSell': 39.6495}, {'currencyCodeA': 978, 'currencyCodeB': 840, 'date': 1670481974, 'rateBuy': 1.043, 'rateSell': 1.058}]\n"
     ]
    }
   ],
   "source": [
    "my_currencies = {\n",
    "    980: '🇺🇦',\n",
    "    840: '🇺🇸',\n",
    "    978: \"🇪🇺\",\n",
    "    # 826: '🇬🇧',\n",
    "}\n",
    "\n",
    "my_rates = []\n",
    "for obj in res_monobank.json():\n",
    "    #print(obj.keys())\n",
    "    if obj['currencyCodeA'] in my_currencies and  obj not in my_rates:\n",
    "        my_rates.append(obj)\n",
    "\n",
    "print(my_rates)"
   ]
  },
  {
   "cell_type": "code",
   "execution_count": 69,
   "id": "e8c88dd2",
   "metadata": {},
   "outputs": [
    {
     "name": "stdout",
     "output_type": "stream",
     "text": [
      "Країна: 🇺🇸 Купівля 36.65 Продаж: 37.4406\n",
      "Країна: 🇪🇺 Купівля 38.55 Продаж: 39.6495\n",
      "Країна: 🇪🇺 Купівля 1.043 Продаж: 1.058\n"
     ]
    }
   ],
   "source": [
    "for obj in my_rates:\n",
    "    #print(obj)\n",
    "    print(f\"Країна: {my_currencies[obj['currencyCodeA']]} Купівля {obj['rateBuy']} Продаж: {obj['rateSell']}\")"
   ]
  },
  {
   "cell_type": "code",
   "execution_count": null,
   "id": "3a854720",
   "metadata": {},
   "outputs": [],
   "source": []
  },
  {
   "cell_type": "markdown",
   "id": "b7184cbe",
   "metadata": {},
   "source": [
    "#### Вивезти з API(приватбанка) курс валют для:\n",
    "1. USA\n",
    "2. EURO\n",
    "3. GBR\n",
    "4. PLN\n",
    "5. Свою валюту\n",
    "\n",
    "* Написати Test\n",
    "* Вивезти курс валюти від користувача\n",
    "* Робити перевірки на status code\n",
    "* Написати це функцію\n",
    "* Залити на git(flake8 use, requirments, config.cfg)"
   ]
  },
  {
   "cell_type": "code",
   "execution_count": 72,
   "id": "efeb7164",
   "metadata": {},
   "outputs": [],
   "source": [
    "resp = requests.get('https://api.privatbank.ua/p24api/pubinfo?exchange&coursid=5') # Отримати "
   ]
  },
  {
   "cell_type": "code",
   "execution_count": 73,
   "id": "3674c937",
   "metadata": {},
   "outputs": [
    {
     "data": {
      "text/plain": [
       "200"
      ]
     },
     "execution_count": 73,
     "metadata": {},
     "output_type": "execute_result"
    }
   ],
   "source": [
    "resp.status_code"
   ]
  },
  {
   "cell_type": "code",
   "execution_count": 75,
   "id": "4f13635b",
   "metadata": {},
   "outputs": [
    {
     "data": {
      "text/plain": [
       "[{'ccy': 'EUR', 'base_ccy': 'UAH', 'buy': '40.50000', 'sale': '41.50000'},\n",
       " {'ccy': 'USD', 'base_ccy': 'UAH', 'buy': '39.20000', 'sale': '39.70000'}]"
      ]
     },
     "execution_count": 75,
     "metadata": {},
     "output_type": "execute_result"
    }
   ],
   "source": [
    "resp.json()"
   ]
  },
  {
   "cell_type": "code",
   "execution_count": null,
   "id": "cc4926f0",
   "metadata": {},
   "outputs": [],
   "source": []
  },
  {
   "cell_type": "code",
   "execution_count": 76,
   "id": "a5337668",
   "metadata": {},
   "outputs": [],
   "source": [
    "### Spotify Api"
   ]
  },
  {
   "cell_type": "code",
   "execution_count": 59,
   "id": "414dd319",
   "metadata": {},
   "outputs": [],
   "source": [
    "MY_SECRET_TOKEN = 'BQBIxgccIg5E0XsmY1Ia2laCKSiejIGryLbrAqvpAgAeLU1Mv-gwNKohZj0pLezO0Yv0jnRBw3MpdF_b_WCi5QSBy_-bPCoery3vocvmTnA3zbn3CrPhxK5VX-XiF1FpphNf8_U_nbjLprT1mdzFxTGJzjeo73puYeD2bopzBouAWYa5UGStfZ_Hbr2ta5LR6M'"
   ]
  },
  {
   "cell_type": "code",
   "execution_count": 57,
   "id": "b863526d",
   "metadata": {},
   "outputs": [],
   "source": [
    "stotify = requests.get('https://api.spotify.com/v1/search')"
   ]
  },
  {
   "cell_type": "code",
   "execution_count": 58,
   "id": "25ebca62",
   "metadata": {},
   "outputs": [
    {
     "data": {
      "text/plain": [
       "401"
      ]
     },
     "execution_count": 58,
     "metadata": {},
     "output_type": "execute_result"
    }
   ],
   "source": [
    "stotify.status_code"
   ]
  },
  {
   "cell_type": "code",
   "execution_count": 60,
   "id": "5e786e1d",
   "metadata": {},
   "outputs": [],
   "source": [
    "spotify_resp = requests.get(\n",
    "    'https://api.spotify.com/v1/search',\n",
    "    headers={\n",
    "        'Authorization': f\"Bearer {MY_SECRET_TOKEN}\"\n",
    "    },\n",
    "    params={\n",
    "        'q': 'queen!',\n",
    "        'type': \"track,artist\"\n",
    "    }\n",
    ")"
   ]
  },
  {
   "cell_type": "code",
   "execution_count": 61,
   "id": "3a0c225e",
   "metadata": {},
   "outputs": [
    {
     "name": "stdout",
     "output_type": "stream",
     "text": [
      "obj: {'status': 401, 'message': 'Invalid access token'}\n"
     ]
    }
   ],
   "source": [
    "for obj in spotify_resp.json():\n",
    "    print(f'obj: {spotify_resp.json()[obj]}')\n",
    "\n"
   ]
  },
  {
   "cell_type": "markdown",
   "id": "7442afbc",
   "metadata": {},
   "source": [
    "## Practice\n",
    "\n",
    "1. Create a program that will ask user to search a word. Search this word in Giphy (use their API). Return links to these GIFs as a result\n",
    "2. Взяти API-weather, розпарсити і вивезти погоду від користувача(вводить локацію, по цій локації повернеться погода, вологість і тд) https://openweathermap.org *Потрібна реєстрація і створення свого api-ключа\n",
    "3. Вивезти всіх космонавтів(кількість і імена) http://api.open-notify.org/astros.json\n",
    "\n",
    "\n"
   ]
  },
  {
   "cell_type": "code",
   "execution_count": null,
   "id": "25999a1d",
   "metadata": {},
   "outputs": [],
   "source": []
  },
  {
   "cell_type": "code",
   "execution_count": null,
   "id": "8454506d",
   "metadata": {},
   "outputs": [],
   "source": []
  }
 ],
 "metadata": {
  "kernelspec": {
   "display_name": "Python 3 (ipykernel)",
   "language": "python",
   "name": "python3"
  },
  "language_info": {
   "codemirror_mode": {
    "name": "ipython",
    "version": 3
   },
   "file_extension": ".py",
   "mimetype": "text/x-python",
   "name": "python",
   "nbconvert_exporter": "python",
   "pygments_lexer": "ipython3",
   "version": "3.10.8"
  }
 },
 "nbformat": 4,
 "nbformat_minor": 5
}
