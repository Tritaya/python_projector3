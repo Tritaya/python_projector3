{
 "cells": [
  {
   "cell_type": "markdown",
   "id": "be362b04",
   "metadata": {},
   "source": [
    "### Python lesson - 05.11\n",
    "> **Topics**:\n",
    "    > 1. More operation with number(%, /, //)\n",
    "    > 2. Bool and operation with boll\n",
    "    > 3. Strings\n",
    "    > 4.Format string(f-string, format, old style format string)\n",
    "\n",
    ">    **Bool**:\n",
    "    >    1. https://realpython.com/python-operators-expressions/#logical-operators\n",
    "    >    2. https://www.w3schools.com/python/python_booleans.asp \n",
    "    \n",
    "> **String** materials:\n",
    "    >    1. https://realpython.com/python-strings/\n",
    "    >    2. https://realpython.com/python-string-formatting/\n",
    "    >    3. https://realpython.com/python-string-split-concatenate-join/\n",
    "    >    4. https://realpython.com/python-f-strings/\n",
    "    >    5. https://www.w3schools.com/python/python_strings.asp\n",
    "    >    6. https://www.learnpython.org/en/String_Formatting\n",
    "    >    7. https://www.w3schools.com/python/python_ref_string.asp - methods string\n",
    "\n",
    "\n",
    "    "
   ]
  },
  {
   "cell_type": "markdown",
   "id": "6651a808",
   "metadata": {},
   "source": [
    "### Arithmetic operators\n",
    "1. -/+ \n",
    "2. / \n",
    "3. //\n",
    "4. % - залишок від цілого ділення\n",
    "5. *\\ - помножити \n",
    "6. ** - pow або возвезти в ступінь"
   ]
  },
  {
   "cell_type": "code",
   "execution_count": 251,
   "id": "7918a941",
   "metadata": {},
   "outputs": [
    {
     "name": "stdout",
     "output_type": "stream",
     "text": [
      "3.33 3 1\n"
     ]
    }
   ],
   "source": [
    "print(round(10 / 3, 2),  # Не ціле ділення + округлення результата\n",
    "      10 // 3,\n",
    "     10 % 3) # Ціло ділення, відкидуємо математично дробну частину"
   ]
  },
  {
   "cell_type": "markdown",
   "id": "bf76caea",
   "metadata": {},
   "source": [
    "Explain **%**:\n",
    "    10 / 3 = 3\n",
    "    3 * 3 = 9\n",
    "    10 - 9 = 1\n",
    "    \n",
    "##### Task 1. Прийняти від користувача(вас) два числа, і реалізувати операцію %, за допомогою інших функцій\n",
    "##### Task 2. Порахувати скільки секунд в одному дні. 2.* Секунд в роках "
   ]
  },
  {
   "cell_type": "code",
   "execution_count": 254,
   "id": "62dda5f4",
   "metadata": {},
   "outputs": [
    {
     "name": "stdout",
     "output_type": "stream",
     "text": [
      "0 1\n"
     ]
    }
   ],
   "source": [
    "print(10 % 2, 10 % 3 )"
   ]
  },
  {
   "cell_type": "code",
   "execution_count": 261,
   "id": "24abd2a0",
   "metadata": {},
   "outputs": [
    {
     "name": "stdout",
     "output_type": "stream",
     "text": [
      "3\n",
      "9\n",
      "1\n",
      "1 1\n"
     ]
    }
   ],
   "source": [
    "# Task 1.\n",
    "a, b = 10 , 3\n",
    "step_1 = a // b\n",
    "print(step_1)\n",
    "step_2 = b * step_1\n",
    "print(step_2)\n",
    "step_3 = a - step_2\n",
    "print(step_3)\n",
    "print(step_3, a % b)"
   ]
  },
  {
   "cell_type": "code",
   "execution_count": null,
   "id": "3c3bc800",
   "metadata": {},
   "outputs": [],
   "source": []
  },
  {
   "cell_type": "code",
   "execution_count": null,
   "id": "5024661d",
   "metadata": {},
   "outputs": [],
   "source": []
  },
  {
   "cell_type": "code",
   "execution_count": null,
   "id": "7732c679",
   "metadata": {},
   "outputs": [],
   "source": []
  },
  {
   "cell_type": "code",
   "execution_count": 266,
   "id": "25430d62",
   "metadata": {},
   "outputs": [
    {
     "name": "stdout",
     "output_type": "stream",
     "text": [
      "True False 1 True <class 'float'>\n"
     ]
    }
   ],
   "source": [
    "# Bool type\n",
    "a, b = True, False # Or equal 1, 0 \n",
    "print(a, b, int(a), bool(int(b) - 10),type(a + 1.1))"
   ]
  },
  {
   "cell_type": "code",
   "execution_count": null,
   "id": "87032f44",
   "metadata": {},
   "outputs": [],
   "source": []
  },
  {
   "cell_type": "code",
   "execution_count": 264,
   "id": "bd6aa93f",
   "metadata": {},
   "outputs": [
    {
     "name": "stdout",
     "output_type": "stream",
     "text": [
      "False\n",
      "True\n",
      "True\n"
     ]
    }
   ],
   "source": [
    "print(bool(1 - 1), bool(1 - 2), bool(1 + 10), sep = '\\n')"
   ]
  },
  {
   "cell_type": "code",
   "execution_count": 60,
   "id": "64124c0b",
   "metadata": {},
   "outputs": [
    {
     "data": {
      "text/plain": [
       "False"
      ]
     },
     "execution_count": 60,
     "metadata": {},
     "output_type": "execute_result"
    }
   ],
   "source": [
    "bool('')"
   ]
  },
  {
   "cell_type": "markdown",
   "id": "117aa272",
   "metadata": {},
   "source": [
    "### Comparison operators\n",
    "1. == - операція еквівалентності \n",
    "2. !=  - не дорівнює \n",
    "3. \\>, >= - більше/більше дорівнює \n",
    "4. <, <= - менше/менше дорівнює "
   ]
  },
  {
   "cell_type": "code",
   "execution_count": 267,
   "id": "e9aad673",
   "metadata": {},
   "outputs": [
    {
     "name": "stdout",
     "output_type": "stream",
     "text": [
      "True\n"
     ]
    }
   ],
   "source": [
    "print(7 == 7) # Не плутати з операцією (=), == - це оператор порівняння  "
   ]
  },
  {
   "cell_type": "code",
   "execution_count": 268,
   "id": "f7fba78f",
   "metadata": {},
   "outputs": [
    {
     "name": "stdout",
     "output_type": "stream",
     "text": [
      "True False\n"
     ]
    }
   ],
   "source": [
    "print( 7 != 0, 7 != 7)"
   ]
  },
  {
   "cell_type": "code",
   "execution_count": 276,
   "id": "2dd93d09",
   "metadata": {},
   "outputs": [
    {
     "name": "stdout",
     "output_type": "stream",
     "text": [
      "False\n"
     ]
    }
   ],
   "source": [
    "print(7 >= 8)"
   ]
  },
  {
   "cell_type": "code",
   "execution_count": 274,
   "id": "90897f89",
   "metadata": {},
   "outputs": [
    {
     "name": "stdout",
     "output_type": "stream",
     "text": [
      "False\n"
     ]
    }
   ],
   "source": [
    "print(7 <= 2)"
   ]
  },
  {
   "cell_type": "code",
   "execution_count": 280,
   "id": "35eebb7a",
   "metadata": {},
   "outputs": [
    {
     "name": "stdout",
     "output_type": "stream",
     "text": [
      "True\n"
     ]
    }
   ],
   "source": [
    "print(3 < 5 < 7)"
   ]
  },
  {
   "cell_type": "markdown",
   "id": "2a7d3bea",
   "metadata": {},
   "source": [
    "## Practice chapter 1:\n",
    "1. Guess result of expression without executing it:\n",
    "\n",
    "    a) 1 <= 1\n",
    "    \n",
    "    b) 1 != 1\n",
    "\n",
    "    c) 1 != 2\n",
    "\n",
    "2. Make all of them true.\n",
    "    \n",
    "    a) 3 __ 4\n",
    "\n",
    "    b) 10 __ 5\n",
    "    \n",
    "    c) 42 __ \"42\""
   ]
  },
  {
   "cell_type": "markdown",
   "id": "91fb7a05",
   "metadata": {},
   "source": [
    "### String - список символів\n",
    "Для створення строки - вказуємо імя = одинарні або подвійні лапки\n",
    "a = 'some text'"
   ]
  },
  {
   "cell_type": "code",
   "execution_count": 291,
   "id": "29228f58",
   "metadata": {},
   "outputs": [
    {
     "name": "stdout",
     "output_type": "stream",
     "text": [
      "A:  True True\n"
     ]
    }
   ],
   "source": [
    "print('A: ', 3 != 4, 3 < 4)"
   ]
  },
  {
   "cell_type": "code",
   "execution_count": 292,
   "id": "e2956e5e",
   "metadata": {},
   "outputs": [
    {
     "name": "stdout",
     "output_type": "stream",
     "text": [
      "B:  True True True\n"
     ]
    }
   ],
   "source": [
    "print('B: ', 10 != 5, 10 > 5, 10 >= 5)"
   ]
  },
  {
   "cell_type": "code",
   "execution_count": 295,
   "id": "f679a6c5",
   "metadata": {},
   "outputs": [
    {
     "name": "stdout",
     "output_type": "stream",
     "text": [
      "C:  True True\n"
     ]
    }
   ],
   "source": [
    "print('C: ', 42 != '42', 42 == int('42'))"
   ]
  },
  {
   "cell_type": "code",
   "execution_count": null,
   "id": "13368d48",
   "metadata": {},
   "outputs": [],
   "source": []
  },
  {
   "cell_type": "code",
   "execution_count": 296,
   "id": "6f8e4c2d",
   "metadata": {},
   "outputs": [
    {
     "name": "stdout",
     "output_type": "stream",
     "text": [
      "Hello World! <class 'str'>\n"
     ]
    }
   ],
   "source": [
    "string = 'Hello World!'\n",
    "print(string, type(string))"
   ]
  },
  {
   "cell_type": "code",
   "execution_count": 299,
   "id": "0e2eec65",
   "metadata": {},
   "outputs": [
    {
     "name": "stdout",
     "output_type": "stream",
     "text": [
      "Один великий рядок який може розтягнутись на декілька екранів\n"
     ]
    }
   ],
   "source": [
    "# Оператор екранування(\\) - вказуємо що це та сама строка \n",
    "print(\"Один великий рядок \\\n",
    "який може розтягнутись на декілька екранів\\\n",
    "\")"
   ]
  },
  {
   "cell_type": "code",
   "execution_count": 301,
   "id": "48d3e0ba",
   "metadata": {},
   "outputs": [
    {
     "name": "stdout",
     "output_type": "stream",
     "text": [
      "\n",
      "Один великий рядок\n",
      "який може розтягнутись на декілька екранів\n",
      "\n"
     ]
    }
   ],
   "source": [
    "print(\"\"\"\n",
    "Один великий рядок\n",
    "який може розтягнутись на декілька екранів\n",
    "\"\"\")"
   ]
  },
  {
   "cell_type": "code",
   "execution_count": 302,
   "id": "fa336f5a",
   "metadata": {},
   "outputs": [
    {
     "name": "stdout",
     "output_type": "stream",
     "text": [
      "\n",
      "Один великий рядок\n",
      "який може розтягнутись на декілька екранів\n",
      "\n"
     ]
    }
   ],
   "source": [
    "print('''\n",
    "Один великий рядок\n",
    "який може розтягнутись на декілька екранів\n",
    "''')"
   ]
  },
  {
   "cell_type": "code",
   "execution_count": 303,
   "id": "de458d54",
   "metadata": {},
   "outputs": [
    {
     "ename": "SyntaxError",
     "evalue": "invalid syntax. Perhaps you forgot a comma? (1070294183.py, line 1)",
     "output_type": "error",
     "traceback": [
      "\u001b[0;36m  Cell \u001b[0;32mIn [303], line 1\u001b[0;36m\u001b[0m\n\u001b[0;31m    print(''Apple' is doomed')\u001b[0m\n\u001b[0m          ^\u001b[0m\n\u001b[0;31mSyntaxError\u001b[0m\u001b[0;31m:\u001b[0m invalid syntax. Perhaps you forgot a comma?\n"
     ]
    }
   ],
   "source": [
    "print(''Apple' is doomed')"
   ]
  },
  {
   "cell_type": "code",
   "execution_count": 304,
   "id": "bcbbd485",
   "metadata": {},
   "outputs": [
    {
     "name": "stdout",
     "output_type": "stream",
     "text": [
      "\"Apple\" is doomed\n"
     ]
    }
   ],
   "source": [
    "print('\"Apple\" is doomed')"
   ]
  },
  {
   "cell_type": "code",
   "execution_count": 305,
   "id": "3bc12e09",
   "metadata": {},
   "outputs": [
    {
     "name": "stdout",
     "output_type": "stream",
     "text": [
      "\"Apple\" is doomed\n"
     ]
    }
   ],
   "source": [
    "print(\"\\\"Apple\\\" is doomed\")"
   ]
  },
  {
   "cell_type": "markdown",
   "id": "71de1a8b",
   "metadata": {},
   "source": [
    "[More about slash](https://www.pythontutorial.net/python-basics/python-backslash/)"
   ]
  },
  {
   "cell_type": "code",
   "execution_count": 306,
   "id": "9178fe46",
   "metadata": {
    "scrolled": true
   },
   "outputs": [
    {
     "name": "stdout",
     "output_type": "stream",
     "text": [
      "Hellostudentsi`m a new string\n",
      "Hello\tstudents\n",
      "i`m a new string \\\n"
     ]
    }
   ],
   "source": [
    "print('Hellostudentsi`m a new string')\n",
    "print('Hello\\tstudents\\ni`m a new string \\\\')"
   ]
  },
  {
   "cell_type": "code",
   "execution_count": 315,
   "id": "e36d2d6b",
   "metadata": {},
   "outputs": [
    {
     "name": "stdout",
     "output_type": "stream",
     "text": [
      "a\tc\n",
      "a\n",
      "b\n",
      "a\\b\n"
     ]
    }
   ],
   "source": [
    "print('a\\tc')\n",
    "print('a\\nb')\n",
    "print('a\\\\b')"
   ]
  },
  {
   "cell_type": "code",
   "execution_count": 316,
   "id": "76e68c79",
   "metadata": {},
   "outputs": [
    {
     "name": "stdout",
     "output_type": "stream",
     "text": [
      "Hello\\tstudents\\ni`m a new string \\\\\n"
     ]
    }
   ],
   "source": [
    "print(r'Hello\\tstudents\\ni`m a new string \\\\')"
   ]
  },
  {
   "cell_type": "code",
   "execution_count": 318,
   "id": "9b76294d",
   "metadata": {},
   "outputs": [
    {
     "name": "stdout",
     "output_type": "stream",
     "text": [
      "a\b c\n"
     ]
    }
   ],
   "source": []
  },
  {
   "cell_type": "code",
   "execution_count": 319,
   "id": "6368509f",
   "metadata": {},
   "outputs": [],
   "source": [
    "# \\n - перехід на новий рядок \n",
    "# \\t - 4 пробіли \n",
    "# \\\\ - показати один \\\n",
    "# r - вказуємо що буде ігнорувати всі спец символи"
   ]
  },
  {
   "cell_type": "markdown",
   "id": "ed9ac37f",
   "metadata": {},
   "source": [
    "## Practice chapter 2\n",
    "1. Print the text in which there will be a quote with double quotes.\n",
    "2. Print the text in which there will be an apostrophe.\n",
    "3. Print a line that will be displayed on several lines\n",
    "4. Print text that doesn`t fit in one line but will be displayed in one line"
   ]
  },
  {
   "cell_type": "code",
   "execution_count": 320,
   "id": "a5f88f31",
   "metadata": {},
   "outputs": [
    {
     "name": "stdout",
     "output_type": "stream",
     "text": [
      "Hello, world123\n"
     ]
    },
    {
     "data": {
      "text/plain": [
       "str"
      ]
     },
     "execution_count": 320,
     "metadata": {},
     "output_type": "execute_result"
    }
   ],
   "source": [
    "print(\"Hello, \" + \"world\" + '123') # Операція + над строками називається конкатенації\n",
    "type(\"Hello, \" + \"world\")"
   ]
  },
  {
   "cell_type": "code",
   "execution_count": 323,
   "id": "813a2e8b",
   "metadata": {},
   "outputs": [
    {
     "data": {
      "text/plain": [
       "True"
      ]
     },
     "execution_count": 323,
     "metadata": {},
     "output_type": "execute_result"
    }
   ],
   "source": [
    "'123' == \"123\""
   ]
  },
  {
   "cell_type": "code",
   "execution_count": 324,
   "id": "304a557a",
   "metadata": {},
   "outputs": [
    {
     "name": "stdout",
     "output_type": "stream",
     "text": [
      "Value is 100\n"
     ]
    }
   ],
   "source": [
    "print('Value is ' + str(100))"
   ]
  },
  {
   "cell_type": "code",
   "execution_count": 325,
   "id": "206092ce",
   "metadata": {},
   "outputs": [
    {
     "name": "stdout",
     "output_type": "stream",
     "text": [
      "22\n",
      "4\n"
     ]
    }
   ],
   "source": [
    "print(str(2) + str(2), 2 + 2 , sep = '\\n')"
   ]
  },
  {
   "cell_type": "code",
   "execution_count": 326,
   "id": "bb4216de",
   "metadata": {},
   "outputs": [
    {
     "name": "stdout",
     "output_type": "stream",
     "text": [
      "False\n",
      "True\n"
     ]
    }
   ],
   "source": [
    "print(\"Львів \" in \"Київ, Львів, Харків, Одеса\")\n",
    "print(\"Львів,\" in \"Київ, Львів, Харків, Одеса\")"
   ]
  },
  {
   "cell_type": "code",
   "execution_count": 329,
   "id": "c1e43555",
   "metadata": {},
   "outputs": [
    {
     "name": "stdout",
     "output_type": "stream",
     "text": [
      "False\n"
     ]
    }
   ],
   "source": [
    "print(\"Київ\" not in \"Київ, Львів, Харків, Одеса\")"
   ]
  },
  {
   "cell_type": "code",
   "execution_count": 330,
   "id": "2a9a9720",
   "metadata": {},
   "outputs": [
    {
     "name": "stdout",
     "output_type": "stream",
     "text": [
      "False True\n"
     ]
    }
   ],
   "source": [
    "print('київ' == 'Київ', 'київ' != 'Київ')"
   ]
  },
  {
   "cell_type": "code",
   "execution_count": 333,
   "id": "22f7657d",
   "metadata": {},
   "outputs": [
    {
     "name": "stdout",
     "output_type": "stream",
     "text": [
      "True\n"
     ]
    }
   ],
   "source": [
    "print('Kyiv' > 'Kiev')"
   ]
  },
  {
   "cell_type": "code",
   "execution_count": 336,
   "id": "cba2cf94",
   "metadata": {},
   "outputs": [
    {
     "name": "stdout",
     "output_type": "stream",
     "text": [
      "True\n"
     ]
    }
   ],
   "source": [
    "print('абв' > 'abc')"
   ]
  },
  {
   "cell_type": "code",
   "execution_count": 341,
   "id": "fc0c3c24",
   "metadata": {},
   "outputs": [
    {
     "name": "stdout",
     "output_type": "stream",
     "text": [
      "1072 97 True 1072 1103\n"
     ]
    }
   ],
   "source": [
    "print(ord('а'), ord('a'), 'а' > 'a')"
   ]
  },
  {
   "cell_type": "code",
   "execution_count": 344,
   "id": "b552582a",
   "metadata": {},
   "outputs": [
    {
     "name": "stdout",
     "output_type": "stream",
     "text": [
      "False\n"
     ]
    }
   ],
   "source": [
    "print('ab' > 'abc')"
   ]
  },
  {
   "cell_type": "code",
   "execution_count": 347,
   "id": "0ef137b6",
   "metadata": {},
   "outputs": [],
   "source": [
    "val1, val2 = 'abc', '😂'"
   ]
  },
  {
   "cell_type": "code",
   "execution_count": 348,
   "id": "fab2e8cf",
   "metadata": {},
   "outputs": [],
   "source": [
    "def convert(value: str) -> int:\n",
    "    return sum(ord(i) for i in value) "
   ]
  },
  {
   "cell_type": "code",
   "execution_count": 351,
   "id": "231f8640",
   "metadata": {},
   "outputs": [
    {
     "name": "stdout",
     "output_type": "stream",
     "text": [
      "294 128514 False\n"
     ]
    }
   ],
   "source": [
    "print(convert(val1), convert(val2), val2 == val1)"
   ]
  },
  {
   "cell_type": "code",
   "execution_count": null,
   "id": "440a7554",
   "metadata": {},
   "outputs": [],
   "source": []
  },
  {
   "cell_type": "code",
   "execution_count": 151,
   "id": "6e1dd385",
   "metadata": {},
   "outputs": [
    {
     "data": {
      "text/plain": [
       "(False, True)"
      ]
     },
     "execution_count": 151,
     "metadata": {},
     "output_type": "execute_result"
    }
   ],
   "source": [
    "val1 == val2, val1 <= val2"
   ]
  },
  {
   "cell_type": "code",
   "execution_count": 133,
   "id": "d2ea2015",
   "metadata": {},
   "outputs": [
    {
     "name": "stdout",
     "output_type": "stream",
     "text": [
      "1072 97 1073\n"
     ]
    }
   ],
   "source": []
  },
  {
   "cell_type": "code",
   "execution_count": 354,
   "id": "01ce54a4",
   "metadata": {},
   "outputs": [
    {
     "name": "stdout",
     "output_type": "stream",
     "text": [
      "abcabcabcabcabcabcabcabcabcabc 4\n"
     ]
    }
   ],
   "source": [
    "print('abc' * 10, 2 * 2) "
   ]
  },
  {
   "cell_type": "code",
   "execution_count": 355,
   "id": "3e996644",
   "metadata": {},
   "outputs": [
    {
     "ename": "TypeError",
     "evalue": "can't multiply sequence by non-int of type 'str'",
     "output_type": "error",
     "traceback": [
      "\u001b[0;31m---------------------------------------------------------------------------\u001b[0m",
      "\u001b[0;31mTypeError\u001b[0m                                 Traceback (most recent call last)",
      "Cell \u001b[0;32mIn [355], line 1\u001b[0m\n\u001b[0;32m----> 1\u001b[0m \u001b[38;5;28mprint\u001b[39m(\u001b[38;5;124;43m'\u001b[39;49m\u001b[38;5;124;43ma\u001b[39;49m\u001b[38;5;124;43m'\u001b[39;49m\u001b[43m \u001b[49m\u001b[38;5;241;43m*\u001b[39;49m\u001b[43m \u001b[49m\u001b[38;5;124;43m'\u001b[39;49m\u001b[38;5;124;43mb\u001b[39;49m\u001b[38;5;124;43m'\u001b[39;49m)\n",
      "\u001b[0;31mTypeError\u001b[0m: can't multiply sequence by non-int of type 'str'"
     ]
    }
   ],
   "source": [
    "print('a' * 'b')"
   ]
  },
  {
   "cell_type": "code",
   "execution_count": 154,
   "id": "c9f2a399",
   "metadata": {},
   "outputs": [],
   "source": [
    "# Функція len(один_аргумент) -> Повертає довжину, кількість символів"
   ]
  },
  {
   "cell_type": "code",
   "execution_count": 356,
   "id": "c66f55f3",
   "metadata": {},
   "outputs": [],
   "source": [
    "a = 'Sasha'\n",
    "b = 'Anhelina'"
   ]
  },
  {
   "cell_type": "code",
   "execution_count": 360,
   "id": "b1babd61",
   "metadata": {},
   "outputs": [
    {
     "name": "stdout",
     "output_type": "stream",
     "text": [
      "False 5 8\n"
     ]
    }
   ],
   "source": [
    "print(len(a) == len(b), len(a), len(b))"
   ]
  },
  {
   "cell_type": "code",
   "execution_count": 363,
   "id": "485bb985",
   "metadata": {},
   "outputs": [
    {
     "data": {
      "text/plain": [
       "0"
      ]
     },
     "execution_count": 363,
     "metadata": {},
     "output_type": "execute_result"
    }
   ],
   "source": [
    "len('')"
   ]
  },
  {
   "cell_type": "code",
   "execution_count": null,
   "id": "383ef843",
   "metadata": {},
   "outputs": [],
   "source": [
    "# in, not in "
   ]
  },
  {
   "cell_type": "markdown",
   "id": "5b547d7e",
   "metadata": {},
   "source": [
    "### String and string slice  \n",
    "1. [Slice](https://www.digitalocean.com/community/tutorials/python-slice-string)"
   ]
  },
  {
   "cell_type": "code",
   "execution_count": 364,
   "id": "f3f49d11",
   "metadata": {},
   "outputs": [],
   "source": [
    "string = 'Name' # 0 - N, 1 - a, m - 2, e - 3, де число це індекс "
   ]
  },
  {
   "cell_type": "code",
   "execution_count": 369,
   "id": "627cc9b9",
   "metadata": {},
   "outputs": [
    {
     "data": {
      "text/plain": [
       "'N'"
      ]
     },
     "execution_count": 369,
     "metadata": {},
     "output_type": "execute_result"
    }
   ],
   "source": [
    "string[0] #  використання одного числа в квадратних дужках повертає один символ із рядках"
   ]
  },
  {
   "cell_type": "code",
   "execution_count": 370,
   "id": "6e8a6797",
   "metadata": {},
   "outputs": [
    {
     "data": {
      "text/plain": [
       "'m'"
      ]
     },
     "execution_count": 370,
     "metadata": {},
     "output_type": "execute_result"
    }
   ],
   "source": [
    "string[2]"
   ]
  },
  {
   "cell_type": "code",
   "execution_count": 171,
   "id": "07a059d2",
   "metadata": {},
   "outputs": [
    {
     "data": {
      "text/plain": [
       "'e'"
      ]
     },
     "execution_count": 171,
     "metadata": {},
     "output_type": "execute_result"
    }
   ],
   "source": [
    "string[-1] # Підтримуються як +/- індекси, буде повертати від кінця підстроку(індекси будуть с 0)"
   ]
  },
  {
   "cell_type": "code",
   "execution_count": 371,
   "id": "f0538626",
   "metadata": {},
   "outputs": [
    {
     "data": {
      "text/plain": [
       "'m'"
      ]
     },
     "execution_count": 371,
     "metadata": {},
     "output_type": "execute_result"
    }
   ],
   "source": [
    "string[-2]"
   ]
  },
  {
   "cell_type": "code",
   "execution_count": 372,
   "id": "3fe95633",
   "metadata": {},
   "outputs": [
    {
     "name": "stdout",
     "output_type": "stream",
     "text": [
      "yes\n"
     ]
    }
   ],
   "source": [
    "yes = 'yes'\n",
    "print(yes)"
   ]
  },
  {
   "cell_type": "code",
   "execution_count": 374,
   "id": "bdadbc91",
   "metadata": {},
   "outputs": [
    {
     "name": "stdout",
     "output_type": "stream",
     "text": [
      "yee\n"
     ]
    }
   ],
   "source": [
    "print(yes[0] + yes[1] + yes[-2])"
   ]
  },
  {
   "cell_type": "code",
   "execution_count": null,
   "id": "0a02d5b7",
   "metadata": {},
   "outputs": [],
   "source": [
    "# Slice [start: stop: step] - для використання slice потрібно вказати дужки   "
   ]
  },
  {
   "cell_type": "code",
   "execution_count": 376,
   "id": "e1cad68e",
   "metadata": {},
   "outputs": [
    {
     "name": "stdout",
     "output_type": "stream",
     "text": [
      "Name\n"
     ]
    }
   ],
   "source": [
    "print(string)"
   ]
  },
  {
   "cell_type": "code",
   "execution_count": 375,
   "id": "eeee5b14",
   "metadata": {
    "scrolled": true
   },
   "outputs": [
    {
     "name": "stdout",
     "output_type": "stream",
     "text": [
      "me\n"
     ]
    }
   ],
   "source": [
    "print(string[2:]) # Поверне все починаючи з 2 індекса "
   ]
  },
  {
   "cell_type": "code",
   "execution_count": 179,
   "id": "33ceb5bc",
   "metadata": {},
   "outputs": [
    {
     "name": "stdout",
     "output_type": "stream",
     "text": [
      "Na\n"
     ]
    }
   ],
   "source": [
    "print(string[0:2]) # Поверне від 0 до 2 символа не включно"
   ]
  },
  {
   "cell_type": "code",
   "execution_count": 378,
   "id": "964d10f4",
   "metadata": {},
   "outputs": [
    {
     "name": "stdout",
     "output_type": "stream",
     "text": [
      "Name\n"
     ]
    }
   ],
   "source": [
    "print(string[:])"
   ]
  },
  {
   "cell_type": "code",
   "execution_count": 380,
   "id": "0172b3dc",
   "metadata": {},
   "outputs": [
    {
     "name": "stdout",
     "output_type": "stream",
     "text": [
      "Name\n"
     ]
    }
   ],
   "source": [
    "print(string[::])"
   ]
  },
  {
   "cell_type": "code",
   "execution_count": 385,
   "id": "86aa8c8b",
   "metadata": {},
   "outputs": [
    {
     "name": "stdout",
     "output_type": "stream",
     "text": [
      "emaN\n",
      "Nm\n",
      "e\n",
      "emaN\n"
     ]
    }
   ],
   "source": [
    "print(string[::-1], string[0::2], string[len(string):2:-2], string[len(string)::-1] ,sep = '\\n')"
   ]
  },
  {
   "cell_type": "markdown",
   "id": "3f5fd5f5",
   "metadata": {},
   "source": [
    "#### Task 1. Знайти парні числа"
   ]
  },
  {
   "cell_type": "code",
   "execution_count": 193,
   "id": "a8c055e9",
   "metadata": {},
   "outputs": [],
   "source": [
    "numbers = '123456789'"
   ]
  },
  {
   "cell_type": "code",
   "execution_count": 386,
   "id": "87f73f73",
   "metadata": {},
   "outputs": [
    {
     "data": {
      "text/plain": [
       "'2468'"
      ]
     },
     "execution_count": 386,
     "metadata": {},
     "output_type": "execute_result"
    }
   ],
   "source": [
    "numbers[1::2]"
   ]
  },
  {
   "cell_type": "code",
   "execution_count": 392,
   "id": "9524e841",
   "metadata": {},
   "outputs": [
    {
     "name": "stdout",
     "output_type": "stream",
     "text": [
      "2468 8642\n"
     ]
    }
   ],
   "source": [
    "print(numbers[-2::-2][::-1], numbers[-2::-2])"
   ]
  },
  {
   "cell_type": "markdown",
   "id": "562bb813",
   "metadata": {},
   "source": [
    "#### Task 2. Отримати строку від користувача. Вивезти в консоль чи є строка паліндромом"
   ]
  },
  {
   "cell_type": "code",
   "execution_count": 393,
   "id": "44e6e173",
   "metadata": {},
   "outputs": [
    {
     "name": "stdout",
     "output_type": "stream",
     "text": [
      "Enter palb: AnnA\n",
      "True\n"
     ]
    }
   ],
   "source": [
    "text = input('Enter palb: ')\n",
    "print(text == text[::-1])"
   ]
  },
  {
   "cell_type": "code",
   "execution_count": null,
   "id": "c0209010",
   "metadata": {},
   "outputs": [],
   "source": []
  },
  {
   "cell_type": "markdown",
   "id": "4d63d014",
   "metadata": {},
   "source": [
    "## Practice chapter 3\n",
    "1. Create a variable with data type string. Count the length of this line.\n",
    "2. Create another variable with string data type. Output the result of concatenation of these two variables.\n",
    "3. Print the two previous variables, but with a space between them.\n",
    "4. Get a string from user input. Check if the string is a palindrome.\n",
    "5. Replace age in the following string with your age. `\"I'm 10 years old\" -> \"I'm 30 years old\"`. Do it with  a) indexing and b) replace function. "
   ]
  },
  {
   "cell_type": "markdown",
   "id": "b5c74c0f",
   "metadata": {},
   "source": [
    "### Format  - 3 main style\n",
    "1. Format\n",
    "2. f-strings"
   ]
  },
  {
   "cell_type": "code",
   "execution_count": 394,
   "id": "e5bd14b9",
   "metadata": {},
   "outputs": [],
   "source": [
    "name = 'Name'\n",
    "surname = 'Surname'\n",
    "age = '18'"
   ]
  },
  {
   "cell_type": "code",
   "execution_count": 395,
   "id": "71db5516",
   "metadata": {},
   "outputs": [
    {
     "name": "stdout",
     "output_type": "stream",
     "text": [
      "Name Surname\n",
      "Age 18\n"
     ]
    }
   ],
   "source": [
    "print(name + ' ' +  surname + '\\nAge ' + age)"
   ]
  },
  {
   "cell_type": "code",
   "execution_count": 398,
   "id": "e603fdb9",
   "metadata": {},
   "outputs": [
    {
     "name": "stdout",
     "output_type": "stream",
     "text": [
      "Hello Name Surname       \n",
      "Age: 18\n"
     ]
    }
   ],
   "source": [
    "print('Hello {0} {1} \\\n",
    "      \\nAge: {2}'  # В {вказуємо порядок/імя змінної} \n",
    "      .format(name, surname, age) # Функція форматування, передаємо змінні\n",
    "     )"
   ]
  },
  {
   "cell_type": "code",
   "execution_count": 399,
   "id": "f5ac774d",
   "metadata": {},
   "outputs": [
    {
     "name": "stdout",
     "output_type": "stream",
     "text": [
      "Hello Name Surname \n",
      "Age: 18\n"
     ]
    }
   ],
   "source": [
    "print('Hello {name} {surname} \\nAge: {age}'.format(name = name, surname = surname, age = age))"
   ]
  },
  {
   "cell_type": "code",
   "execution_count": 407,
   "id": "7c16a0fb",
   "metadata": {},
   "outputs": [
    {
     "name": "stdout",
     "output_type": "stream",
     "text": [
      "Hello name='Name' surname='Surname' \n",
      "Age: 18\n"
     ]
    }
   ],
   "source": [
    "print(f'Hello {name=} {surname=} \\nAge: {age}') # Або f-строки "
   ]
  },
  {
   "cell_type": "code",
   "execution_count": 408,
   "id": "083cc3bc",
   "metadata": {},
   "outputs": [
    {
     "name": "stdout",
     "output_type": "stream",
     "text": [
      "I'm 15 years old\n"
     ]
    }
   ],
   "source": [
    "current_age = 15\n",
    "birthday_str = \"I'm {0} years old\"\n",
    "print(birthday_str.format(current_age))"
   ]
  },
  {
   "cell_type": "code",
   "execution_count": 411,
   "id": "7c1a36cb",
   "metadata": {},
   "outputs": [
    {
     "name": "stdout",
     "output_type": "stream",
     "text": [
      "I'm Name years old \n",
      "My name: 15\n"
     ]
    }
   ],
   "source": [
    "current_age = 15\n",
    "name = 'Name'\n",
    "birthday_str = \"I'm {1} years old \\nMy name: {0}\"\n",
    "print(birthday_str.format(current_age, name))"
   ]
  },
  {
   "cell_type": "code",
   "execution_count": 413,
   "id": "b8ac2d37",
   "metadata": {},
   "outputs": [
    {
     "name": "stdout",
     "output_type": "stream",
     "text": [
      "I'm 15 years old \n",
      "My name: Name\n"
     ]
    }
   ],
   "source": [
    "current_age = 15\n",
    "name = 'Name'\n",
    "birthday_str = f\"I'm {current_age} years old \\nMy name: {name}\"\n",
    "print(birthday_str)"
   ]
  },
  {
   "cell_type": "markdown",
   "id": "affa0f37",
   "metadata": {},
   "source": [
    "#### Функція lower - upper: повертає у верхньому - нижньому рядку\n",
    "[All methods](https://www.w3schools.com/python/python_ref_string.asp)"
   ]
  },
  {
   "cell_type": "code",
   "execution_count": 414,
   "id": "7da3567e",
   "metadata": {},
   "outputs": [
    {
     "name": "stdout",
     "output_type": "stream",
     "text": [
      "name NAME\n"
     ]
    }
   ],
   "source": [
    "print(name.lower(), name.upper())"
   ]
  },
  {
   "cell_type": "code",
   "execution_count": null,
   "id": "a8c6b716",
   "metadata": {},
   "outputs": [],
   "source": []
  },
  {
   "cell_type": "markdown",
   "id": "bab69cbb",
   "metadata": {},
   "source": [
    "## Practice chapter 4\n",
    "\n",
    "1. The program receive user's name and age from input. Then you need to display the name and age in one line in several ways:\n",
    "\n",
    "     a) by listing all the parameters in the print function\n",
    "\n",
    "     b) by formatting a string using the format function\n",
    "\n",
    "     c) by formatting a string with f-string\n",
    "\n",
    "     String should looks like this: `\"Your name is {name} and your {age} years old\"`"
   ]
  },
  {
   "cell_type": "code",
   "execution_count": 415,
   "id": "118c5b2f",
   "metadata": {},
   "outputs": [
    {
     "name": "stdout",
     "output_type": "stream",
     "text": [
      "I'm 15 years old \n",
      "My name: Name\n"
     ]
    }
   ],
   "source": [
    "print(birthday_str)"
   ]
  },
  {
   "cell_type": "code",
   "execution_count": 424,
   "id": "6946229c",
   "metadata": {},
   "outputs": [
    {
     "name": "stdout",
     "output_type": "stream",
     "text": [
      "[\"I'm\", '15', 'years', 'old', '\\nMy', 'name:', 'Name']\n"
     ]
    }
   ],
   "source": [
    "print(\n",
    "    birthday_str.split(' ') # Split - по роздільнику  \n",
    "     )"
   ]
  },
  {
   "cell_type": "code",
   "execution_count": 436,
   "id": "1694bb76",
   "metadata": {},
   "outputs": [
    {
     "name": "stdout",
     "output_type": "stream",
     "text": [
      "I'm🇬🇧15🇬🇧years🇬🇧old🇬🇧\n",
      "My🇬🇧name:🇬🇧Name\n"
     ]
    }
   ],
   "source": [
    "print(\n",
    "    '🇬🇧'.join(birthday_str.split(' '))\n",
    ")"
   ]
  },
  {
   "cell_type": "code",
   "execution_count": 447,
   "id": "9af6ece0",
   "metadata": {},
   "outputs": [
    {
     "name": "stdout",
     "output_type": "stream",
     "text": [
      "Enter you flag: 🇬🇧\n"
     ]
    }
   ],
   "source": [
    "name = input('Enter you flag: ')"
   ]
  },
  {
   "cell_type": "code",
   "execution_count": 456,
   "id": "a928873b",
   "metadata": {},
   "outputs": [
    {
     "name": "stdout",
     "output_type": "stream",
     "text": [
      "True 🇬🇧\n"
     ]
    }
   ],
   "source": [
    "res = {\n",
    "    0: '🇬🇧',\n",
    "    '🦥':1,\n",
    "    '🦩':2,\n",
    "}\n",
    "print(res[0] == name, res[0])"
   ]
  },
  {
   "cell_type": "code",
   "execution_count": 494,
   "id": "6f05d879",
   "metadata": {},
   "outputs": [
    {
     "name": "stdout",
     "output_type": "stream",
     "text": [
      "STRING\n"
     ]
    }
   ],
   "source": [
    "strin = 'string'\n",
    "print(strin.upper())"
   ]
  },
  {
   "cell_type": "code",
   "execution_count": 474,
   "id": "b4317ece",
   "metadata": {},
   "outputs": [
    {
     "name": "stdout",
     "output_type": "stream",
     "text": [
      "4\n",
      "[127468, 127463, 127468, 127463]\n"
     ]
    }
   ],
   "source": [
    "# Добавити в домашку \n",
    "flag = '🇬🇧'\n",
    "\n",
    "print(len(flag))\n",
    "\n",
    "arr = [ord(i) for i in flag] if len(flag) > 1 else flag"
   ]
  },
  {
   "cell_type": "code",
   "execution_count": 460,
   "id": "c0ed4bfa",
   "metadata": {},
   "outputs": [
    {
     "data": {
      "text/plain": [
       "['__add__',\n",
       " '__class__',\n",
       " '__contains__',\n",
       " '__delattr__',\n",
       " '__dir__',\n",
       " '__doc__',\n",
       " '__eq__',\n",
       " '__format__',\n",
       " '__ge__',\n",
       " '__getattribute__',\n",
       " '__getitem__',\n",
       " '__getnewargs__',\n",
       " '__gt__',\n",
       " '__hash__',\n",
       " '__init__',\n",
       " '__init_subclass__',\n",
       " '__iter__',\n",
       " '__le__',\n",
       " '__len__',\n",
       " '__lt__',\n",
       " '__mod__',\n",
       " '__mul__',\n",
       " '__ne__',\n",
       " '__new__',\n",
       " '__reduce__',\n",
       " '__reduce_ex__',\n",
       " '__repr__',\n",
       " '__rmod__',\n",
       " '__rmul__',\n",
       " '__setattr__',\n",
       " '__sizeof__',\n",
       " '__str__',\n",
       " '__subclasshook__',\n",
       " 'capitalize',\n",
       " 'casefold',\n",
       " 'center',\n",
       " 'count',\n",
       " 'encode',\n",
       " 'endswith',\n",
       " 'expandtabs',\n",
       " 'find',\n",
       " 'format',\n",
       " 'format_map',\n",
       " 'index',\n",
       " 'isalnum',\n",
       " 'isalpha',\n",
       " 'isascii',\n",
       " 'isdecimal',\n",
       " 'isdigit',\n",
       " 'isidentifier',\n",
       " 'islower',\n",
       " 'isnumeric',\n",
       " 'isprintable',\n",
       " 'isspace',\n",
       " 'istitle',\n",
       " 'isupper',\n",
       " 'join',\n",
       " 'ljust',\n",
       " 'lower',\n",
       " 'lstrip',\n",
       " 'maketrans',\n",
       " 'partition',\n",
       " 'removeprefix',\n",
       " 'removesuffix',\n",
       " 'replace',\n",
       " 'rfind',\n",
       " 'rindex',\n",
       " 'rjust',\n",
       " 'rpartition',\n",
       " 'rsplit',\n",
       " 'rstrip',\n",
       " 'split',\n",
       " 'splitlines',\n",
       " 'startswith',\n",
       " 'strip',\n",
       " 'swapcase',\n",
       " 'title',\n",
       " 'translate',\n",
       " 'upper',\n",
       " 'zfill']"
      ]
     },
     "execution_count": 460,
     "metadata": {},
     "output_type": "execute_result"
    }
   ],
   "source": [
    "dir(str) # display all methids"
   ]
  },
  {
   "cell_type": "code",
   "execution_count": null,
   "id": "6d9b2cbe",
   "metadata": {},
   "outputs": [],
   "source": []
  },
  {
   "cell_type": "code",
   "execution_count": null,
   "id": "2a22cb97",
   "metadata": {},
   "outputs": [],
   "source": []
  },
  {
   "cell_type": "markdown",
   "id": "8f8548ca",
   "metadata": {},
   "source": [
    "## Practice chapter 5\n",
    "There are the following lines of code:\n",
    "```\n",
    "string_1 = \"Animals  \"\n",
    "string_2 = \"  Badger\"\n",
    "string_3 = \"honey bee\"\n",
    "string_4 = \"   HoneyPot   \"\n",
    "```\n",
    "Print each of these lines with the following conditions\n",
    "1. All letters must be written in lowercase.\n",
    "\n",
    "2. All letters must be capitalized.\n",
    "\n",
    "3. Remove all spaces:\n",
    "\n",
    "   a) from the beginning of the line\n",
    "\n",
    "   b) from the end of the line\n",
    "\n",
    "   c) on both sides of the line\n",
    "\n",
    "4. Check the value of the startwith ('be') function for each line:\n",
    "```\n",
    "string_1 = \"Bear\"\n",
    "string_2 = \"bear\"\n",
    "string_3 = \"BEAR\"\n",
    "string_4 = \"bEar\"\n",
    "```\n",
    "Convert all rows with methods so that when using startwith ('be') it returns True.\n",
    "\n",
    "5. Find and replace all letters 's' with the letter 'x' in the following line: \n",
    "```\n",
    "Somebody said something to Samantha.\n",
    "```\n",
    "6. Write a program that receives a phrase and letter from the user and returns \"Yes!\" if you find this letter in a line.\n",
    "7. Clean the following line with string methods:: \n",
    "```\n",
    "'12345!,_6--'\n",
    "```\n",
    "and output only the numbers.\n",
    "\n",
    "8. At the input we get two numbers - the numerator and denominator of the fraction. Display the number as a percentage in the console. If the user entered 5 and 10, then you need to display: '50% '.\n",
    "9. Find a secret message in the following text: `'X!xeXnxiXlX XtxeXrxcXeXsX Xax XsX`XtXIX'` "
   ]
  },
  {
   "cell_type": "code",
   "execution_count": null,
   "id": "43438a8f",
   "metadata": {},
   "outputs": [],
   "source": []
  }
 ],
 "metadata": {
  "kernelspec": {
   "display_name": "Python 3 (ipykernel)",
   "language": "python",
   "name": "python3"
  },
  "language_info": {
   "codemirror_mode": {
    "name": "ipython",
    "version": 3
   },
   "file_extension": ".py",
   "mimetype": "text/x-python",
   "name": "python",
   "nbconvert_exporter": "python",
   "pygments_lexer": "ipython3",
   "version": "3.10.8"
  }
 },
 "nbformat": 4,
 "nbformat_minor": 5
}
