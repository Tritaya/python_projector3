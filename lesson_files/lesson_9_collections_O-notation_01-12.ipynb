{
 "cells": [
  {
   "cell_type": "markdown",
   "id": "f097bfe9",
   "metadata": {},
   "source": [
    "### Lesson 9. Collections/O-notation/Style of Coding. Date: 01.12.22\n",
    "**Topics**:\n",
    ">    1. DefaultDict\n",
    ">    2. Tutple/namedtuple/Namedtuple\n",
    ">    3. Generators\n",
    ">    4. *Args, *\\*Kwargs\n",
    ">    5. Flake8/Git\n",
    ">    6. Algorithm\n",
    ">    7. Big O notation\n",
    "\n",
    "**Materials** :\n",
    "> 1. [Default dict](https://realpython.com/python-defaultdict/)\n",
    "> 2. [DefaultDict doc](https://docs.python.org/3/library/collections.html)\n",
    "> 3. [namedtuple](https://docs.python.org/3/library/collections.html#collections.namedtuple)\n",
    "> 4. [O - notation](https://medium.com/fintechexplained/time-complexities-of-python-data-structures-ddb7503790ef)\n",
    "> 5. [Git english](https://www.vogella.com/tutorials/Git/article.html)\n",
    "> 6. [Git quick start](https://github.com/andreiled/mipt-cs-4sem/wiki/Пошаговая-инструкция-по-работе-с-git-и-github-для-студентов)\n",
    "> 7. [Flake8](https://flake8.pycqa.org/en/latest/)\n",
    "\n"
   ]
  },
  {
   "cell_type": "code",
   "execution_count": 13,
   "id": "305a196a",
   "metadata": {},
   "outputs": [],
   "source": [
    "from collections import defaultdict"
   ]
  },
  {
   "cell_type": "code",
   "execution_count": 213,
   "id": "bcc8e510",
   "metadata": {},
   "outputs": [],
   "source": [
    "standart_dict = {\n",
    "    'Paris': 'France',\n",
    "    'Kyiv': 'Ukraine',\n",
    "    'Berlin': 'Germany',\n",
    "}"
   ]
  },
  {
   "cell_type": "code",
   "execution_count": 214,
   "id": "29c0bab8",
   "metadata": {},
   "outputs": [
    {
     "data": {
      "text/plain": [
       "'France'"
      ]
     },
     "execution_count": 214,
     "metadata": {},
     "output_type": "execute_result"
    }
   ],
   "source": [
    "standart_dict['Paris']"
   ]
  },
  {
   "cell_type": "code",
   "execution_count": 215,
   "id": "2364396e",
   "metadata": {
    "scrolled": true
   },
   "outputs": [
    {
     "ename": "KeyError",
     "evalue": "'Mexico'",
     "output_type": "error",
     "traceback": [
      "\u001b[0;31m---------------------------------------------------------------------------\u001b[0m",
      "\u001b[0;31mKeyError\u001b[0m                                  Traceback (most recent call last)",
      "Cell \u001b[0;32mIn [215], line 1\u001b[0m\n\u001b[0;32m----> 1\u001b[0m \u001b[43mstandart_dict\u001b[49m\u001b[43m[\u001b[49m\u001b[38;5;124;43m'\u001b[39;49m\u001b[38;5;124;43mMexico\u001b[39;49m\u001b[38;5;124;43m'\u001b[39;49m\u001b[43m]\u001b[49m\n",
      "\u001b[0;31mKeyError\u001b[0m: 'Mexico'"
     ]
    }
   ],
   "source": [
    "standart_dict['Mexico'] # Що поверне код?"
   ]
  },
  {
   "cell_type": "code",
   "execution_count": 217,
   "id": "9ad3c6ad",
   "metadata": {},
   "outputs": [
    {
     "name": "stdout",
     "output_type": "stream",
     "text": [
      "{'Paris': 'France', 'Kyiv': 'Ukraine', 'Berlin': 'Germany', 'Mexico': 1}\n"
     ]
    }
   ],
   "source": [
    "if 'Mexico' in standart_dict.keys():\n",
    "    standart_dict['Mexico'] += 1\n",
    "else:\n",
    "     standart_dict['Mexico'] = 0\n",
    "print(standart_dict)"
   ]
  },
  {
   "cell_type": "code",
   "execution_count": 77,
   "id": "6a2f361c",
   "metadata": {},
   "outputs": [],
   "source": [
    "r = defaultdict(int)"
   ]
  },
  {
   "cell_type": "code",
   "execution_count": 218,
   "id": "c3a1d2fe",
   "metadata": {},
   "outputs": [
    {
     "data": {
      "text/plain": [
       "0"
      ]
     },
     "execution_count": 218,
     "metadata": {},
     "output_type": "execute_result"
    }
   ],
   "source": [
    "int()"
   ]
  },
  {
   "cell_type": "code",
   "execution_count": 219,
   "id": "57d2de9a",
   "metadata": {},
   "outputs": [
    {
     "data": {
      "text/plain": [
       "0"
      ]
     },
     "execution_count": 219,
     "metadata": {},
     "output_type": "execute_result"
    }
   ],
   "source": [
    "r['Mexico']"
   ]
  },
  {
   "cell_type": "code",
   "execution_count": 220,
   "id": "b1460339",
   "metadata": {},
   "outputs": [],
   "source": [
    "r_with_list = defaultdict(list)  # Вказуємо тип по замовучанню                         "
   ]
  },
  {
   "cell_type": "code",
   "execution_count": 221,
   "id": "4c25445d",
   "metadata": {},
   "outputs": [
    {
     "data": {
      "text/plain": [
       "[]"
      ]
     },
     "execution_count": 221,
     "metadata": {},
     "output_type": "execute_result"
    }
   ],
   "source": [
    "r_with_list['Pattern']"
   ]
  },
  {
   "cell_type": "code",
   "execution_count": 93,
   "id": "6aec5af4",
   "metadata": {},
   "outputs": [],
   "source": [
    "r_with_list['Pattern1'] = [1,2,3]"
   ]
  },
  {
   "cell_type": "code",
   "execution_count": 222,
   "id": "36255709",
   "metadata": {},
   "outputs": [
    {
     "data": {
      "text/plain": [
       "defaultdict(list, {'Pattern': []})"
      ]
     },
     "execution_count": 222,
     "metadata": {},
     "output_type": "execute_result"
    }
   ],
   "source": [
    "r_with_list"
   ]
  },
  {
   "cell_type": "code",
   "execution_count": 108,
   "id": "16b17894",
   "metadata": {},
   "outputs": [],
   "source": [
    "def create_value():\n",
    "    return 'No value input'"
   ]
  },
  {
   "cell_type": "code",
   "execution_count": 110,
   "id": "572e4508",
   "metadata": {},
   "outputs": [],
   "source": [
    "r_with_def_func = defaultdict(create_value)"
   ]
  },
  {
   "cell_type": "code",
   "execution_count": 111,
   "id": "e5b400af",
   "metadata": {},
   "outputs": [
    {
     "data": {
      "text/plain": [
       "'No value input'"
      ]
     },
     "execution_count": 111,
     "metadata": {},
     "output_type": "execute_result"
    }
   ],
   "source": [
    "r_with_def_func[0]"
   ]
  },
  {
   "cell_type": "code",
   "execution_count": 223,
   "id": "75d82107",
   "metadata": {},
   "outputs": [
    {
     "data": {
      "text/plain": [
       "defaultdict(<function __main__.create_value()>, {0: 'No value input'})"
      ]
     },
     "execution_count": 223,
     "metadata": {},
     "output_type": "execute_result"
    }
   ],
   "source": [
    "r_with_def_func"
   ]
  },
  {
   "cell_type": "markdown",
   "id": "88a76452",
   "metadata": {},
   "source": [
    "### Compehension dict\n",
    "dictionary = {key: value for vars in iterable} - how to create \\\n",
    "**key** - first postion argument, will be a key for dict(only unique hash value) \\\n",
    "**:** - operator to create pair \\\n",
    "**value**  - value than we match with key \\"
   ]
  },
  {
   "cell_type": "code",
   "execution_count": 113,
   "id": "f9b9037f",
   "metadata": {},
   "outputs": [
    {
     "name": "stdout",
     "output_type": "stream",
     "text": [
      "{0: 0, 1: 1, 2: 4, 3: 9, 4: 16, 5: 25, 6: 36, 7: 49, 8: 64, 9: 81, 10: 100, 11: 121, 12: 144, 13: 169, 14: 196}\n"
     ]
    }
   ],
   "source": [
    "dict_ = dict()\n",
    "for i in range(15):\n",
    "    dict_[i] = i ** 2\n",
    "print(dict_)"
   ]
  },
  {
   "cell_type": "code",
   "execution_count": 120,
   "id": "c53dd21d",
   "metadata": {},
   "outputs": [
    {
     "name": "stdout",
     "output_type": "stream",
     "text": [
      "{0: 0, 2: 4, 4: 16, 6: 36, 8: 64, 10: 100, 12: 144, 14: 196}\n"
     ]
    }
   ],
   "source": [
    "dict_ = {i: i ** 2 for i in range(15) if i % 2 == 0} # Create compehension with comparion\n",
    "print(dict_)"
   ]
  },
  {
   "cell_type": "code",
   "execution_count": 121,
   "id": "96acbf36",
   "metadata": {},
   "outputs": [
    {
     "name": "stdout",
     "output_type": "stream",
     "text": [
      "{0: 0, 1: 1, 2: 4, 3: 27, 4: 16, 5: 125, 6: 36, 7: 343, 8: 64, 9: 729, 10: 100, 11: 1331, 12: 144, 13: 2197, 14: 196}\n"
     ]
    }
   ],
   "source": [
    "dict_ = {i: (i ** 2 if i % 2 == 0 else i ** 3) for i in range(15)} # With two var of keys\n",
    "print(dict_)"
   ]
  },
  {
   "cell_type": "code",
   "execution_count": null,
   "id": "df9e000c",
   "metadata": {},
   "outputs": [],
   "source": []
  },
  {
   "cell_type": "markdown",
   "id": "b658e816",
   "metadata": {},
   "source": [
    "### Zip - function \n",
    "zip - key_word  \\\n",
    "zip = iter1, iter2, iter3 ... iterN"
   ]
  },
  {
   "cell_type": "code",
   "execution_count": 224,
   "id": "1d9d0d28",
   "metadata": {},
   "outputs": [],
   "source": [
    "a = [1,2,3,4,5]\n",
    "b = [100, 200, 300, 400, 500, 600]\n",
    "\n",
    "res = list(zip(a, b))"
   ]
  },
  {
   "cell_type": "code",
   "execution_count": null,
   "id": "365d10af",
   "metadata": {},
   "outputs": [],
   "source": []
  },
  {
   "cell_type": "code",
   "execution_count": 225,
   "id": "73adccaf",
   "metadata": {},
   "outputs": [
    {
     "name": "stdout",
     "output_type": "stream",
     "text": [
      "(1, 100) <class 'tuple'>\n",
      "(2, 200) <class 'tuple'>\n",
      "(3, 300) <class 'tuple'>\n",
      "(4, 400) <class 'tuple'>\n",
      "(5, 500) <class 'tuple'>\n"
     ]
    }
   ],
   "source": [
    "for i in zip(a,b):\n",
    "    print(i, type(i))"
   ]
  },
  {
   "cell_type": "code",
   "execution_count": 131,
   "id": "92e4f706",
   "metadata": {},
   "outputs": [
    {
     "name": "stdout",
     "output_type": "stream",
     "text": [
      "{1: 100, 2: 200, 3: 300, 4: 400, 5: 500}\n"
     ]
    }
   ],
   "source": [
    "dict_key = dict()\n",
    "for i in zip(a, b):\n",
    "    dict_key[i[0]] = i[1]\n",
    "print(dict_key)"
   ]
  },
  {
   "cell_type": "code",
   "execution_count": 133,
   "id": "946bb3c4",
   "metadata": {},
   "outputs": [
    {
     "name": "stdout",
     "output_type": "stream",
     "text": [
      "{1: 100, 2: 200, 3: 300, 4: 400, 5: 500}\n"
     ]
    }
   ],
   "source": [
    "dict_key = dict()\n",
    "for key, value in zip(a,b):\n",
    "    dict_key[key] = value\n",
    "print(dict_key)"
   ]
  },
  {
   "cell_type": "code",
   "execution_count": null,
   "id": "e8c03ec5",
   "metadata": {},
   "outputs": [],
   "source": []
  },
  {
   "cell_type": "markdown",
   "id": "27e10e1c",
   "metadata": {},
   "source": [
    "#### Unpacking operator\n",
    "**Args(*)** - unpacking operator \\\n",
    "**Kwargs(**)** - unpacking operator for dictionary"
   ]
  },
  {
   "cell_type": "code",
   "execution_count": 227,
   "id": "5525a977",
   "metadata": {},
   "outputs": [
    {
     "name": "stdout",
     "output_type": "stream",
     "text": [
      "True True 15\n"
     ]
    }
   ],
   "source": [
    "a, b, c = [True, 'True', 15] # Try add more value\n",
    "print(a,b,c)"
   ]
  },
  {
   "cell_type": "code",
   "execution_count": 228,
   "id": "d1bef1b6",
   "metadata": {},
   "outputs": [
    {
     "name": "stdout",
     "output_type": "stream",
     "text": [
      "True ['True', 15, 16] 17\n"
     ]
    }
   ],
   "source": [
    "a, *b, c = [True, 'True', 15, 16,17]\n",
    "print(a, b, c)"
   ]
  },
  {
   "cell_type": "code",
   "execution_count": 147,
   "id": "fafc8a36",
   "metadata": {},
   "outputs": [
    {
     "name": "stdout",
     "output_type": "stream",
     "text": [
      "True ['True', 15, 16] 17\n"
     ]
    }
   ],
   "source": [
    "a, *b, c = [True, 'True', 15, 16,17]\n",
    "print(a, b, c)"
   ]
  },
  {
   "cell_type": "code",
   "execution_count": 151,
   "id": "2174ff00",
   "metadata": {},
   "outputs": [
    {
     "name": "stdout",
     "output_type": "stream",
     "text": [
      "[True, 'True', 15] 16 17\n"
     ]
    }
   ],
   "source": [
    "*a, b, c = [True, 'True', 15, 16,17]\n",
    "print(a, b, c)"
   ]
  },
  {
   "cell_type": "code",
   "execution_count": 232,
   "id": "72c3e1ad",
   "metadata": {},
   "outputs": [
    {
     "name": "stdout",
     "output_type": "stream",
     "text": [
      "True True [15, 16, 17]\n"
     ]
    }
   ],
   "source": [
    "a, b, *c = (True, 'True', 15, 16,17)\n",
    "print(a, b, c)"
   ]
  },
  {
   "cell_type": "code",
   "execution_count": 246,
   "id": "e6f842e0",
   "metadata": {},
   "outputs": [
    {
     "name": "stdout",
     "output_type": "stream",
     "text": [
      "2 3 4 1\n"
     ]
    }
   ],
   "source": [
    "b, *args, a  = 1,2,3, 4\n",
    "print(*args, a, b)"
   ]
  },
  {
   "cell_type": "code",
   "execution_count": 243,
   "id": "81b1043f",
   "metadata": {},
   "outputs": [],
   "source": [
    "def add_number(*args):\n",
    "    print(type(args), args)\n",
    "    sum_ = 0\n",
    "    for i in args:\n",
    "        sum_ += 1\n",
    "    return sum_"
   ]
  },
  {
   "cell_type": "code",
   "execution_count": null,
   "id": "d8d1be87",
   "metadata": {},
   "outputs": [],
   "source": [
    "tupple = 1,2"
   ]
  },
  {
   "cell_type": "code",
   "execution_count": 244,
   "id": "bb7359e7",
   "metadata": {
    "scrolled": false
   },
   "outputs": [
    {
     "name": "stdout",
     "output_type": "stream",
     "text": [
      "<class 'tuple'> ([1, 2, 3],)\n",
      "<class 'tuple'> (1, 2, 3, 4)\n",
      "1 4\n"
     ]
    }
   ],
   "source": [
    "print(add_number([1,2,3]), add_number(1,2,3,4))"
   ]
  },
  {
   "cell_type": "code",
   "execution_count": null,
   "id": "9401b8fb",
   "metadata": {},
   "outputs": [],
   "source": []
  },
  {
   "cell_type": "code",
   "execution_count": 186,
   "id": "9a3161e9",
   "metadata": {},
   "outputs": [],
   "source": [
    "def create_dict(**kwargs):\n",
    "    print(kwargs, type(kwargs))\n",
    "    "
   ]
  },
  {
   "cell_type": "code",
   "execution_count": 189,
   "id": "35824535",
   "metadata": {},
   "outputs": [
    {
     "name": "stdout",
     "output_type": "stream",
     "text": [
      "{'a': 4, 'b': 5, 'c': 6} <class 'dict'>\n"
     ]
    }
   ],
   "source": [
    "create_dict(a = 4, b = 5, c = 6)"
   ]
  },
  {
   "cell_type": "code",
   "execution_count": 187,
   "id": "62e77f1b",
   "metadata": {},
   "outputs": [],
   "source": [
    "# *kwargs\n",
    "def function_with_kwargs(argument1, *args, **kwargs):\n",
    "    print(f'argument1: {argument1}')\n",
    "    print(f'args: {args}')\n",
    "    print(f'kwargs: {kwargs}')"
   ]
  },
  {
   "cell_type": "code",
   "execution_count": 188,
   "id": "8ca1655b",
   "metadata": {},
   "outputs": [
    {
     "name": "stdout",
     "output_type": "stream",
     "text": [
      "argument1: 1\n",
      "args: (2, 3)\n",
      "kwargs: {'argument4': 4, 'argument5': 5}\n"
     ]
    }
   ],
   "source": [
    "function_with_kwargs(1, 2, 3, argument4=4, argument5=5)"
   ]
  },
  {
   "cell_type": "code",
   "execution_count": null,
   "id": "4313585d",
   "metadata": {},
   "outputs": [],
   "source": []
  },
  {
   "cell_type": "code",
   "execution_count": null,
   "id": "60777e63",
   "metadata": {},
   "outputs": [],
   "source": [
    "# Enumerate - return tuple with elements(index, value)"
   ]
  },
  {
   "cell_type": "code",
   "execution_count": 204,
   "id": "8c85ecf4",
   "metadata": {},
   "outputs": [
    {
     "name": "stdout",
     "output_type": "stream",
     "text": [
      "(0, 1)\n",
      "(1, 2)\n",
      "(2, 3)\n",
      "(3, 4)\n",
      "(4, 5)\n",
      "(5, 6)\n"
     ]
    }
   ],
   "source": [
    "a = [1,2,3,4,5,6]\n",
    "for i in enumerate(a):\n",
    "    print(i)"
   ]
  },
  {
   "cell_type": "code",
   "execution_count": 248,
   "id": "91252569",
   "metadata": {},
   "outputs": [
    {
     "name": "stdout",
     "output_type": "stream",
     "text": [
      "Index: 0 Value: 1\n",
      "Index: 1 Value: 4\n",
      "Index: 2 Value: 9\n",
      "Index: 3 Value: 16\n",
      "Index: 4 Value: 25\n",
      "Index: 5 Value: 36\n",
      "Index: 6 Value: 49\n"
     ]
    }
   ],
   "source": [
    "a = [i ** 2 for i in range(1,8)]\n",
    "for i in range(0, len(a)):\n",
    "    print(f'Index: {i} Value: {a[i]}')"
   ]
  },
  {
   "cell_type": "code",
   "execution_count": 247,
   "id": "10674134",
   "metadata": {},
   "outputs": [
    {
     "name": "stdout",
     "output_type": "stream",
     "text": [
      "Counter : 1 Value: 1\n",
      "Counter : 2 Value: 4\n",
      "Counter : 3 Value: 9\n",
      "Counter : 4 Value: 16\n",
      "Counter : 5 Value: 25\n",
      "Counter : 6 Value: 36\n",
      "Counter : 7 Value: 49\n"
     ]
    }
   ],
   "source": [
    "a = [i ** 2 for i in range(1,8)]\n",
    "for counter, value in enumerate(a, start = 1):\n",
    "    print(f'Counter : {counter} Value: {value}')"
   ]
  },
  {
   "cell_type": "code",
   "execution_count": null,
   "id": "50df185d",
   "metadata": {},
   "outputs": [],
   "source": []
  },
  {
   "cell_type": "code",
   "execution_count": 18,
   "id": "03a8e182",
   "metadata": {},
   "outputs": [],
   "source": [
    "from collections import namedtuple # імпорт покращеного tutple"
   ]
  },
  {
   "cell_type": "code",
   "execution_count": 19,
   "id": "a0d11988",
   "metadata": {},
   "outputs": [],
   "source": [
    "standart_tutple = 1,2,3,4, '5'"
   ]
  },
  {
   "cell_type": "code",
   "execution_count": 24,
   "id": "cac36b11",
   "metadata": {},
   "outputs": [
    {
     "name": "stdout",
     "output_type": "stream",
     "text": [
      "1 5\n",
      "(1, 2, 3, 4, '5') <class 'tuple'> 64\n"
     ]
    }
   ],
   "source": [
    "print(standart_tutple[0], standart_tutple[-1])\n",
    "print(standart_tutple ,type(standart_tutple), standart_tutple.__sizeof__())"
   ]
  },
  {
   "cell_type": "code",
   "execution_count": null,
   "id": "f8616dba",
   "metadata": {},
   "outputs": [],
   "source": []
  },
  {
   "cell_type": "code",
   "execution_count": null,
   "id": "4ffb27f8",
   "metadata": {},
   "outputs": [],
   "source": []
  },
  {
   "cell_type": "code",
   "execution_count": 253,
   "id": "accab376",
   "metadata": {},
   "outputs": [
    {
     "data": {
      "text/plain": [
       "__main__.Car1"
      ]
     },
     "execution_count": 253,
     "metadata": {},
     "output_type": "execute_result"
    }
   ],
   "source": [
    "Car = namedtuple('Car1', ['mark', 'color', 'size_of_engines', 'type_of_fuel', 'year'])\n",
    "Car"
   ]
  },
  {
   "cell_type": "code",
   "execution_count": 257,
   "id": "9b20e719",
   "metadata": {},
   "outputs": [],
   "source": [
    "jaguar = Car(mark = 'Jaguar Range Rover', color = 'black', size_of_engines = 2.5, type_of_fuel  = 'petrol', year = 2008)"
   ]
  },
  {
   "cell_type": "code",
   "execution_count": 258,
   "id": "a410913b",
   "metadata": {},
   "outputs": [
    {
     "data": {
      "text/plain": [
       "'Jaguar Range Rover'"
      ]
     },
     "execution_count": 258,
     "metadata": {},
     "output_type": "execute_result"
    }
   ],
   "source": [
    "jaguar.mark # Отримуємо доступ до елементів по імені "
   ]
  },
  {
   "cell_type": "code",
   "execution_count": null,
   "id": "fb420abb",
   "metadata": {},
   "outputs": [],
   "source": []
  },
  {
   "cell_type": "code",
   "execution_count": 249,
   "id": "f72c9748",
   "metadata": {},
   "outputs": [
    {
     "data": {
      "text/plain": [
       "'Jaguar Range Rover'"
      ]
     },
     "execution_count": 249,
     "metadata": {},
     "output_type": "execute_result"
    }
   ],
   "source": [
    "jaguar[0]"
   ]
  },
  {
   "cell_type": "code",
   "execution_count": 73,
   "id": "602276a1",
   "metadata": {},
   "outputs": [],
   "source": [
    "Person = namedtuple(\"Person\", \"name children\")\n",
    "john = Person(\"John Doe\", [\"Timmy\", \"Jimmy\"])\n"
   ]
  },
  {
   "cell_type": "code",
   "execution_count": 75,
   "id": "3be5c824",
   "metadata": {},
   "outputs": [],
   "source": [
    "john.children.append('New name')"
   ]
  },
  {
   "cell_type": "code",
   "execution_count": 259,
   "id": "d680273a",
   "metadata": {},
   "outputs": [
    {
     "data": {
      "text/plain": [
       "['Timmy', 'Jimmy', 'New name']"
      ]
     },
     "execution_count": 259,
     "metadata": {},
     "output_type": "execute_result"
    }
   ],
   "source": [
    "john.children"
   ]
  },
  {
   "cell_type": "code",
   "execution_count": 260,
   "id": "3c92cb8a",
   "metadata": {},
   "outputs": [
    {
     "data": {
      "text/plain": [
       "Person(name='John Doe', children=['Timmy', 'Jimmy', 'New name', 'Tina'])"
      ]
     },
     "execution_count": 260,
     "metadata": {},
     "output_type": "execute_result"
    }
   ],
   "source": [
    "john.children.append(\"Tina\")\n",
    "john"
   ]
  },
  {
   "cell_type": "code",
   "execution_count": null,
   "id": "e9c1a8a3",
   "metadata": {},
   "outputs": [],
   "source": [
    "jaguar[0] # Що поверне код?"
   ]
  },
  {
   "cell_type": "code",
   "execution_count": 261,
   "id": "e493d4bc",
   "metadata": {},
   "outputs": [],
   "source": [
    "from typing import NamedTuple # імпорт tuple, в якому можна вказувати анотацію типів"
   ]
  },
  {
   "cell_type": "code",
   "execution_count": 56,
   "id": "b7d00f31",
   "metadata": {},
   "outputs": [],
   "source": [
    "class Car_Named(NamedTuple): # Створення структури namedtuple\n",
    "    mark : str\n",
    "    color : str\n",
    "    size_of_engines: float\n",
    "    type_of_fuel: str\n",
    "    year: int"
   ]
  },
  {
   "cell_type": "code",
   "execution_count": 54,
   "id": "72357f79",
   "metadata": {},
   "outputs": [],
   "source": [
    "porsche = Car_Named(mark = 'Porsche', color = 'red', \n",
    "                    size_of_engines = 3.5,  type_of_fuel = 'patrol', \n",
    "                   year = 2015)"
   ]
  },
  {
   "cell_type": "code",
   "execution_count": 267,
   "id": "1cc54473",
   "metadata": {},
   "outputs": [
    {
     "data": {
      "text/plain": [
       "2015"
      ]
     },
     "execution_count": 267,
     "metadata": {},
     "output_type": "execute_result"
    }
   ],
   "source": [
    "porsche[-1]"
   ]
  },
  {
   "cell_type": "code",
   "execution_count": 262,
   "id": "410c3b4e",
   "metadata": {},
   "outputs": [
    {
     "data": {
      "text/plain": [
       "'red'"
      ]
     },
     "execution_count": 262,
     "metadata": {},
     "output_type": "execute_result"
    }
   ],
   "source": [
    "porsche.color"
   ]
  },
  {
   "cell_type": "code",
   "execution_count": 264,
   "id": "21793183",
   "metadata": {},
   "outputs": [
    {
     "data": {
      "text/plain": [
       "3.5"
      ]
     },
     "execution_count": 264,
     "metadata": {},
     "output_type": "execute_result"
    }
   ],
   "source": [
    "porsche.size_of_engines"
   ]
  },
  {
   "cell_type": "code",
   "execution_count": 50,
   "id": "cbd03c48",
   "metadata": {},
   "outputs": [],
   "source": [
    "porsche[0] # Що повернє код?"
   ]
  },
  {
   "cell_type": "code",
   "execution_count": null,
   "id": "f5856180",
   "metadata": {},
   "outputs": [],
   "source": []
  },
  {
   "cell_type": "markdown",
   "id": "25fc7a90",
   "metadata": {},
   "source": [
    "Task 1. Вводятся целые числа. Необходимо четные добавлять в начало списка, а нечетные - в конец."
   ]
  },
  {
   "cell_type": "code",
   "execution_count": null,
   "id": "a12e3e45",
   "metadata": {},
   "outputs": [],
   "source": []
  },
  {
   "cell_type": "markdown",
   "id": "8d7ca4b1",
   "metadata": {},
   "source": [
    "Task 2. Вводится строка. Необходимо определить в ней проценты прописных(больших) и строчных (малых) букв."
   ]
  },
  {
   "cell_type": "code",
   "execution_count": null,
   "id": "e44bfb7a",
   "metadata": {},
   "outputs": [],
   "source": []
  },
  {
   "cell_type": "markdown",
   "id": "425bee76",
   "metadata": {},
   "source": [
    "Task 3. Given a sorted array of distinct integers and a target value, return the index if the target is found. If not, return the index where it would be if it were inserted in order.\n",
    "\n",
    "\n",
    "Example 1:\n",
    "\n",
    "Input: nums = [1,3,5,6], target = 5\n",
    "Output: 2\n",
    "Example 2:\n",
    "\n",
    "Input: nums = [1,3,5,6], target = 2\n",
    "Output: 1\n",
    "Example 3:\n",
    "\n",
    "Input: nums = [1,3,5,6], target = 7\n",
    "Output: 4\n",
    " "
   ]
  },
  {
   "cell_type": "code",
   "execution_count": null,
   "id": "4ab357c1",
   "metadata": {},
   "outputs": [],
   "source": []
  },
  {
   "cell_type": "markdown",
   "id": "b6c4b385",
   "metadata": {},
   "source": [
    "** Add example\n",
    "Task 4. Write an efficient function that checks whether any permutation of an input string is a palindrome. Note that the function is not a palindrome check.\n",
    "\n",
    "Examples:\n",
    "\n",
    "\"civic\" should return True \\\n",
    "\"ivicc\" should return True  (because “civic” is a permutation of “ivicc”) \\\n",
    "\"civil\" should return False \\\n",
    "\"livci\" should return False\n"
   ]
  },
  {
   "cell_type": "code",
   "execution_count": null,
   "id": "8efe27c4",
   "metadata": {},
   "outputs": [],
   "source": []
  },
  {
   "cell_type": "markdown",
   "id": "c5cc3252",
   "metadata": {},
   "source": [
    "### How to pick right data structure. "
   ]
  },
  {
   "cell_type": "markdown",
   "id": "6b6753f0",
   "metadata": {},
   "source": [
    "To pick right data structure, we need to understand what data we will store there and operations that we will perform on it. To optimize the program, we should understand time that will take some operations for each data structure."
   ]
  },
  {
   "cell_type": "markdown",
   "id": "8afed470",
   "metadata": {},
   "source": [
    "**Complexity** - time complexity is a function describing the amount of time an algorithm takes in terms of the amount of input to the algorithm. \"Time\" can mean the number of memory accesses performed, the number of comparisons between integers, the number of times some inner loop is executed, or some other natural unit related to the amount of real time the algorithm will take."
   ]
  },
  {
   "cell_type": "code",
   "execution_count": null,
   "id": "df63e583",
   "metadata": {},
   "outputs": [],
   "source": []
  },
  {
   "cell_type": "markdown",
   "id": "26d8033d",
   "metadata": {},
   "source": [
    "## How list works"
   ]
  },
  {
   "cell_type": "markdown",
   "id": "e66eba74",
   "metadata": {},
   "source": [
    "What happens when you create a list\n",
    "\n",
    "```python\n",
    "my_list = []\n",
    "```\n",
    "\n",
    "Python allocates constant amount of space event for empty list, amount of the allocated space is might be bigger than size of the list. Also, python saves save the size of the element to have quick access to this value.\n",
    "\n",
    "In complexity terms we call it constant time - **O(1)**. It means that time of execution doesn`t depend on the size of the list or any other parameter.\n",
    "\n"
   ]
  },
  {
   "cell_type": "code",
   "execution_count": null,
   "id": "b13160d8",
   "metadata": {},
   "outputs": [],
   "source": []
  },
  {
   "cell_type": "markdown",
   "id": "0a8e6a75",
   "metadata": {},
   "source": [
    "### Indexing\n",
    "\n",
    "To find an element python need constant time because we know where is the first cell, size of the cell and index of the element. Due to all this things, we can multiply cell_size on index and we will find element that we need. Complexity is **O(1)**. \\\n",
    "**Question** - how can we know an offset if list contains different data types?"
   ]
  },
  {
   "cell_type": "markdown",
   "id": "bed0fe8d",
   "metadata": {},
   "source": [
    "### Append\n",
    "\n",
    "1. Easy case - find empty space in the memory that was allocated for the list and add the element for the first empty cell. After that, you should increase the size of the list.\n",
    "2. Hard case - you don`t have empty space in the memory, you need to allocate more memory for the list.\n",
    "    1. You should allocate more memory for the list. Python use next pattern: 0, 4, 8, 16, 25, 35, 46, 58, 72, 88, … After Python adds empty cells, it copies all the elements from the old list to the new list. At the end it should change pointer to the new list. After that steps we jump to the first case. \n",
    "\n",
    "In this case we understand that python need more time to execute this operation, but it also performs in a constant time - **O(1)** because it doesn`t depend on the size of the list. "
   ]
  },
  {
   "cell_type": "code",
   "execution_count": null,
   "id": "ca39ab57",
   "metadata": {},
   "outputs": [],
   "source": []
  },
  {
   "cell_type": "markdown",
   "id": "93a648ec",
   "metadata": {},
   "source": [
    "### Insert\n",
    "\n",
    "1. Let`s take a look at the code:\n",
    "\n",
    "```python\n",
    "my_list = [1, 2, 3]\n",
    "my_list.insert(3, 4)\n",
    "``` \n",
    "\n",
    "To execute this operation Python should add 4 at the end of list if list has empty cells. If not, we should allocate additional memory for the list like we did it in the previous case. \n",
    "Complexity - **O(1)**. \n",
    "\n",
    "2. Also, you might to insert element at the beginning of the list: \n",
    "\n",
    "```python\n",
    "my_list = [1, 2, 3]\n",
    "my_list.insert(0, 4)\n",
    "``` \n",
    "\n",
    "To do that Python needs shift all elements in the list to the right. After that we can insert element at the beginning of the list. Complexity - **O(n)**. Here complexity depends from amount of elements in the list.\n",
    " "
   ]
  },
  {
   "cell_type": "markdown",
   "id": "0cd49c5e",
   "metadata": {},
   "source": [
    "### Pop\n",
    "\n",
    "Here we also have two cases:\n",
    "\n",
    "1. Pop element at the end of the list.\n",
    "\n",
    "Python should remove element from cell and shrink the list if necessary. Complexity - **O(1)**.\n",
    "\n",
    "2. Pop element at the beginning of the list (in the middle).\n",
    "\n",
    "Here situation is a bit harder. Python should remove element from cell and shift all elements to the left. Complexity - **O(n)**."
   ]
  },
  {
   "cell_type": "code",
   "execution_count": null,
   "id": "bb1f2586",
   "metadata": {},
   "outputs": [],
   "source": []
  },
  {
   "cell_type": "markdown",
   "id": "b6a2113a",
   "metadata": {},
   "source": [
    "## Tuple\n",
    "\n",
    "Tuple is a bit easier to understand. It is a list that can`t be changed. So here is the same complexity for same operation with list. "
   ]
  },
  {
   "cell_type": "code",
   "execution_count": null,
   "id": "c547c525",
   "metadata": {},
   "outputs": [],
   "source": []
  },
  {
   "cell_type": "code",
   "execution_count": null,
   "id": "cc7011cc",
   "metadata": {},
   "outputs": [],
   "source": []
  },
  {
   "cell_type": "code",
   "execution_count": null,
   "id": "7efda1b7",
   "metadata": {},
   "outputs": [],
   "source": []
  },
  {
   "cell_type": "markdown",
   "id": "65e65780",
   "metadata": {},
   "source": [
    "## Dictionary\n",
    "\n",
    "### Hash function\n",
    "\n",
    "What is a Hash Function? \n",
    "\n",
    "A function that converts a given big phone number to a small practical integer value. The mapped integer value is used as an index in the hash table. In simple terms, a hash function maps a big number or string to a small integer that can be used as the index in the hash table. \n",
    "\n",
    "**Example in security (md5, sha/2)**\n",
    "\n",
    "What is meant by Good Hash Function? \n",
    "\n",
    "A good hash function should have the following properties: \n",
    "\n",
    "    1. Efficiently computable.\n",
    "    \n",
    "    2. Should uniformly distribute the keys (Each table position equally likely for each key)\n",
    "\n",
    "    3. Should return the same output for the same input.\n",
    "\n",
    "For example: For phone numbers, a bad hash function is to take the first three digits. A better function is considered the last three digits. Please note that this may not be the best hash function. There may be better ways. \n"
   ]
  },
  {
   "cell_type": "code",
   "execution_count": 10,
   "id": "17d75d6b",
   "metadata": {},
   "outputs": [],
   "source": [
    "a = 3.14"
   ]
  },
  {
   "cell_type": "code",
   "execution_count": 12,
   "id": "361b3d4b",
   "metadata": {
    "scrolled": true
   },
   "outputs": [
    {
     "data": {
      "text/plain": [
       "True"
      ]
     },
     "execution_count": 12,
     "metadata": {},
     "output_type": "execute_result"
    }
   ],
   "source": [
    "hash(3.14) == hash(a)"
   ]
  },
  {
   "cell_type": "code",
   "execution_count": 8,
   "id": "84f12c55",
   "metadata": {},
   "outputs": [
    {
     "data": {
      "text/plain": [
       "322818021289917443"
      ]
     },
     "execution_count": 8,
     "metadata": {},
     "output_type": "execute_result"
    }
   ],
   "source": []
  },
  {
   "cell_type": "markdown",
   "id": "0f4bc876",
   "metadata": {},
   "source": [
    "### Fibonacci \n",
    "\n",
    "```python\n",
    "def fibonacci(n: int) -> int:\n",
    "    if n <= 1:\n",
    "        return 1\n",
    "    \n",
    "    return fibonacci(n - 2) + fibonacci(n - 1);\n",
    "```\n",
    "\n",
    "![fib](https://i.stack.imgur.com/6hD41.png)\n",
    "\n",
    "Complexity - O(2 ^ n)"
   ]
  },
  {
   "cell_type": "code",
   "execution_count": 193,
   "id": "dcc1b80f",
   "metadata": {},
   "outputs": [],
   "source": [
    "# Quick sort\n",
    "\n",
    "def quick_sort(list_):\n",
    "    if len(list_) < 2:\n",
    "        return list_\n",
    "    else:\n",
    "        pivot = list_[0]\n",
    "        less = [i for i in list_[1:] if i <= pivot]\n",
    "        greater = [i for i in list_[1:] if i > pivot]\n",
    "        return quick_sort(less) + [pivot] + quick_sort(greater)\n",
    "\n",
    "#    [4, 5, 6, 2, 1, 3, 7]\n",
    "#        /     |     \\\n",
    "# [2, 1, 3] + [4] + [5, 6, 7]\n",
    "# /   |   \\    |     /   |   \\\n",
    "# [1] [2] [3]  |   []  [5]  [6, 7]\n",
    "# [1] [2] [3]  |          /   |  \\\n",
    "#              |      []  +  [6] + [7]\n",
    "# [1, 2, 3]    |   [5, 6, 7]\n",
    "#    [1, 2, 3, 4, 5, 6, 7]\n",
    "\n",
    "# Here is the complexity:\n",
    "\n",
    "# 1. Find list of smaller elements -> O(n)\n",
    "# 2. Find list of greater elements -> O(n)\n",
    "\n"
   ]
  },
  {
   "cell_type": "markdown",
   "id": "11887f60",
   "metadata": {},
   "source": [
    "### Practice\n",
    "\n",
    "**You have 100 cats.**\n",
    "\n",
    "One day you decide to arrange all your cats in a giant circle. Initially, none of your cats have any hats on. You walk around the circle 100 times, always starting at the same spot, with the first cat (cat # 1). Every time you stop at a cat, you either put a hat on it if it doesn’t have one on, or you take its hat off if it has one on.\n",
    "1. The first round, you stop at every cat, placing a hat on each one.\n",
    "2. The second round, you only stop at every second cat (#2, #4, #6, #8, etc.).\n",
    "3. The third round, you only stop at every third cat(#3, #6, #9, #12, etc.).\n",
    "4. You continue this process until you’ve made 100 rounds around the cats (e.g., you only visit the 100th cat).\n",
    "Write a program that simply outputs which cats have hats at the end.\n",
    "\n",
    "Optional: Make function that can calculate hat with any amount of rounds and cats.\n",
    "\n",
    "Here you should write an algorithm, after that, try to make pseudo code. Only after that start to work. Code is simple here, but you might struggle with algorithm. Therefore don`t try to write a code from the first attempt. \n"
   ]
  },
  {
   "cell_type": "code",
   "execution_count": null,
   "id": "5aa501d6",
   "metadata": {},
   "outputs": [],
   "source": []
  },
  {
   "cell_type": "code",
   "execution_count": null,
   "id": "15a2c9b3",
   "metadata": {},
   "outputs": [],
   "source": []
  },
  {
   "cell_type": "code",
   "execution_count": null,
   "id": "b9965c43",
   "metadata": {},
   "outputs": [],
   "source": []
  },
  {
   "cell_type": "code",
   "execution_count": null,
   "id": "33df383e",
   "metadata": {},
   "outputs": [],
   "source": []
  },
  {
   "cell_type": "code",
   "execution_count": null,
   "id": "2099d7b3",
   "metadata": {},
   "outputs": [],
   "source": []
  },
  {
   "cell_type": "code",
   "execution_count": null,
   "id": "2c907e3f",
   "metadata": {},
   "outputs": [],
   "source": []
  },
  {
   "cell_type": "code",
   "execution_count": null,
   "id": "04e8e5dc",
   "metadata": {},
   "outputs": [],
   "source": []
  },
  {
   "cell_type": "code",
   "execution_count": null,
   "id": "d4309e25",
   "metadata": {},
   "outputs": [],
   "source": []
  },
  {
   "cell_type": "code",
   "execution_count": null,
   "id": "52f49998",
   "metadata": {},
   "outputs": [],
   "source": []
  }
 ],
 "metadata": {
  "kernelspec": {
   "display_name": "Python 3 (ipykernel)",
   "language": "python",
   "name": "python3"
  },
  "language_info": {
   "codemirror_mode": {
    "name": "ipython",
    "version": 3
   },
   "file_extension": ".py",
   "mimetype": "text/x-python",
   "name": "python",
   "nbconvert_exporter": "python",
   "pygments_lexer": "ipython3",
   "version": "3.10.8"
  }
 },
 "nbformat": 4,
 "nbformat_minor": 5
}
