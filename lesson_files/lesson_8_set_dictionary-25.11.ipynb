{
 "cells": [
  {
   "cell_type": "markdown",
   "id": "d34a8e53",
   "metadata": {},
   "source": [
    "#### Lesson 8. Collection: dictionary/(set/frozenset)/collection library. 26.11\n",
    "**Topics**:\n",
    "> 1. Set/Frozenset - operation with set\n",
    "> 2. Dictionary - operation with dict\n",
    "> 3. Test/Practise \n",
    "> 4. Collection\n",
    "> 5. *Args  **Kwargs\n",
    "\n",
    "**Materials**:\n",
    "> 1. [About set](https://www.w3schools.com/python/python_sets.asp)\n",
    "> 2. [Frozenset](https://www.programiz.com/python-programming/methods/built-in/frozenset)\n",
    "> 3. [Set](https://www.learnbyexample.org/python-set/)\n",
    "> 4. [Dictionary](https://realpython.com/python-dicts/)\n",
    "> 5. [Hash table](https://realpython.com/python-hash-table/)"
   ]
  },
  {
   "cell_type": "markdown",
   "id": "be92128a",
   "metadata": {},
   "source": [
    "Task 1. \n",
    "Given two non-negative integers low and high. Return the count of odd numbers between low and high (inclusive). \n",
    "\n",
    "Example 1:\n",
    "\n",
    "Input: low = 3, high = 7\n",
    "Output: 3\n",
    "Explanation: The odd numbers between 3 and 7 are [3,5,7].\n",
    "Example 2:\n",
    "\n",
    "Input: low = 8, high = 10\n",
    "Output: 1\n",
    "Explanation: The odd numbers between 8 and 10 are [9]."
   ]
  },
  {
   "cell_type": "code",
   "execution_count": 119,
   "id": "7bfbec0f",
   "metadata": {},
   "outputs": [],
   "source": [
    "set_1 = {1,2,3,4}\n",
    "set_2 = {5, 6, 7,8, 1, 2}\n",
    "#set_3 = {9, 10, 1 ,2}"
   ]
  },
  {
   "cell_type": "code",
   "execution_count": null,
   "id": "666cd53e",
   "metadata": {},
   "outputs": [],
   "source": []
  },
  {
   "cell_type": "markdown",
   "id": "936b6b30",
   "metadata": {},
   "source": [
    "Task 2.\n",
    "You are given an array of unique integers salary where salary[i] is the salary of the ith employee.\n",
    "\n",
    "Return the average salary of employees excluding the minimum and maximum salary. \n",
    " \n",
    "Example 1:\n",
    "\n",
    "Input: salary = [4000,3000,1000,2000]\n",
    "Output: 2500.00000\n",
    "Explanation: Minimum salary and maximum salary are 1000 and 4000 respectively.\n",
    "Average salary excluding minimum and maximum salary is (2000+3000) / 2 = 2500\n",
    "Example 2:\n",
    "\n",
    "Input: salary = [1000,2000,3000]\n",
    "Output: 2000.00000\n",
    "Explanation: Minimum salary and maximum salary are 1000 and 3000 respectively.\n",
    "Average salary excluding minimum and maximum salary is (2000) / 1 = 2000"
   ]
  },
  {
   "cell_type": "code",
   "execution_count": 97,
   "id": "cf63d577",
   "metadata": {},
   "outputs": [],
   "source": [
    "def average(salary: list[int]) -> float:\n",
    "        salary = sorted(salary)\n",
    "        return sum(salary[1:len(salary) - 1:]) /  (len(salary) - 2)"
   ]
  },
  {
   "cell_type": "markdown",
   "id": "3d80d2c3",
   "metadata": {},
   "source": [
    "###  Practice 1:\n",
    "\n",
    "1. Create emtpy dictionary named en_ua_dictionary.\n",
    "2. Add few key-value pairs to the dictionary. Example: 'red': 'червоний'\n",
    "3. Check if the dictionary contains key 'blue' and 'purple'. If not, set their values to unknown.\n",
    "4. Create a loop over existing values and print them to the console in the following format:\n",
    "    ```\n",
    "    Red in Ukrainian is червоний\n",
    "    ```\n",
    "5. Delete all key-values pairs from the dictionary if the lenght of value is lower than 5.\n",
    "\n",
    "6. Write a game where user should guess of a capital of the country that you have in your dictionary.\n",
    "\n",
    "    capitals = {\n",
    "        'Ukraine': 'Kyiv',\n",
    "        'France': 'Paris',\n",
    "        'Germany': 'Berlin',\n",
    "        'Italy': 'Rome',\n",
    "        'USA': 'Washington',\n",
    "        'Canada': 'Ottawa',\n",
    "        'Switzerland': 'Bern',\n",
    "        'Austria': 'Vienna',\n",
    "        'Belgium': 'Brussels',\n",
    "        'Sweden': 'Stockholm',\n",
    "        'Norway': 'Oslo',\n",
    "        'Denmark': 'Copenhagen',\n",
    "        'Finland': 'Helsinki',\n",
    "        'Poland': 'Warsaw',\n",
    "        'Romania': 'Bucharest',\n",
    "        'Bulgaria': 'Sofia',\n",
    "        'Greece': 'Athens',\n",
    "        ...\n",
    "    }\n",
    "\n",
    "    You should show user a random country from the list and ask him to guess the capital. If user input right capital, print \"You are right!\", add him a point and ask him to guess another country. If not, you should ask again. User should be able to quit the game by typing \"exit\".\n",
    "    You should print current score after each round. Also, you should print the final score before user quit the game.\n",
    "\n",
    "\n",
    "    Optional: \n",
    "    1. Give user a hint if he guesses wrong. Hint should looks like first letter of the capital. If you user make another mistake, you should print one more letter from the capital.\n",
    "\n",
    "    2. If user make a mistake you should decrement his lives. Initial amount of lives is 3. Game will end when user has no lives left. You should print the final score after user has no lives left."
   ]
  },
  {
   "cell_type": "markdown",
   "id": "e3d2a602",
   "metadata": {},
   "source": [
    "**Optional**\n",
    "\n",
    "Roman numerals are represented by seven different symbols: I, V, X, L, C, D and M.\n",
    "\n",
    "    Symbol       Value\n",
    "    I             1\n",
    "    V             5\n",
    "    X             10\n",
    "    L             50\n",
    "    C             100\n",
    "    D             500\n",
    "    M             1000\n",
    "\n",
    "For example, 2 is written as II in Roman numeral, just two ones added together. 12 is written as XII, which is simply X + II. The number 27 is written as XXVII, which is XX + V + II.\n",
    "\n",
    "Roman numerals are usually written largest to smallest from left to right. However, the numeral for four is not IIII. Instead, the number four is written as IV. Because the one is before the five we subtract it making four. The same principle applies to the number nine, which is written as IX. There are six instances where subtraction is used:\n",
    "\n",
    "    * I can be placed before V (5) and X (10) to make 4 and 9. \n",
    "    * X can be placed before L (50) and C (100) to make 40 and 90. \n",
    "    * can be placed before D (500) and M (1000) to make 400 and 900.\n",
    "\n",
    "Given a roman numeral, convert it to an integer.\n",
    "\n",
    "    Example 1:\n",
    "\n",
    "    Input: s = \"III\"\n",
    "    Output: 3\n",
    "    Explanation: III = 3.\n",
    "\n",
    "    Example 2:\n",
    "\n",
    "    Input: s = \"LVIII\"\n",
    "    Output: 58\n",
    "    Explanation: L = 50, V= 5, III = 3.\n",
    "\n",
    "    Example 3:\n",
    "\n",
    "    Input: s = \"MCMXCIV\"\n",
    "    Output: 1994\n",
    "    Explanation: M = 1000, CM = 900, XC = 90 and IV = 4.\n",
    "\n",
    "```python\n",
    "def roman_to_int(s: str) -> int:\n",
    "    # write your code here\n",
    "\n",
    "def test_roman_to_int():\n",
    "    result1 = roman_to_int(\"III\")\n",
    "    assert result1 == 3\n",
    "\n",
    "    result1 = roman_to_int(\"LVIII\")\n",
    "    assert result1 == 58\n",
    "\n",
    "    result1 = roman_to_int(\"MCMXCIV\")\n",
    "    assert result1 == 1994\n",
    "```\n",
    "\n",
    "Constraints:\n",
    "\n",
    "    1 <= s.length <= 15\n",
    "    s contains only the characters ('I', 'V', 'X', 'L', 'C', 'D', 'M').\n",
    "    It is guaranteed that s is a valid roman numeral in the range [1, 3999].\n",
    "\n",
    "\n",
    "**Optional**\n",
    "\n",
    "Try to create a function that will do reverse operation - from integer to roman\n",
    "\n",
    "```python\n",
    "def int_to_roman(s: str) -> int:\n",
    "    # write your code here\n",
    "\n",
    "def test_int_to_roman():\n",
    "    result1 = int_to_roman(3)\n",
    "    assert result1 == \"III\"\n",
    "\n",
    "    result1 = int_to_roman(58)\n",
    "    assert result1 == \"LVIII\"\n",
    "\n",
    "    result1 = int_to_roman(1994)\n",
    "    assert result1 == \"MCMXCIV\"\n",
    "```\n"
   ]
  },
  {
   "cell_type": "markdown",
   "id": "07db0002",
   "metadata": {},
   "source": [
    "**Optional**\n",
    "\n",
    "Write an algorithm to determine if a number n is happy.\n",
    "\n",
    "A happy number is a number defined by the following process:\n",
    "\n",
    "    Starting with any positive integer, replace the number by the sum of the squares of its digits.\n",
    "    Repeat the process until the number equals 1 (where it will stay), or it loops endlessly in a cycle which does not include 1.\n",
    "    Those numbers for which this process ends in 1 are happy.\n",
    "\n",
    "Return true if n is a happy number, and false if not.\n",
    "\n",
    "    Example 1:\n",
    "\n",
    "    Input: n = 19\n",
    "    Output: true\n",
    "\n",
    "    Explanation:\n",
    "    12 + 92 = 82\n",
    "    82 + 22 = 68\n",
    "    62 + 82 = 100\n",
    "    12 + 02 + 02 = 1\n",
    "\n",
    "    Example 2:\n",
    "\n",
    "    Input: n = 2\n",
    "    Output: false\n",
    "\n",
    "Constraints:\n",
    "\n",
    "    1 <= n <= 231 - 1\n",
    "\n",
    "\n",
    "```python\n",
    "def is_happy(self, n: int) -> bool:\n",
    "    # write your code here\n",
    "\n",
    "def test_is_happy():\n",
    "    result1 = is_happy(19)\n",
    "    assert result1 is True\n",
    "\n",
    "    result1 = is_happy(2)\n",
    "    assert result1 is False\n",
    "```\n",
    "Given a string s, find the length of the longest substring without repeating characters.\n",
    "\n",
    "    Example 1:\n",
    "\n",
    "    Input: s = \"abcabcbb\"\n",
    "    Output: 3\n",
    "    Explanation: The answer is \"abc\", with the length of 3.\n",
    "\n",
    "    Example 2:\n",
    "\n",
    "    Input: s = \"bbbbb\"\n",
    "    Output: 1\n",
    "    Explanation: The answer is \"b\", with the length of 1.\n",
    "\n",
    "    Example 3:\n",
    "\n",
    "    Input: s = \"pwwkew\"\n",
    "    Output: 3\n",
    "    Explanation: The answer is \"wke\", with the length of 3.\n",
    "    Notice that the answer must be a substring, \"pwke\" is a subsequence and not a substring.\n",
    "\n",
    "Constraints:\n",
    "\n",
    "    0 <= s.length <= 5 * 104\n",
    "    s consists of English letters, digits, symbols and spaces.\n",
    "\n",
    "```python\n",
    "    def length_of_longest_substring(s: str) -> int:\n",
    "        pass\n",
    "\n",
    "    def test_length_of_longest_substring():\n",
    "        result1 = length_of_longest_substring('abcabcabc')\n",
    "        assert result1 = 3\n",
    "\n",
    "        result2 = length_of_longest_substring('bbbbb')\n",
    "        assert result2 = 1\n",
    "\n",
    "        result3 = length_of_longest_substring(\"pwwkew\")\n",
    "        assert result3 = 3\n",
    "```"
   ]
  },
  {
   "cell_type": "code",
   "execution_count": null,
   "id": "d213612e",
   "metadata": {},
   "outputs": [],
   "source": []
  },
  {
   "cell_type": "code",
   "execution_count": null,
   "id": "6929c069",
   "metadata": {},
   "outputs": [],
   "source": []
  },
  {
   "cell_type": "code",
   "execution_count": null,
   "id": "c9867f33",
   "metadata": {},
   "outputs": [],
   "source": []
  },
  {
   "cell_type": "markdown",
   "id": "d95b54b4",
   "metadata": {},
   "source": [
    "## Set/frozenset \n",
    "**Set** - змінна, неупорядкована колекція унікальних елементів \\\n",
    "**Frozenset** - незмінна, неупорядкована колекція унікальних елементів"
   ]
  },
  {
   "cell_type": "code",
   "execution_count": 126,
   "id": "7590b7ac",
   "metadata": {},
   "outputs": [
    {
     "data": {
      "text/plain": [
       "True"
      ]
     },
     "execution_count": 126,
     "metadata": {},
     "output_type": "execute_result"
    }
   ],
   "source": [
    "set([1,1,1,1]) == {1}"
   ]
  },
  {
   "cell_type": "code",
   "execution_count": 3,
   "id": "b6bcdf5b",
   "metadata": {},
   "outputs": [
    {
     "name": "stdout",
     "output_type": "stream",
     "text": [
      "set() <class 'set'>\n"
     ]
    }
   ],
   "source": [
    "emp_set = set() # Створення пусткого set \n",
    "print(emp_set, type(emp_set))"
   ]
  },
  {
   "cell_type": "code",
   "execution_count": 127,
   "id": "9c7f0711",
   "metadata": {},
   "outputs": [
    {
     "name": "stdout",
     "output_type": "stream",
     "text": [
      "{1, 2, 3, 4, 5}\n"
     ]
    }
   ],
   "source": [
    "no_emp_set = {1,2,3,4,5,1,2,3}\n",
    "print(no_emp_set)"
   ]
  },
  {
   "cell_type": "code",
   "execution_count": 128,
   "id": "c704b0a4",
   "metadata": {},
   "outputs": [
    {
     "name": "stdout",
     "output_type": "stream",
     "text": [
      "{1, 2, 3, 4, 5, 6}\n"
     ]
    }
   ],
   "source": [
    "a = [1,2,3,5,1,5,2,4,6]\n",
    "set_a = set(a)\n",
    "print(set_a)"
   ]
  },
  {
   "cell_type": "code",
   "execution_count": 129,
   "id": "6e0db325",
   "metadata": {},
   "outputs": [
    {
     "name": "stdout",
     "output_type": "stream",
     "text": [
      "{1, 2, 3, 4, 5, ('1', '2')}\n"
     ]
    }
   ],
   "source": [
    "no_emp_set.add(('1', '2')) # Добавити елемент \n",
    "print(no_emp_set)"
   ]
  },
  {
   "cell_type": "code",
   "execution_count": 17,
   "id": "0498c76c",
   "metadata": {},
   "outputs": [
    {
     "name": "stdout",
     "output_type": "stream",
     "text": [
      "{0, 1, 2, 3, 4, 5, ('1', '2'), '1'}\n"
     ]
    }
   ],
   "source": [
    "no_emp_set.add(0) \n",
    "print(no_emp_set)"
   ]
  },
  {
   "cell_type": "code",
   "execution_count": 130,
   "id": "5f4a7916",
   "metadata": {},
   "outputs": [
    {
     "name": "stdout",
     "output_type": "stream",
     "text": [
      "{1, 2, 3, 4, 5, 6, ('1', '2')}\n"
     ]
    }
   ],
   "source": [
    "no_emp_set.update(set_a)\n",
    "print(no_emp_set)"
   ]
  },
  {
   "cell_type": "code",
   "execution_count": 131,
   "id": "57391272",
   "metadata": {},
   "outputs": [
    {
     "ename": "TypeError",
     "evalue": "'set' object is not subscriptable",
     "output_type": "error",
     "traceback": [
      "\u001b[0;31m---------------------------------------------------------------------------\u001b[0m",
      "\u001b[0;31mTypeError\u001b[0m                                 Traceback (most recent call last)",
      "Cell \u001b[0;32mIn [131], line 1\u001b[0m\n\u001b[0;32m----> 1\u001b[0m \u001b[38;5;28mprint\u001b[39m(\u001b[43mno_emp_set\u001b[49m\u001b[43m[\u001b[49m\u001b[38;5;241;43m0\u001b[39;49m\u001b[43m]\u001b[49m)\n",
      "\u001b[0;31mTypeError\u001b[0m: 'set' object is not subscriptable"
     ]
    }
   ],
   "source": [
    "print(no_emp_set[0]) "
   ]
  },
  {
   "cell_type": "code",
   "execution_count": 133,
   "id": "704a29d2",
   "metadata": {},
   "outputs": [
    {
     "name": "stdout",
     "output_type": "stream",
     "text": [
      "True True\n"
     ]
    }
   ],
   "source": [
    "print(1 in no_emp_set, 10 not in no_emp_set)"
   ]
  },
  {
   "cell_type": "code",
   "execution_count": 135,
   "id": "98ca48c6",
   "metadata": {},
   "outputs": [
    {
     "name": "stdout",
     "output_type": "stream",
     "text": [
      "Set 1: {1, 2, 3, 4, 5}\n",
      "Set 2: {1, 2, 6, 7, 8}\n",
      "frozenset({1, 2, 3, 4, 5}) <class 'frozenset'>\n"
     ]
    }
   ],
   "source": [
    "set_1 = {1,2,3,4,5}\n",
    "\n",
    "set_2 = {6,7,8,1,2}\n",
    "\n",
    "frozet_set = frozenset(set_1)\n",
    "\n",
    "print(f'Set 1: {set_1}\\nSet 2: {set_2}')\n",
    "print(frozet_set, type(frozet_set))"
   ]
  },
  {
   "cell_type": "code",
   "execution_count": 136,
   "id": "37f6a6a3",
   "metadata": {},
   "outputs": [
    {
     "data": {
      "text/plain": [
       "['__and__',\n",
       " '__class__',\n",
       " '__class_getitem__',\n",
       " '__contains__',\n",
       " '__delattr__',\n",
       " '__dir__',\n",
       " '__doc__',\n",
       " '__eq__',\n",
       " '__format__',\n",
       " '__ge__',\n",
       " '__getattribute__',\n",
       " '__gt__',\n",
       " '__hash__',\n",
       " '__iand__',\n",
       " '__init__',\n",
       " '__init_subclass__',\n",
       " '__ior__',\n",
       " '__isub__',\n",
       " '__iter__',\n",
       " '__ixor__',\n",
       " '__le__',\n",
       " '__len__',\n",
       " '__lt__',\n",
       " '__ne__',\n",
       " '__new__',\n",
       " '__or__',\n",
       " '__rand__',\n",
       " '__reduce__',\n",
       " '__reduce_ex__',\n",
       " '__repr__',\n",
       " '__ror__',\n",
       " '__rsub__',\n",
       " '__rxor__',\n",
       " '__setattr__',\n",
       " '__sizeof__',\n",
       " '__str__',\n",
       " '__sub__',\n",
       " '__subclasshook__',\n",
       " '__xor__',\n",
       " 'add',\n",
       " 'clear',\n",
       " 'copy',\n",
       " 'difference',\n",
       " 'difference_update',\n",
       " 'discard',\n",
       " 'intersection',\n",
       " 'intersection_update',\n",
       " 'isdisjoint',\n",
       " 'issubset',\n",
       " 'issuperset',\n",
       " 'pop',\n",
       " 'remove',\n",
       " 'symmetric_difference',\n",
       " 'symmetric_difference_update',\n",
       " 'union',\n",
       " 'update']"
      ]
     },
     "execution_count": 136,
     "metadata": {},
     "output_type": "execute_result"
    }
   ],
   "source": [
    "dir(set)"
   ]
  },
  {
   "cell_type": "code",
   "execution_count": 137,
   "id": "64466de8",
   "metadata": {},
   "outputs": [
    {
     "name": "stdout",
     "output_type": "stream",
     "text": [
      "Operation union: {1, 2, 3, 4, 5, 6, 7, 8}\n",
      "Union with | : {1, 2, 3, 4, 5, 6, 7, 8}\n"
     ]
    }
   ],
   "source": [
    "print(f'Operation union: {set_1.union(set_2)}\\nUnion with | : {set_1 | set_2}')"
   ]
  },
  {
   "cell_type": "code",
   "execution_count": 138,
   "id": "586c23b2",
   "metadata": {},
   "outputs": [
    {
     "name": "stdout",
     "output_type": "stream",
     "text": [
      "Operation intersection: {1, 2}\n",
      "Intersection with & : {1, 2}\n"
     ]
    }
   ],
   "source": [
    "print(f'Operation intersection: {set_1.intersection(set_2)}\\nIntersection with & : {set_1 & set_2}')"
   ]
  },
  {
   "cell_type": "code",
   "execution_count": 78,
   "id": "c718fdf7",
   "metadata": {},
   "outputs": [
    {
     "name": "stdout",
     "output_type": "stream",
     "text": [
      "Operation difference: {3, 4, 5}\n",
      "Union with - (minus) : {3, 4, 5}\n"
     ]
    }
   ],
   "source": [
    "print(f'Operation difference: {set_1.difference(set_2)}\\nUnion with - (minus) : {set_1 - set_2}')"
   ]
  },
  {
   "cell_type": "code",
   "execution_count": 139,
   "id": "aa12e97c",
   "metadata": {},
   "outputs": [
    {
     "name": "stdout",
     "output_type": "stream",
     "text": [
      "Operation Symmetric difference: {3, 4, 5, 6, 7, 8}\n",
      "Symm_diff with ^ {3, 4, 5, 6, 7, 8}\n"
     ]
    }
   ],
   "source": [
    "print(f'Operation Symmetric difference: {set_1.symmetric_difference(set_2)}\\nSymm_diff with ^ {set_1 ^ set_2}')"
   ]
  },
  {
   "cell_type": "code",
   "execution_count": 140,
   "id": "6cbf7c14",
   "metadata": {},
   "outputs": [
    {
     "name": "stdout",
     "output_type": "stream",
     "text": [
      "Operation issubset: False\n",
      "Union with <= : False\n"
     ]
    }
   ],
   "source": [
    "print(f'Operation issubset: {set_1.issubset(set_2)}\\nUnion with <= : {set_1 <= set_2}')"
   ]
  },
  {
   "cell_type": "code",
   "execution_count": 40,
   "id": "d925dfbc",
   "metadata": {},
   "outputs": [
    {
     "name": "stdout",
     "output_type": "stream",
     "text": [
      "2\n"
     ]
    }
   ],
   "source": [
    "a = set_1.pop()\n",
    "print(a)"
   ]
  },
  {
   "cell_type": "code",
   "execution_count": 41,
   "id": "47cb7e27",
   "metadata": {},
   "outputs": [
    {
     "name": "stdout",
     "output_type": "stream",
     "text": [
      "set()\n",
      "False\n"
     ]
    }
   ],
   "source": [
    "set_1.clear()\n",
    "print(set_1)\n",
    "print(bool(set_1))"
   ]
  },
  {
   "cell_type": "code",
   "execution_count": 43,
   "id": "1c5f4a7c",
   "metadata": {},
   "outputs": [
    {
     "data": {
      "text/plain": [
       "True"
      ]
     },
     "execution_count": 43,
     "metadata": {},
     "output_type": "execute_result"
    }
   ],
   "source": [
    "set([1, 1, 1]) == set([1])"
   ]
  },
  {
   "cell_type": "code",
   "execution_count": 141,
   "id": "3057c14d",
   "metadata": {},
   "outputs": [
    {
     "data": {
      "text/plain": [
       "True"
      ]
     },
     "execution_count": 141,
     "metadata": {},
     "output_type": "execute_result"
    }
   ],
   "source": [
    "{1} == {1}"
   ]
  },
  {
   "cell_type": "code",
   "execution_count": 147,
   "id": "2e81f374",
   "metadata": {},
   "outputs": [
    {
     "name": "stdout",
     "output_type": "stream",
     "text": [
      "{1, 2, 3}\n",
      "{1, 2, 3}\n"
     ]
    },
    {
     "data": {
      "text/plain": [
       "True"
      ]
     },
     "execution_count": 147,
     "metadata": {},
     "output_type": "execute_result"
    }
   ],
   "source": [
    "set_a = {1, 2, 3}\n",
    "set_b = {1, 2, 3}\n",
    "\n",
    "print(set_a)\n",
    "print(set_b)\n",
    "# set_a <= set_b \n",
    "set_a.issubset(set_b)"
   ]
  },
  {
   "cell_type": "code",
   "execution_count": 146,
   "id": "d48670a9",
   "metadata": {},
   "outputs": [
    {
     "data": {
      "text/plain": [
       "True"
      ]
     },
     "execution_count": 146,
     "metadata": {},
     "output_type": "execute_result"
    }
   ],
   "source": [
    "set_b.issuperset(set_a)"
   ]
  },
  {
   "cell_type": "code",
   "execution_count": 47,
   "id": "2a9fc28d",
   "metadata": {},
   "outputs": [
    {
     "data": {
      "text/plain": [
       "{1, 2, 3, 4, 5, 6, 7}"
      ]
     },
     "execution_count": 47,
     "metadata": {},
     "output_type": "execute_result"
    }
   ],
   "source": [
    "set_a = {1, 2, 3}\n",
    "set_b = {3, 4, 5}\n",
    "set_a.union(set_b).union({5, 6, 7})"
   ]
  },
  {
   "cell_type": "code",
   "execution_count": 101,
   "id": "0fde4934",
   "metadata": {},
   "outputs": [],
   "source": [
    "frozen_a = frozenset([1, 2, 3])\n",
    "#frozen_a.add(10)"
   ]
  },
  {
   "cell_type": "markdown",
   "id": "5379fbd1",
   "metadata": {},
   "source": [
    "Task 3\n",
    "\n",
    "In an array of integers of length n + 1 (n > 1), every number in the range 1...n appears once except for one number which appears twice (so the array’s length is n+1). Write an efficient function that finds the number that appears twice.\n",
    "\n",
    "1,2,2,3 => 2 \n",
    "1,2,3,3 => 3\n",
    "2,1,4,3,5,4 => 4\n"
   ]
  },
  {
   "cell_type": "code",
   "execution_count": 190,
   "id": "e85ee81c",
   "metadata": {},
   "outputs": [],
   "source": [
    "def task3(arr: list) -> int:\n",
    "    res = []\n",
    "    for i in set(arr):\n",
    "        if arr.count(i) > 1:\n",
    "            res.append(i)\n",
    "    return res"
   ]
  },
  {
   "cell_type": "code",
   "execution_count": 191,
   "id": "e4ff3942",
   "metadata": {},
   "outputs": [
    {
     "data": {
      "text/plain": [
       "[1, 2]"
      ]
     },
     "execution_count": 191,
     "metadata": {},
     "output_type": "execute_result"
    }
   ],
   "source": [
    "task3([1,2,2,3, 1 ,1, 1,1,1,1, 1,2,2,2,2,2])"
   ]
  },
  {
   "cell_type": "markdown",
   "id": "efc6b6dd",
   "metadata": {},
   "source": [
    "Task 4 \n",
    "Intersection\n",
    "\n",
    "Given two arrays of numbers where each one contains unique values and is already sorted in ascending order, find the number of elements that belong to both arrays.\n"
   ]
  },
  {
   "cell_type": "code",
   "execution_count": null,
   "id": "35304957",
   "metadata": {},
   "outputs": [],
   "source": []
  },
  {
   "cell_type": "markdown",
   "id": "f20d3154",
   "metadata": {},
   "source": [
    "Task 5. **RLE** \\\n",
    "Given a string of letters (without numbers), create a string encoding it by the rules where the first character is char itself, followed by a number indicating the number of letter repeats.\n",
    "\n",
    "Examples:\n",
    "\n",
    "ABBA => A1B2A1\n",
    "ATTTGC => A1T3G1C1\n"
   ]
  },
  {
   "cell_type": "code",
   "execution_count": null,
   "id": "8dc3b03f",
   "metadata": {},
   "outputs": [],
   "source": []
  },
  {
   "cell_type": "code",
   "execution_count": null,
   "id": "4c41ac0d",
   "metadata": {},
   "outputs": [],
   "source": []
  },
  {
   "cell_type": "code",
   "execution_count": null,
   "id": "6d19f225",
   "metadata": {},
   "outputs": [],
   "source": [
    "#### Delete value of set"
   ]
  },
  {
   "cell_type": "code",
   "execution_count": 212,
   "id": "936ecd3d",
   "metadata": {},
   "outputs": [
    {
     "name": "stdout",
     "output_type": "stream",
     "text": [
      "{1, 2, 3, 4} <class 'set'>\n"
     ]
    }
   ],
   "source": [
    "set_test = {1,2,3,4}\n",
    "print(set_test, type(set_test))"
   ]
  },
  {
   "cell_type": "code",
   "execution_count": 211,
   "id": "34cbb2d0",
   "metadata": {},
   "outputs": [
    {
     "name": "stdout",
     "output_type": "stream",
     "text": [
      "{2, 3, 4}\n"
     ]
    }
   ],
   "source": [
    "set_test.pop()\n",
    "print(set_test)"
   ]
  },
  {
   "cell_type": "code",
   "execution_count": 214,
   "id": "2466785b",
   "metadata": {},
   "outputs": [
    {
     "ename": "KeyError",
     "evalue": "3",
     "output_type": "error",
     "traceback": [
      "\u001b[0;31m---------------------------------------------------------------------------\u001b[0m",
      "\u001b[0;31mKeyError\u001b[0m                                  Traceback (most recent call last)",
      "Cell \u001b[0;32mIn [214], line 1\u001b[0m\n\u001b[0;32m----> 1\u001b[0m \u001b[43mset_test\u001b[49m\u001b[38;5;241;43m.\u001b[39;49m\u001b[43mremove\u001b[49m\u001b[43m(\u001b[49m\u001b[38;5;241;43m3\u001b[39;49m\u001b[43m)\u001b[49m\n\u001b[1;32m      2\u001b[0m \u001b[38;5;28mprint\u001b[39m(set_test)\n",
      "\u001b[0;31mKeyError\u001b[0m: 3"
     ]
    }
   ],
   "source": [
    "set_test.remove(3)\n",
    "print(set_test)"
   ]
  },
  {
   "cell_type": "code",
   "execution_count": 218,
   "id": "5882b1f1",
   "metadata": {},
   "outputs": [
    {
     "name": "stdout",
     "output_type": "stream",
     "text": [
      "{1, 2, 4}\n"
     ]
    }
   ],
   "source": [
    "set_test.discard(3)\n",
    "print(set_test)"
   ]
  },
  {
   "cell_type": "markdown",
   "id": "b7ada194",
   "metadata": {},
   "source": [
    "#### Dictionary\n",
    "Maping type: **key - value** \\\n",
    "    **Key** - only hash type(int, float, tutple, frozenset, string, eth.. \\\n",
    "    **Value** - all type"
   ]
  },
  {
   "cell_type": "code",
   "execution_count": 220,
   "id": "704f461b",
   "metadata": {},
   "outputs": [
    {
     "name": "stdout",
     "output_type": "stream",
     "text": [
      "{'France': 'Paris', 'Ukraine': 'Kyiv', 'Germany': 'Berlin', 'try_list': [1, 2, 3, 4]}\n"
     ]
    }
   ],
   "source": [
    "capitals = {\n",
    "    'France': 'Paris',\n",
    "    'Ukraine': 'Kyiv',\n",
    "    'Germany': 'Berlin',\n",
    "    'try_list': [1,2,3,4],\n",
    "}\n",
    "print(capitals)"
   ]
  },
  {
   "cell_type": "code",
   "execution_count": 222,
   "id": "8c30d0fc",
   "metadata": {},
   "outputs": [
    {
     "name": "stdout",
     "output_type": "stream",
     "text": [
      "Kyiv\n"
     ]
    }
   ],
   "source": [
    "print(capitals['Ukraine'])"
   ]
  },
  {
   "cell_type": "code",
   "execution_count": 223,
   "id": "1a74c60e",
   "metadata": {},
   "outputs": [
    {
     "name": "stdout",
     "output_type": "stream",
     "text": [
      "{'France': 'Paris', 'Ukraine': 'Kyiv', 'Germany': 'Berlin', 'try_list': [1, 2, 3, 4], 'Italy': 'Rome'}\n"
     ]
    }
   ],
   "source": [
    "capitals['Italy'] = 'Rome'\n",
    "print(capitals)"
   ]
  },
  {
   "cell_type": "code",
   "execution_count": 224,
   "id": "7f52bacb",
   "metadata": {},
   "outputs": [],
   "source": [
    "capitals['Ukraine'] = ('Kyiv1', 'Kiev')"
   ]
  },
  {
   "cell_type": "code",
   "execution_count": 228,
   "id": "793b8eb0",
   "metadata": {},
   "outputs": [
    {
     "data": {
      "text/plain": [
       "'K'"
      ]
     },
     "execution_count": 228,
     "metadata": {},
     "output_type": "execute_result"
    }
   ],
   "source": [
    "capitals['Ukraine'][0][0]"
   ]
  },
  {
   "cell_type": "code",
   "execution_count": 229,
   "id": "106a3f13",
   "metadata": {},
   "outputs": [
    {
     "name": "stdout",
     "output_type": "stream",
     "text": [
      "Country: France Capital: Paris\n",
      "Country: Ukraine Capital: ('Kyiv1', 'Kiev')\n",
      "Country: Germany Capital: Berlin\n",
      "Country: try_list Capital: [1, 2, 3, 4]\n",
      "Country: Italy Capital: Rome\n"
     ]
    }
   ],
   "source": [
    "for country in capitals:\n",
    "    print(f'Country: {country} Capital: {capitals[country]}')"
   ]
  },
  {
   "cell_type": "code",
   "execution_count": 231,
   "id": "ee201cf2",
   "metadata": {},
   "outputs": [
    {
     "name": "stdout",
     "output_type": "stream",
     "text": [
      "Keys: dict_keys(['France', 'Ukraine', 'Germany', 'try_list', 'Italy'])\n",
      "Keys: dict_values(['Paris', ('Kyiv1', 'Kiev'), 'Berlin', [1, 2, 3, 4], 'Rome'])\n",
      "Items: dict_items([('France', 'Paris'), ('Ukraine', ('Kyiv1', 'Kiev')), ('Germany', 'Berlin'), ('try_list', [1, 2, 3, 4]), ('Italy', 'Rome')])\n"
     ]
    }
   ],
   "source": [
    "print(f'Keys: {capitals.keys()}')\n",
    "print(f'Keys: {capitals.values()}')\n",
    "print(f'Items: {capitals.items()}')"
   ]
  },
  {
   "cell_type": "code",
   "execution_count": 232,
   "id": "4ceac76c",
   "metadata": {},
   "outputs": [
    {
     "name": "stdout",
     "output_type": "stream",
     "text": [
      "The capital of France is Paris\n",
      "The capital of Ukraine is ('Kyiv1', 'Kiev')\n",
      "The capital of Germany is Berlin\n",
      "The capital of try_list is [1, 2, 3, 4]\n",
      "The capital of Italy is Rome\n"
     ]
    }
   ],
   "source": [
    "for country, capital in capitals.items():\n",
    "    print(f\"The capital of {country} is {capital}\")"
   ]
  },
  {
   "cell_type": "code",
   "execution_count": 235,
   "id": "d283f807",
   "metadata": {},
   "outputs": [
    {
     "ename": "KeyError",
     "evalue": "'1'",
     "output_type": "error",
     "traceback": [
      "\u001b[0;31m---------------------------------------------------------------------------\u001b[0m",
      "\u001b[0;31mKeyError\u001b[0m                                  Traceback (most recent call last)",
      "Cell \u001b[0;32mIn [235], line 1\u001b[0m\n\u001b[0;32m----> 1\u001b[0m \u001b[43mcapitals\u001b[49m\u001b[43m[\u001b[49m\u001b[38;5;124;43m'\u001b[39;49m\u001b[38;5;124;43m1\u001b[39;49m\u001b[38;5;124;43m'\u001b[39;49m\u001b[43m]\u001b[49m\n",
      "\u001b[0;31mKeyError\u001b[0m: '1'"
     ]
    }
   ],
   "source": [
    "capitals['1']"
   ]
  },
  {
   "cell_type": "code",
   "execution_count": 237,
   "id": "c5a32d4f",
   "metadata": {},
   "outputs": [],
   "source": [
    "capitals.get('1')"
   ]
  },
  {
   "cell_type": "code",
   "execution_count": 236,
   "id": "65de3516",
   "metadata": {},
   "outputs": [
    {
     "data": {
      "text/plain": [
       "{'France': 'Paris',\n",
       " 'Ukraine': ('Kyiv1', 'Kiev'),\n",
       " 'Germany': 'Berlin',\n",
       " 'try_list': [1, 2, 3, 4],\n",
       " 'Italy': 'Rome'}"
      ]
     },
     "execution_count": 236,
     "metadata": {},
     "output_type": "execute_result"
    }
   ],
   "source": [
    "capitals"
   ]
  },
  {
   "cell_type": "code",
   "execution_count": 103,
   "id": "c2d5ed52",
   "metadata": {},
   "outputs": [],
   "source": [
    "#### Args/Kwargs"
   ]
  },
  {
   "cell_type": "code",
   "execution_count": null,
   "id": "d3e3427e",
   "metadata": {},
   "outputs": [],
   "source": []
  },
  {
   "cell_type": "code",
   "execution_count": null,
   "id": "de1e9720",
   "metadata": {},
   "outputs": [],
   "source": []
  },
  {
   "cell_type": "code",
   "execution_count": null,
   "id": "7b158f68",
   "metadata": {},
   "outputs": [],
   "source": []
  },
  {
   "cell_type": "code",
   "execution_count": null,
   "id": "a2798f0b",
   "metadata": {},
   "outputs": [],
   "source": []
  },
  {
   "cell_type": "code",
   "execution_count": null,
   "id": "2016d7a9",
   "metadata": {},
   "outputs": [],
   "source": []
  }
 ],
 "metadata": {
  "kernelspec": {
   "display_name": "Python 3 (ipykernel)",
   "language": "python",
   "name": "python3"
  },
  "language_info": {
   "codemirror_mode": {
    "name": "ipython",
    "version": 3
   },
   "file_extension": ".py",
   "mimetype": "text/x-python",
   "name": "python",
   "nbconvert_exporter": "python",
   "pygments_lexer": "ipython3",
   "version": "3.10.8"
  }
 },
 "nbformat": 4,
 "nbformat_minor": 5
}
