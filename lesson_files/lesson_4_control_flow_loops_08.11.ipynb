{
 "cells": [
  {
   "cell_type": "markdown",
   "id": "aafe1488",
   "metadata": {},
   "source": [
    "### Lesson 4. Control flow and loops. \n",
    ">**Topics**:\n",
    "        > 1. Logical operators\n",
    "        > 2. If/elif/else\n",
    "        > 3. Match-case *More that python version 10.\n",
    "        > 4. Loops(while/for)\n",
    "        > 5. Operation of break\n",
    "        > 6. Range \n",
    "\n",
    "> **Materials**:\n",
    "       > 1. [Case statement](https://learnpython.com/blog/python-match-case-statement/) \n",
    "       > 2. [Conditions basic](https://www.w3schools.com/python/python_conditions.asp)\n",
    "       > 3. [While loop](https://www.w3schools.com/python/python_while_loops.asp)\n",
    "       > 4. [For loops](https://www.w3schools.com/python/python_for_loops.asp)\n",
    "       > 5. [Match case](https://towardsdatascience.com/the-match-case-in-python-3-10-is-not-that-simple-f65b350bb025)\n",
    "       > 6. [Conditional tutorial](https://realpython.com/python-conditional-statements/)\n",
    "       > 7. [If/else](https://python-course.eu/python-tutorial/conditional-statements.php)"
   ]
  },
  {
   "cell_type": "markdown",
   "id": "cf91f76a",
   "metadata": {},
   "source": [
    "**Task** - вирішуємо на лекції \\\n",
    "**Practice section** - в вирішуємо самостійно, якщо встигаємо робимо завдання на лекції"
   ]
  },
  {
   "cell_type": "code",
   "execution_count": 1,
   "id": "580239e3",
   "metadata": {},
   "outputs": [],
   "source": [
    "import sys # Розширення функціонала, додавання можливості працювати зі системою \n",
    "import random # Добавляємо можливість генерувати random значення "
   ]
  },
  {
   "cell_type": "code",
   "execution_count": 44,
   "id": "c210c4fc",
   "metadata": {},
   "outputs": [
    {
     "name": "stdout",
     "output_type": "stream",
     "text": [
      "Version of you system: 3.10.8\n"
     ]
    }
   ],
   "source": [
    "# З бібліотеки sys вибираємо функцію version, яка повертає версію python\n",
    "print(f\"Version of you system: {sys.version.split(' ')[0]}\") "
   ]
  },
  {
   "cell_type": "markdown",
   "id": "5dd8d673",
   "metadata": {},
   "source": [
    "### Logical operators \n",
    "1. [All basic operators in python ](https://www.w3schools.com/python/python_operators.asp)\n"
   ]
  },
  {
   "cell_type": "markdown",
   "id": "55b98ce0",
   "metadata": {},
   "source": [
    "![Logical operators](https://www.askpython.com/wp-content/uploads/2019/12/python-logical-operators.png)"
   ]
  },
  {
   "cell_type": "markdown",
   "id": "373e2d1b",
   "metadata": {},
   "source": [
    "**And** - if left and right operand true or right conditional (логічне так/да)\n",
    "\n",
    "**OR** - зліва True або з права True (логічне або)\n",
    "\n",
    "**NOT** - логічне ні"
   ]
  },
  {
   "cell_type": "markdown",
   "id": "fab1835a",
   "metadata": {},
   "source": [
    "### AND (i) - бінарний оператор\n",
    "\n",
    "| First  | Second | Result |\n",
    "| - | - | - |\n",
    "| 0 | 0 | 0 |\n",
    "| 0 | 1 | 0 |\n",
    "| 1 | 0 | 0 |\n",
    "| 1 | 1 | 1 |"
   ]
  },
  {
   "cell_type": "code",
   "execution_count": 26,
   "id": "f8f92c3e",
   "metadata": {},
   "outputs": [
    {
     "name": "stdout",
     "output_type": "stream",
     "text": [
      "0 - False, 1 - True, строка - True, пуста строка - False\n"
     ]
    }
   ],
   "source": [
    "print(f\"0 - {bool(0)}, 1 - {bool(1)}, строка - {bool('a')}, пуста строка - {bool('')}\")"
   ]
  },
  {
   "cell_type": "code",
   "execution_count": null,
   "id": "ed49494c",
   "metadata": {},
   "outputs": [],
   "source": []
  },
  {
   "cell_type": "code",
   "execution_count": 19,
   "id": "e26a7da5",
   "metadata": {},
   "outputs": [
    {
     "data": {
      "text/plain": [
       "False"
      ]
     },
     "execution_count": 19,
     "metadata": {},
     "output_type": "execute_result"
    }
   ],
   "source": [
    "bool('') # Перетворення в bool "
   ]
  },
  {
   "cell_type": "code",
   "execution_count": 20,
   "id": "2351886d",
   "metadata": {},
   "outputs": [
    {
     "data": {
      "text/plain": [
       "(False, True)"
      ]
     },
     "execution_count": 20,
     "metadata": {},
     "output_type": "execute_result"
    }
   ],
   "source": [
    "bool('abc' and ''), bool('abc' and 'abc')"
   ]
  },
  {
   "cell_type": "code",
   "execution_count": 40,
   "id": "ccf0ee8c",
   "metadata": {},
   "outputs": [
    {
     "data": {
      "text/plain": [
       "(True, False)"
      ]
     },
     "execution_count": 40,
     "metadata": {},
     "output_type": "execute_result"
    }
   ],
   "source": [
    "10 > 5, 6 == 7"
   ]
  },
  {
   "cell_type": "code",
   "execution_count": null,
   "id": "f8ebabcf",
   "metadata": {},
   "outputs": [],
   "source": [
    "print(12 < 13 and 3 ** '6')"
   ]
  },
  {
   "cell_type": "markdown",
   "id": "d4b13e21",
   "metadata": {},
   "source": [
    "### OR (або) - бінарний оператор\n",
    "\n",
    "| First  | Second | Result |\n",
    "| - | - | - |\n",
    "| 0 | 0 | 0 |\n",
    "| 0 | 1 | 1 |\n",
    "| 1 | 0 | 1 |\n",
    "| 1 | 1 | 1 |"
   ]
  },
  {
   "cell_type": "code",
   "execution_count": 27,
   "id": "5de21658",
   "metadata": {},
   "outputs": [
    {
     "name": "stdout",
     "output_type": "stream",
     "text": [
      "True\n"
     ]
    }
   ],
   "source": [
    "salary = 10_000\n",
    "print(salary <= 7000 or salary == 10_000)"
   ]
  },
  {
   "cell_type": "code",
   "execution_count": 32,
   "id": "18ccadd3",
   "metadata": {},
   "outputs": [],
   "source": [
    "3 ** '6'"
   ]
  },
  {
   "cell_type": "code",
   "execution_count": 33,
   "id": "b392aa73",
   "metadata": {},
   "outputs": [],
   "source": [
    "12 < 13 or 3 ** '6' # Повертає True, оскільки перший вираз правильний, інші виконувати не потрібно "
   ]
  },
  {
   "cell_type": "markdown",
   "id": "eac0b746",
   "metadata": {},
   "source": [
    "### NOT (заперечення) - унарний оператор\n",
    "\n",
    "| Input  | Result |\n",
    "| - | - |\n",
    "| 0 | 1 |\n",
    "| 1 | 0 |\n",
    "\n"
   ]
  },
  {
   "cell_type": "code",
   "execution_count": 34,
   "id": "00169883",
   "metadata": {},
   "outputs": [
    {
     "name": "stdout",
     "output_type": "stream",
     "text": [
      "not True:  False\n",
      "not False:  True\n",
      "not True == False:  True\n"
     ]
    }
   ],
   "source": [
    "print('not True: ', not True)\n",
    "print('not False: ', not False)\n",
    "print('not True == False: ', not True == False)"
   ]
  },
  {
   "cell_type": "code",
   "execution_count": 35,
   "id": "56dd22d9",
   "metadata": {},
   "outputs": [
    {
     "name": "stdout",
     "output_type": "stream",
     "text": [
      "True\n"
     ]
    }
   ],
   "source": [
    "print(not True == False)\n"
   ]
  },
  {
   "cell_type": "code",
   "execution_count": 3,
   "id": "1009f44c",
   "metadata": {},
   "outputs": [
    {
     "name": "stdout",
     "output_type": "stream",
     "text": [
      "False == not True True\n"
     ]
    }
   ],
   "source": [
    "print('False == not True', \n",
    "      False\n",
    "      == # Має пріоритетність  \n",
    "      (not True) # Вказуємо в дужках \n",
    "     )\n"
   ]
  },
  {
   "cell_type": "markdown",
   "id": "955edfbf",
   "metadata": {},
   "source": [
    "#### Operator order of precedence (from highest to lowest):\n",
    "\n",
    "> 1. <, <=, ==, >=, >\n",
    "> 2. not\n",
    "> 3. and\n",
    "> 4. or"
   ]
  },
  {
   "cell_type": "code",
   "execution_count": 5,
   "id": "2eaa0ac9",
   "metadata": {},
   "outputs": [
    {
     "data": {
      "text/plain": [
       "True"
      ]
     },
     "execution_count": 5,
     "metadata": {},
     "output_type": "execute_result"
    }
   ],
   "source": [
    "True and not (3 != 3.0) # Що виведе даний код? Опишіть по крокам що виконується в якій послідовності."
   ]
  },
  {
   "cell_type": "code",
   "execution_count": 9,
   "id": "a273fec3",
   "metadata": {},
   "outputs": [],
   "source": [
    "(\"C\" != \"C\") or (not (23 >= 34))"
   ]
  },
  {
   "cell_type": "code",
   "execution_count": null,
   "id": "e5333f51",
   "metadata": {},
   "outputs": [],
   "source": []
  },
  {
   "cell_type": "markdown",
   "id": "22ec1bbb",
   "metadata": {},
   "source": [
    "#### IF/ELIF/ELSE - control flow statement(інструмент для створення розгалуження, або оператор ветвленія)\n",
    "**if** # ключове слово після якого повинна бути умова, яка повертає True або False\n",
    "\n",
    "**elif** # якщо  if не виконався код переходить на наступну умову і її перевіряє \n",
    "\n",
    "**else** # якщо ні одна умова не виконалась то переходить в цей блок "
   ]
  },
  {
   "cell_type": "code",
   "execution_count": null,
   "id": "25d4475d",
   "metadata": {},
   "outputs": [],
   "source": [
    "# if/elif/else - ключові слова "
   ]
  },
  {
   "cell_type": "code",
   "execution_count": 10,
   "id": "e6b455e7",
   "metadata": {},
   "outputs": [],
   "source": [
    "numbers = 18"
   ]
  },
  {
   "cell_type": "code",
   "execution_count": 74,
   "id": "ed1afa23",
   "metadata": {},
   "outputs": [
    {
     "name": "stdout",
     "output_type": "stream",
     "text": [
      "Its a secret line!\n"
     ]
    }
   ],
   "source": []
  },
  {
   "cell_type": "code",
   "execution_count": 12,
   "id": "b362918b",
   "metadata": {},
   "outputs": [
    {
     "name": "stdout",
     "output_type": "stream",
     "text": [
      "You can go bar\n",
      "Hello \n"
     ]
    }
   ],
   "source": [
    "if numbers <= 17:\n",
    "    print('You need time')\n",
    "\n",
    "if numbers >= 18:\n",
    "    print('You can go bar')\n",
    "    \n",
    "print('Hello ')"
   ]
  },
  {
   "cell_type": "code",
   "execution_count": 35,
   "id": "e317ff54",
   "metadata": {},
   "outputs": [],
   "source": [
    "user_number = int(input('Enter you number: '))\n",
    "computer_number = random.randint(0, 1000)\n",
    "upper_range = 100\n",
    "lower_range = 0\n"
   ]
  },
  {
   "cell_type": "code",
   "execution_count": null,
   "id": "d7af46ba",
   "metadata": {},
   "outputs": [],
   "source": [
    "if user_number < upper_range and user_number > lower_range:\n",
    "    print('You win')"
   ]
  },
  {
   "cell_type": "code",
   "execution_count": 13,
   "id": "9238384f",
   "metadata": {},
   "outputs": [
    {
     "name": "stdout",
     "output_type": "stream",
     "text": [
      "Looks like you are from somewhere else\n",
      "Finish\n"
     ]
    }
   ],
   "source": [
    "car_number = 'АХ6858ЕХ'\n",
    "if car_number.startswith('АH'):\n",
    "    print('You are from Donetsk region')\n",
    "elif car_number.startswith('BC'):\n",
    "    print('You are from Lviv region')\n",
    "elif car_number.startswith('BH'):\n",
    "    print('You are from Odesa region')\n",
    "else:\n",
    "    print('Looks like you are from somewhere else')\n",
    "print('Finish')"
   ]
  },
  {
   "cell_type": "code",
   "execution_count": 21,
   "id": "74e36476",
   "metadata": {},
   "outputs": [],
   "source": [
    "numbers = -100"
   ]
  },
  {
   "cell_type": "code",
   "execution_count": 23,
   "id": "8d95962e",
   "metadata": {},
   "outputs": [
    {
     "name": "stdout",
     "output_type": "stream",
     "text": [
      "You are not yet born\n",
      "Wrong value\n"
     ]
    }
   ],
   "source": [
    "if numbers >= 18: # Перевірка умови, якщо True то переходить в блок коду, інші пропускає\n",
    "    print('You can go bar')\n",
    "elif numbers <= 0:\n",
    "    print('You are not yet born')\n",
    "    if numbers == -100:\n",
    "        print('Wrong value')\n",
    "    elif numbers == -50:\n",
    "        print(abs(numbers))\n",
    "        \n",
    "elif numbers >= 100:\n",
    "    print('Wrong age')\n",
    "elif numbers >= 0 and numbers <= 18:\n",
    "    print(f'Wait to go bar {18 - numbers} year')\n",
    "else:\n",
    "    print('Try again')\n",
    "    "
   ]
  },
  {
   "cell_type": "code",
   "execution_count": 24,
   "id": "5271f1df",
   "metadata": {},
   "outputs": [
    {
     "data": {
      "text/plain": [
       "5"
      ]
     },
     "execution_count": 24,
     "metadata": {},
     "output_type": "execute_result"
    }
   ],
   "source": []
  },
  {
   "cell_type": "code",
   "execution_count": 30,
   "id": "849567bc",
   "metadata": {},
   "outputs": [
    {
     "name": "stdout",
     "output_type": "stream",
     "text": [
      "True\n"
     ]
    }
   ],
   "source": [
    "### Ternar operator - work with 3 operands\n",
    "age =  45\n",
    "number = 15\n",
    "vote = True if age >= 18 else \\\n",
    "    True if number == 15 else 'Test' # Спочатку що повинно повернути, if умова else все що в іншому випадку \n",
    "print(vote)"
   ]
  },
  {
   "cell_type": "code",
   "execution_count": 31,
   "id": "fabf88e7",
   "metadata": {},
   "outputs": [
    {
     "name": "stdout",
     "output_type": "stream",
     "text": [
      "True\n"
     ]
    }
   ],
   "source": [
    "# Або \n",
    "vote = True\n",
    "if age >= 18:\n",
    "    vote = True\n",
    "else:\n",
    "    vote = False\n",
    "print(vote)"
   ]
  },
  {
   "cell_type": "code",
   "execution_count": 32,
   "id": "00a23ff7",
   "metadata": {},
   "outputs": [],
   "source": [
    "vote = True if age >= 18 else False"
   ]
  },
  {
   "cell_type": "code",
   "execution_count": 35,
   "id": "2ba6bbf0",
   "metadata": {},
   "outputs": [
    {
     "name": "stdout",
     "output_type": "stream",
     "text": [
      "True\n"
     ]
    }
   ],
   "source": [
    "vote = (\n",
    "    True \n",
    "    if age >= 18 \n",
    "    else False\n",
    ")# Вказуємо в дужках, щоб Python розумім що це одна команда \n",
    "print(vote)"
   ]
  },
  {
   "cell_type": "code",
   "execution_count": null,
   "id": "ae21bcee",
   "metadata": {},
   "outputs": [],
   "source": []
  },
  {
   "cell_type": "code",
   "execution_count": null,
   "id": "438ecd51",
   "metadata": {},
   "outputs": [],
   "source": []
  },
  {
   "cell_type": "markdown",
   "id": "fe6fbe1a",
   "metadata": {},
   "source": [
    "**Practice section 1**\n",
    "\n",
    "Figure out the result of the following expressions:\n",
    "> a) (1 <= 1) and (1 != 1)     \n",
    "> b) not (1 != 2)   \n",
    "> c) (\"good\" != \"bad\") or False    \n",
    "> d) (\"good\" != \"Good\") and not (1 == 1)\n",
    "     \n",
    "    \n",
    "Make all of them True by adding parentheses:\n",
    "> a) False == not True \n",
    "\n",
    "> b) True and False == True and False\n",
    "\n",
    "> c) not True and \"A\" == \"B\""
   ]
  },
  {
   "cell_type": "code",
   "execution_count": null,
   "id": "2e37e6b3",
   "metadata": {},
   "outputs": [],
   "source": []
  },
  {
   "cell_type": "code",
   "execution_count": null,
   "id": "e4179b62",
   "metadata": {},
   "outputs": [],
   "source": []
  },
  {
   "cell_type": "markdown",
   "id": "bdde557b",
   "metadata": {},
   "source": [
    "### Match/case - співставлення з шаблоном/паттерном\n",
    "**match** # Ключове слово, після нього пише змінну по якій буде шукати патерн \n",
    "\n",
    "**case** # Ключове слово для створення розгалуження, після цього слова вписуємо патерн з яким буде порівняння\n",
    "\n",
    "**case _** # Вказати всі інші випадки"
   ]
  },
  {
   "cell_type": "code",
   "execution_count": 42,
   "id": "45c8572d",
   "metadata": {
    "scrolled": true
   },
   "outputs": [
    {
     "name": "stdout",
     "output_type": "stream",
     "text": [
      "Enter you name: Sasha\n"
     ]
    }
   ],
   "source": [
    "name_of_user = input('Enter you name: ')"
   ]
  },
  {
   "cell_type": "code",
   "execution_count": 37,
   "id": "85159bd9",
   "metadata": {},
   "outputs": [
    {
     "name": "stdout",
     "output_type": "stream",
     "text": [
      "Enter you age: 18\n"
     ]
    }
   ],
   "source": [
    "age_of_user = input('Enter you age: ')"
   ]
  },
  {
   "cell_type": "code",
   "execution_count": 51,
   "id": "ed6209ab",
   "metadata": {},
   "outputs": [
    {
     "name": "stdout",
     "output_type": "stream",
     "text": [
      "Enter des: 124\n",
      "124\n"
     ]
    }
   ],
   "source": [
    "des = input('Enter des: ') \n",
    "print(des)"
   ]
  },
  {
   "cell_type": "code",
   "execution_count": 54,
   "id": "92f17396",
   "metadata": {},
   "outputs": [
    {
     "name": "stdout",
     "output_type": "stream",
     "text": [
      "I don't know what you want\n"
     ]
    }
   ],
   "source": [
    "match des: # Вказуємо для якої змінної буде шукати шаблог\n",
    "    case 'print': # Шаблон print\n",
    "        print(f'Hello {name_of_user} \\nYou {age_of_user} years old')\n",
    "    case 'play':\n",
    "        print('Play music')\n",
    "    case _ : # Шаблон якщо попередні шаблони не виконались\n",
    "        print('I don\\'t know what you want')"
   ]
  },
  {
   "cell_type": "code",
   "execution_count": null,
   "id": "97a19ccc",
   "metadata": {},
   "outputs": [],
   "source": []
  },
  {
   "cell_type": "code",
   "execution_count": 1,
   "id": "0fb40664",
   "metadata": {},
   "outputs": [
    {
     "name": "stdout",
     "output_type": "stream",
     "text": [
      "Egood\n"
     ]
    }
   ],
   "source": []
  },
  {
   "cell_type": "code",
   "execution_count": null,
   "id": "348c0cc8",
   "metadata": {},
   "outputs": [],
   "source": []
  },
  {
   "cell_type": "code",
   "execution_count": 67,
   "id": "d524b73d",
   "metadata": {},
   "outputs": [
    {
     "ename": "SyntaxError",
     "evalue": "invalid syntax (2485601225.py, line 4)",
     "output_type": "error",
     "traceback": [
      "\u001b[0;36m  Cell \u001b[0;32mIn [67], line 4\u001b[0;36m\u001b[0m\n\u001b[0;31m    Explain:\u001b[0m\n\u001b[0m            ^\u001b[0m\n\u001b[0;31mSyntaxError\u001b[0m\u001b[0;31m:\u001b[0m invalid syntax\n"
     ]
    }
   ],
   "source": [
    "# Task 1. Even or odd. Прийняти від користувача число, вивезти чи even/odd\n",
    "# Task 2. When provided with a number between 0-9, return it in words. Input :: 1 Output :: \"One\".\n",
    "# Task 3. Прийняти від користувача два числа і отримати дію над цими числами. Реалізувати +,-, /, *, /, ** \n",
    "Explain:\n",
    "   user_input = 6\n",
    "   user_second_input = 10\n",
    "   des = '+'\n",
    "Result:\n",
    "    print(user_input + user_second_input = 16(result))\n",
    "# Task 4. Прийняти від користувача name, surname. Вивезти ініціали. \n",
    "Explain:\n",
    "    name = 'Name'\n",
    "    surname = 'Surname'\n",
    "Result:\n",
    "    print(Name: Name, Surname: Surname, Init: N.S)"
   ]
  },
  {
   "cell_type": "code",
   "execution_count": 15,
   "id": "8703315a",
   "metadata": {},
   "outputs": [
    {
     "name": "stdout",
     "output_type": "stream",
     "text": [
      "Введіть число: 12\n",
      "Введіть число: 15\n",
      "Введіть дію: ))\n",
      "Try again!\n"
     ]
    }
   ],
   "source": [
    "num1, num2, des = int(input(\"Введіть число: \")), int(input(\"Введіть число: \")), input(\"Введіть дію: \")\n",
    "\n",
    "match des:\n",
    "    case '+':\n",
    "        print(f'{num1} + {num2} = {num1 + num2}')\n",
    "    case '-':\n",
    "        print(f'{num1} - {num2} = {num1 - num2}')\n",
    "    case '*':\n",
    "        print(f'{num1} * {num2} = {num1 * num2}')\n",
    "    case '/':\n",
    "        print(f'{num1} / {num2} = {num1 / num2}')\n",
    "    case '//':\n",
    "        print(f'{num1} // {num2} = {num1 // num2}')\n",
    "    case '**':\n",
    "        print(f'{num1} ** {num2} = {num1 ** num2}')\n",
    "    case _ :\n",
    "        print('Try again!')"
   ]
  },
  {
   "cell_type": "code",
   "execution_count": 3,
   "id": "244b8805",
   "metadata": {},
   "outputs": [
    {
     "name": "stdout",
     "output_type": "stream",
     "text": [
      "n112\n",
      "n212\n",
      "operation+\n"
     ]
    }
   ],
   "source": [
    "n1 = isinstance(int(input('n1')), int)\n",
    "n2 = isinstance(int(input('n2')), int)                 \n",
    "des = input('operation')\n",
    "\n",
    "if type(n1) == int and type(n2) == int:\n",
    "    match des:\n",
    "        case '+': print(n1 + n2)\n",
    "        case '-': print(n1 - n2)\n",
    "        case '/': print(n1/n2)\n",
    "        case '*': print(n1*n2)\n",
    "        case '**':print(n1**n2)\n",
    "        case _: print('bad input')"
   ]
  },
  {
   "cell_type": "markdown",
   "id": "eaa116cf",
   "metadata": {},
   "source": [
    "### Practice section 2\n",
    "\n",
    "1. Write a Python program that reads two integers representing a month and prints the season for that month. Get month from the user input.\n",
    "\n",
    "    Expected Output:\n",
    "\n",
    "    **Input the month:** october                     \n",
    "                                                     \n",
    "    Season is autumn\n",
    "\n",
    "\n",
    "2. Write a Python program to get next day of a given date. Get day, month and year from the user input.\n",
    "Expected Output:\n",
    "\n",
    "    **Input a year:** 2022                                                     \n",
    "    **Input a month [1-12]:** 8                                               \n",
    "    **Input a day [1-31]:** 23                                           \n",
    "    The next date is [yyyy-mm-dd] 2022-8-24\n",
    "\n",
    "3. Get a phrase from user input. Display whether the lenght of the string if longer than 5 characters, equal to 5 characters or shorter than 5 characters. Use if, elif, else for this.\n",
    "\n",
    "4. Get a positive number from user input. Find all factors of this number.\n",
    "    \n",
    "    Example:\n",
    "    - If the number is 6, the factors are: 1, 2, 3, 6\n",
    "    - If the number is 10, the factors are: 1, 2, 5, 10\n",
    "\n",
    "5. Write a Python program to check a triangle is equilateral, isosceles or scalene. Get all three sides from user input.\n",
    "\n",
    "    Note :\n",
    "    1. An equilateral triangle is a triangle in which all three sides are equal.\n",
    "    2. A scalene triangle is a triangle that has three unequal sides.\n",
    "    3. An isosceles triangle is a triangle with (at least) two equal sides."
   ]
  },
  {
   "cell_type": "code",
   "execution_count": null,
   "id": "b205c761",
   "metadata": {},
   "outputs": [],
   "source": []
  },
  {
   "cell_type": "markdown",
   "id": "815e30f7",
   "metadata": {},
   "source": [
    "### Loops - while, for\n",
    "Якщо потрібно виконувати декілько разів код, по потрібні цикли. \n",
    "Існує два типи: while - де потрібно умова для виконання, та for - для проходження ітеративно(крок за кроком)"
   ]
  },
  {
   "cell_type": "markdown",
   "id": "459e2b45",
   "metadata": {},
   "source": [
    "##### Загальна конструкція:\n",
    "    Ключове слово - умова по якій повино виконуватись \n",
    "    while True:\n",
    "       # Тіло циклу, якщо в нас нескінченний цикл потрібен завжди оператор перериванія"
   ]
  },
  {
   "cell_type": "code",
   "execution_count": null,
   "id": "4975a08e",
   "metadata": {},
   "outputs": [],
   "source": [
    "while True:\n",
    "    print('Inf loop')"
   ]
  },
  {
   "cell_type": "code",
   "execution_count": 16,
   "id": "991d50f4",
   "metadata": {},
   "outputs": [
    {
     "name": "stdout",
     "output_type": "stream",
     "text": [
      "1\n",
      "2\n",
      "3\n",
      "4\n",
      "5\n",
      "End\n"
     ]
    }
   ],
   "source": [
    "iteration = 1\n",
    "while iteration <= 5: # умова припинення виконання\n",
    "    print(iteration)\n",
    "    iteration += 1 # змінуємо нашу змінну щоб цикл могли вийти із циклу\n",
    "    \n",
    "print('End')"
   ]
  },
  {
   "cell_type": "code",
   "execution_count": null,
   "id": "5971fb0e",
   "metadata": {},
   "outputs": [],
   "source": []
  },
  {
   "cell_type": "code",
   "execution_count": 18,
   "id": "251b5aca",
   "metadata": {},
   "outputs": [
    {
     "name": "stdout",
     "output_type": "stream",
     "text": [
      "2\n",
      "iteration is 3\n",
      "4\n",
      "iteration is 5\n",
      "6\n",
      "End\n"
     ]
    }
   ],
   "source": [
    "iteration = 1\n",
    "while iteration <= 5: # умова припинення виконання\n",
    "    iteration += 1 # змінуємо нашу змінну щоб цикл могли вийти із циклу\n",
    "    if iteration == 3 or iteration == 5:\n",
    "        print(f'iteration is {iteration}')\n",
    "    else:\n",
    "        print(iteration)\n",
    "else: # Опціонально, майже не використовується \n",
    "    print('End')"
   ]
  },
  {
   "cell_type": "code",
   "execution_count": 20,
   "id": "58ddafaf",
   "metadata": {},
   "outputs": [
    {
     "name": "stdout",
     "output_type": "stream",
     "text": [
      "Enter a positive number: -5\n",
      "That's not a positive number!\n",
      "Enter a positive number: -10\n",
      "That's not a positive number!\n",
      "Enter a positive number: 10\n",
      "Good job!\n"
     ]
    }
   ],
   "source": [
    "num = float(input(\"Enter a positive number: \"))\n",
    "while num <= 0:\n",
    "    print(\"That's not a positive number!\")\n",
    "    num = float(input(\"Enter a positive number: \"))\n",
    "\n",
    "print(\"Good job!\")"
   ]
  },
  {
   "cell_type": "code",
   "execution_count": 24,
   "id": "123b4151",
   "metadata": {},
   "outputs": [
    {
     "name": "stdout",
     "output_type": "stream",
     "text": [
      "Current letter: P\n",
      "Current letter: r\n",
      "Current letter: o\n",
      "Current letter: j\n",
      "Current letter: e\n",
      "Current letter: c\n",
      "Current letter: t\n",
      "Current letter: o\n",
      "Current letter: r\n"
     ]
    }
   ],
   "source": [
    "word = \"Projector\"\n",
    "index = 0\n",
    "while index < len(word): # Умова для проходження по ітер  типу даних\n",
    "    print(f'Current letter: {word[index]}') # Звертаємось до символу під індексом\n",
    "    index += 1"
   ]
  },
  {
   "cell_type": "code",
   "execution_count": null,
   "id": "008fca33",
   "metadata": {},
   "outputs": [],
   "source": []
  },
  {
   "cell_type": "markdown",
   "id": "44448366",
   "metadata": {},
   "source": [
    "### for - loops\n",
    "Використовуємо для проходження по масиву/строкам  etc.\n",
    "\n",
    "Конструкція:\n",
    "    # ключове слово для циклу,\n",
    "    \n",
    "    for назва змінної in по чому будемо проходити:\n",
    "        тіло циклу"
   ]
  },
  {
   "cell_type": "code",
   "execution_count": 15,
   "id": "165b9cd7",
   "metadata": {},
   "outputs": [
    {
     "name": "stdout",
     "output_type": "stream",
     "text": [
      "S\n",
      "o\n",
      "m\n",
      "e\n",
      " \n",
      "n\n",
      "a\n",
      "m\n",
      "e\n"
     ]
    }
   ],
   "source": [
    "name = 'Some name'\n",
    "for i in name:\n",
    "    print(i)"
   ]
  },
  {
   "cell_type": "code",
   "execution_count": 25,
   "id": "f90246b8",
   "metadata": {},
   "outputs": [
    {
     "ename": "TypeError",
     "evalue": "'int' object is not iterable",
     "output_type": "error",
     "traceback": [
      "\u001b[0;31m---------------------------------------------------------------------------\u001b[0m",
      "\u001b[0;31mTypeError\u001b[0m                                 Traceback (most recent call last)",
      "Cell \u001b[0;32mIn [25], line 1\u001b[0m\n\u001b[0;32m----> 1\u001b[0m \u001b[38;5;28;01mfor\u001b[39;00m i \u001b[38;5;129;01min\u001b[39;00m \u001b[38;5;241m18\u001b[39m:\n\u001b[1;32m      2\u001b[0m     \u001b[38;5;28mprint\u001b[39m(i)\n",
      "\u001b[0;31mTypeError\u001b[0m: 'int' object is not iterable"
     ]
    }
   ],
   "source": [
    "for i in 18:\n",
    "    print(i)"
   ]
  },
  {
   "cell_type": "code",
   "execution_count": null,
   "id": "26f6369c",
   "metadata": {},
   "outputs": [],
   "source": [
    "a = 18\n",
    "index = 0\n",
    "while index < len(a): # Помилка число не має фукнції len\n",
    "    print(a[index]) # не має індексів\n",
    "    index += 1 "
   ]
  },
  {
   "cell_type": "markdown",
   "id": "159b7a6e",
   "metadata": {},
   "source": [
    "### Range function - [start, stop, step]\n",
    "Дозволяє створювати послідовність "
   ]
  },
  {
   "cell_type": "code",
   "execution_count": 26,
   "id": "578c967b",
   "metadata": {},
   "outputs": [
    {
     "name": "stdout",
     "output_type": "stream",
     "text": [
      "0\n",
      "1\n",
      "2\n",
      "3\n",
      "4\n",
      "5\n",
      "6\n",
      "7\n",
      "8\n",
      "9\n"
     ]
    }
   ],
   "source": [
    "test_range = range(10) # Якщо один параметр - то повино бути значення до куди(stop)\n",
    "for i in test_range:\n",
    "    print(i)"
   ]
  },
  {
   "cell_type": "code",
   "execution_count": 28,
   "id": "463a3967",
   "metadata": {},
   "outputs": [
    {
     "name": "stdout",
     "output_type": "stream",
     "text": [
      "0\n",
      "1\n",
      "2\n",
      "3\n",
      "4\n",
      "5\n",
      "6\n",
      "7\n",
      "8\n",
      "9\n"
     ]
    }
   ],
   "source": [
    "test_range = range(0, 10) # Якщо два параметри - то повино бути значення start, stop, де start < stop\n",
    "for i in test_range:\n",
    "    print(i)"
   ]
  },
  {
   "cell_type": "code",
   "execution_count": 29,
   "id": "f2ecce8b",
   "metadata": {},
   "outputs": [
    {
     "name": "stdout",
     "output_type": "stream",
     "text": [
      "0\n",
      "2\n",
      "4\n",
      "6\n",
      "8\n"
     ]
    }
   ],
   "source": [
    "for i in  range(0, 10, 2): # якщо три параметри то повинно бути start, stop, step\n",
    "    print(i)"
   ]
  },
  {
   "cell_type": "code",
   "execution_count": 34,
   "id": "d5410d2b",
   "metadata": {},
   "outputs": [
    {
     "name": "stdout",
     "output_type": "stream",
     "text": [
      "10\n",
      "9\n",
      "8\n",
      "7\n",
      "6\n",
      "5\n",
      "4\n",
      "3\n",
      "2\n"
     ]
    }
   ],
   "source": [
    "for i in range(10, 1, -1):\n",
    "    print(i)"
   ]
  },
  {
   "cell_type": "code",
   "execution_count": 62,
   "id": "24ed3b72",
   "metadata": {},
   "outputs": [
    {
     "ename": "TypeError",
     "evalue": "'float' object cannot be interpreted as an integer",
     "output_type": "error",
     "traceback": [
      "\u001b[0;31m---------------------------------------------------------------------------\u001b[0m",
      "\u001b[0;31mTypeError\u001b[0m                                 Traceback (most recent call last)",
      "Cell \u001b[0;32mIn [62], line 1\u001b[0m\n\u001b[0;32m----> 1\u001b[0m \u001b[38;5;28;01mfor\u001b[39;00m i \u001b[38;5;129;01min\u001b[39;00m \u001b[38;5;28;43mrange\u001b[39;49m\u001b[43m(\u001b[49m\u001b[38;5;241;43m3.14\u001b[39;49m\u001b[43m)\u001b[49m: \u001b[38;5;66;03m# Numpy якщо потрібна послідовність не цілих чисел\u001b[39;00m\n\u001b[1;32m      2\u001b[0m     \u001b[38;5;28mprint\u001b[39m(i)\n",
      "\u001b[0;31mTypeError\u001b[0m: 'float' object cannot be interpreted as an integer"
     ]
    }
   ],
   "source": [
    "for i in range(3.14): # Numpy якщо потрібна послідовність не цілих чисел\n",
    "    print(i)"
   ]
  },
  {
   "cell_type": "code",
   "execution_count": 66,
   "id": "e86b7579",
   "metadata": {},
   "outputs": [
    {
     "name": "stdout",
     "output_type": "stream",
     "text": [
      "Input number: -5\n",
      "Input number of iteration: 5\n",
      "Wrong input\n"
     ]
    }
   ],
   "source": [
    "number = input('Input number: ')\n",
    "iter = input('Input number of iteration: ')\n",
    "if number.isdigit() and iter.isdigit():\n",
    "    num = int(number)\n",
    "    iter = int(iter)\n",
    "    for i in range(iter):\n",
    "        num *= 2\n",
    "        print(num)\n",
    "else: \n",
    "    print('Wrong input')"
   ]
  },
  {
   "cell_type": "code",
   "execution_count": 53,
   "id": "d30d06d8",
   "metadata": {},
   "outputs": [
    {
     "name": "stdout",
     "output_type": "stream",
     "text": [
      "Enter number12\n",
      "Number\n"
     ]
    }
   ],
   "source": [
    "number = input('Enter number')\n",
    "if number.isdigit():\n",
    "    print('Number')\n",
    "    num = int(number)\n",
    "else:\n",
    "    print('Wrong')"
   ]
  },
  {
   "cell_type": "markdown",
   "id": "1a7aaf7f",
   "metadata": {},
   "source": [
    "### Practice section 3:\n",
    "\n",
    "1. Write a for loop that prints out the integers from 2 to 10, each on a new line, by using the range() function.\n",
    "\n",
    "2. Use a while loop that prints out the integers from 2 to 10\n",
    "\n",
    "3. Write a program that takes number as its input and doubles that number few times in a loop. Number of iterations and initial number should be taken from user input. You should display each result on a separate line. Here is some sample output:\n",
    "    ```\n",
    "    Input:\n",
    "    initial number: 2\n",
    "    number of iterations: 5\n",
    "\n",
    "    Output:\n",
    "    4\n",
    "    8\n",
    "    16\n",
    "    32\n",
    "    64\n",
    "    ```\n",
    "4. Write a program that caluculate Fibonacci series. The Fibonacci series is a series of numbers in which each number is the sum of the two preceding numbers. The first two numbers are 1 and 1. The third number is 1 + 1 = 2, the fourth number is 1 + 2 = 3, and so on. Number of iterations should be taken from user input.\n",
    "5. Write a program that takes a number as input and revert it using math operators. You might use result of the exercise from the first lesson. Here you should be able to do it not only for three-digit numbers, but for any numbers."
   ]
  },
  {
   "cell_type": "markdown",
   "id": "20933079",
   "metadata": {},
   "source": [
    "### Оператори переривання break/continue \n",
    "break - вийти з циклу та перейти до наступного блоку\n",
    "\n",
    "continue - пропустити ітерацію "
   ]
  },
  {
   "cell_type": "code",
   "execution_count": 35,
   "id": "5c1580cc",
   "metadata": {},
   "outputs": [
    {
     "name": "stdout",
     "output_type": "stream",
     "text": [
      "Stop iteration when find % more text we can't see\n"
     ]
    }
   ],
   "source": [
    "string = 'Stop iteration when find % more text we can\\'t see'\n",
    "print(string)"
   ]
  },
  {
   "cell_type": "code",
   "execution_count": 36,
   "id": "8e377216",
   "metadata": {},
   "outputs": [
    {
     "name": "stdout",
     "output_type": "stream",
     "text": [
      "S\n",
      "t\n",
      "o\n",
      "p\n",
      " \n",
      "i\n",
      "t\n",
      "e\n",
      "r\n",
      "a\n",
      "t\n",
      "i\n",
      "o\n",
      "n\n",
      " \n",
      "w\n",
      "h\n",
      "e\n",
      "n\n",
      " \n",
      "f\n",
      "i\n",
      "n\n",
      "d\n",
      " \n",
      "%%%%%%%%%%%%%%%%%%%%%%%%%%%%%%%%%%%%%%%%%%%%%\n",
      "%\n",
      " \n",
      "m\n",
      "o\n",
      "r\n",
      "e\n",
      " \n",
      "t\n",
      "e\n",
      "x\n",
      "t\n",
      " \n",
      "w\n",
      "e\n",
      " \n",
      "c\n",
      "a\n",
      "n\n",
      "'\n",
      "t\n",
      " \n",
      "s\n",
      "e\n",
      "e\n",
      "End loop and go next stage\n",
      "After loop create a 15\n"
     ]
    }
   ],
   "source": [
    "for i in string:\n",
    "    if i == '%':\n",
    "        print('%' * 45)\n",
    "        break # stop loop and go next \n",
    "    print(i)\n",
    "    \n",
    "print('End loop and go next stage')\n",
    "\n",
    "a = 15\n",
    "print(f'After loop create a {a}')"
   ]
  },
  {
   "cell_type": "code",
   "execution_count": 86,
   "id": "05dc355b",
   "metadata": {},
   "outputs": [
    {
     "name": "stdout",
     "output_type": "stream",
     "text": [
      "S\n",
      "t\n",
      "o\n",
      "p\n",
      " \n",
      "i\n",
      "t\n",
      "e\n",
      "r\n",
      "a\n",
      "t\n",
      "i\n",
      "o\n",
      "n\n",
      " \n",
      "w\n",
      "h\n",
      "e\n",
      "n\n",
      " \n",
      "f\n",
      "i\n",
      "n\n",
      "d\n",
      " \n",
      "%%%%%%%%%%%%%%%%%%%%%%%%%%%%%%%%%%%%%%%%%%%%%\n",
      "End loop and go next stage\n",
      "After loop create a 15\n"
     ]
    }
   ],
   "source": [
    "for i in string:\n",
    "    if i == '%':\n",
    "        print('%' * 45)\n",
    "        break # stop loop and go next \n",
    "    print(i)\n",
    "\n",
    "print('End loop and go next stage')\n",
    "\n",
    "a = 15\n",
    "print(f'After loop create a {a}')"
   ]
  },
  {
   "cell_type": "code",
   "execution_count": 43,
   "id": "5e53f7d8",
   "metadata": {},
   "outputs": [
    {
     "name": "stdout",
     "output_type": "stream",
     "text": [
      "1\n",
      "2\n",
      "3\n",
      "4\n",
      "6\n",
      "7\n",
      "8\n",
      "9\n",
      "11\n",
      "12\n",
      "13\n",
      "14\n",
      "16\n"
     ]
    }
   ],
   "source": [
    "for i in range(0, 17):\n",
    "    if i % 5 == 0:\n",
    "        continue # Пропускає дану умову і повертається на початок \n",
    "    print(i)"
   ]
  },
  {
   "cell_type": "code",
   "execution_count": 44,
   "id": "63cdb710",
   "metadata": {},
   "outputs": [
    {
     "name": "stdout",
     "output_type": "stream",
     "text": [
      "0\n",
      "1\n",
      "2\n",
      "3\n",
      "4\n",
      "The for loop is over\n"
     ]
    }
   ],
   "source": [
    "for i in range(5):\n",
    "    print(i)\n",
    "else: \n",
    "    print('The for loop is over')"
   ]
  },
  {
   "cell_type": "code",
   "execution_count": null,
   "id": "aea0e16b",
   "metadata": {},
   "outputs": [],
   "source": []
  },
  {
   "cell_type": "code",
   "execution_count": null,
   "id": "192247b7",
   "metadata": {},
   "outputs": [],
   "source": []
  },
  {
   "cell_type": "markdown",
   "id": "74d412be",
   "metadata": {},
   "source": [
    "### Practice section 4\n",
    "\n",
    "1. Write a program that always asks user to input somethings. Quit only if user inputs 'q' or 'Q'.\n",
    "2. Write a program that iterated from 0 to 100 and prints out the number if it is divisible by 3.\n",
    "3. Get a number from user input and iterate from 0 to that number. \n",
    "    \n",
    "    1. Print 'foo' if the number is divisible by 3. \n",
    "    2. Print 'bar' if the number is divisible by 5. \n",
    "    3. Print 'foobar' if the number is divisible by both 3 and 5.\n",
    "\n"
   ]
  },
  {
   "cell_type": "code",
   "execution_count": null,
   "id": "42c943ab",
   "metadata": {},
   "outputs": [],
   "source": []
  },
  {
   "cell_type": "code",
   "execution_count": null,
   "id": "59111c65",
   "metadata": {},
   "outputs": [],
   "source": []
  },
  {
   "cell_type": "code",
   "execution_count": null,
   "id": "ba92a7af",
   "metadata": {},
   "outputs": [],
   "source": []
  },
  {
   "cell_type": "code",
   "execution_count": null,
   "id": "03ea277b",
   "metadata": {},
   "outputs": [],
   "source": []
  },
  {
   "cell_type": "code",
   "execution_count": null,
   "id": "90e2ef9a",
   "metadata": {},
   "outputs": [],
   "source": []
  },
  {
   "cell_type": "code",
   "execution_count": null,
   "id": "1c66c14d",
   "metadata": {},
   "outputs": [],
   "source": []
  },
  {
   "cell_type": "code",
   "execution_count": null,
   "id": "c65e2ebf",
   "metadata": {},
   "outputs": [],
   "source": []
  }
 ],
 "metadata": {
  "kernelspec": {
   "display_name": "Python 3 (ipykernel)",
   "language": "python",
   "name": "python3"
  },
  "language_info": {
   "codemirror_mode": {
    "name": "ipython",
    "version": 3
   },
   "file_extension": ".py",
   "mimetype": "text/x-python",
   "name": "python",
   "nbconvert_exporter": "python",
   "pygments_lexer": "ipython3",
   "version": "3.10.8"
  }
 },
 "nbformat": 4,
 "nbformat_minor": 5
}
